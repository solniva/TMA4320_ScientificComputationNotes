{
 "cells": [
  {
   "cell_type": "markdown",
   "metadata": {
    "editable": true,
    "slideshow": {
     "slide_type": "slide"
    },
    "tags": []
   },
   "source": [
    "# Polynomial interpolation\n",
    "\n",
    "## Introduction\n",
    "Polynomials can be used to approximate functions over some bounded\n",
    "interval $x \\in [a,b]$. Such polynomials can be used for different purposes.\n",
    "The function itself may be unknown, and only measured data are available. In\n",
    "this case, a polynomial may be used to find approximations to intermediate\n",
    "values of the function. Polynomials are\n",
    "easy to integrate, and can be used to find approximations of integrals of more complicated\n",
    "functions. This will be exploited later in the course. And there are plenty of other applications."
   ]
  },
  {
   "cell_type": "markdown",
   "metadata": {
    "editable": true,
    "slideshow": {
     "slide_type": "slide"
    },
    "tags": []
   },
   "source": [
    "Let's consider the following problem. The estimated mean atmospheric concentration of carbon dioxide in the earth's atmosphere\n",
    "is given in the following table.\n",
    "\n",
    "|    year       |   CO2 (ppm)    |\n",
    "| :------------ | :------------- |\n",
    "|     1800      |      280       |\n",
    "|     1850      |      283       |\n",
    "|     1900      |      291       |\n",
    "|     2000      |      370       |"
   ]
  },
  {
   "cell_type": "markdown",
   "metadata": {
    "editable": true,
    "slideshow": {
     "slide_type": "slide"
    },
    "tags": []
   },
   "source": [
    "Is there a simple method to estimate the $\\mathrm{CO}_2$ concentration on (a) 1950 and (b) 2050?\n",
    "\n",
    "This is where **interpolation polynomials** comes into play!"
   ]
  },
  {
   "cell_type": "markdown",
   "metadata": {
    "editable": true,
    "slideshow": {
     "slide_type": "slide"
    },
    "tags": []
   },
   "source": [
    "Interpolation problem\n",
    "\n",
    "Given $n+1$ points $(x_i,y_i)_{i=0}^n$, find a polynomial $p(x)$ of\n",
    "lowest possible degree satisfying the **interpolation condition**\n",
    "\n",
    "$$\n",
    "    p(x_i) = y_i,\\qquad i=0,\\dotsc, n. \n",
    "$$ (interpol-condition) \n",
    "\n",
    "\n",
    "The solution $p(x)$ is called the **interpolation polynomial**, the $x_i$ values\n",
    "are called **nodes**, and the points $(x_i,y_i)$ **interpolation points**."
   ]
  },
  {
   "cell_type": "markdown",
   "metadata": {
    "editable": true,
    "slideshow": {
     "slide_type": "slide"
    },
    "tags": []
   },
   "source": [
    "Eksempel: ex-interpol-I\n",
    "\n",
    "Given are the points\n",
    "\n",
    "$$\n",
    "\\begin{array}{c|c|c|c}\n",
    "x_i & 0 & 2/3 & 1 \\\\ \\hline\n",
    "y_i & 1 & 1/2 & 0 \n",
    "\\end{array}.\n",
    "$$\n",
    "\n",
    "The corresponding interpolation polynomial is\n",
    "\n",
    "$$\n",
    "p_2(x)=(-3x^2-x+4)/4\n",
    "$$\n",
    "\n",
    "The $y$-values of this example are chosen such that $y_i=\\cos{(\\pi x_i/2)}$.  So\n",
    "$p_2(x)$ can be considered as an approximation to $\\cos{(\\pi x/2)}$ on the interval\n",
    "$[0,1]$."
   ]
  },
  {
   "cell_type": "markdown",
   "metadata": {
    "editable": true,
    "slideshow": {
     "slide_type": "slide"
    },
    "tags": []
   },
   "source": [
    "To visualize this, we need to import some modules first, using the following boilerplate code."
   ]
  },
  {
   "cell_type": "code",
   "execution_count": null,
   "metadata": {
    "editable": true,
    "slideshow": {
     "slide_type": "fragment"
    },
    "tags": []
   },
   "outputs": [],
   "source": [
    "#%matplotlib widget\n",
    "import numpy as np\n",
    "from numpy import pi\n",
    "from numpy.linalg import solve, norm    # Solve linear systems and compute norms\n",
    "import matplotlib.pyplot as plt\n",
    "\n",
    "newparams = {'figure.figsize': (6.0, 6.0), 'axes.grid': True,\n",
    "             'lines.markersize': 8, 'lines.linewidth': 2,\n",
    "             'font.size': 14}\n",
    "plt.rcParams.update(newparams)"
   ]
  },
  {
   "cell_type": "code",
   "execution_count": null,
   "metadata": {
    "editable": true,
    "slideshow": {
     "slide_type": "slide"
    },
    "tags": []
   },
   "outputs": [],
   "source": [
    "# Interpolation data\n",
    "xdata = [0,2/3., 1]\n",
    "ydata = [1, 1/2., 0]\n",
    "\n",
    "# Interpolation polynomial\n",
    "p2 = lambda x : (-3*x**2 -x + 4)/4.\n",
    "\n",
    "# Grid points for plotting\n",
    "x = np.linspace(0,1,100)\n",
    "y = p2(x)\n",
    "\n",
    "# Original function\n",
    "f = np.cos(pi*x/2)\n",
    "\n",
    "plt.figure()\n",
    "plt.plot(x,f, 'c',x,y,'--m', xdata, ydata, \"ok\")\n",
    "plt.legend([r'$\\cos(\\pi x/2)$', r'$p_2(x)$', 'Interpolation data'])\n",
    "plt.show()"
   ]
  },
  {
   "cell_type": "markdown",
   "metadata": {
    "editable": true,
    "slideshow": {
     "slide_type": "slide"
    },
    "tags": []
   },
   "source": [
    "**Content of this module**\n",
    "\n",
    "In this module, we will discuss the following:\n",
    "\n",
    "* Method: How to compute the polynomials?\n",
    "\n",
    "* Existence and uniqueness results. \n",
    "\n",
    "* Error analysis: If the polynomial is used to approximate a function, how good is the approximation?\n",
    "\n",
    "* Improvements: If the nodes $x_i$ can be chosen freely, how should we do it in order to reduce the error?"
   ]
  },
  {
   "cell_type": "markdown",
   "metadata": {
    "editable": true,
    "slideshow": {
     "slide_type": "slide"
    },
    "tags": []
   },
   "source": [
    "## Preliminaries\n",
    "\n",
    "<font color='LightSkyBlue'>\n",
    "\n",
    "Let us start with some useful notation and facts about polynomials.\n",
    "\n",
    "</font>\n",
    "\n",
    "* A polynomial of degree $n$ is given by\n",
    "\n",
    "\\begin{equation} \n",
    " p_n(x) = c_{n}x^n + c_{n-1}x^{n-1} + \\cdots + c_1 x_1 + c_0, \\qquad  c_i \\in\n",
    "\\mathbb{R}, \\quad i=0,1,\\dotsc,n.\n",
    "\\end{equation}\n",
    "\n",
    "* $\\mathbb{P}_n$ is the set of all polynomials of degree $n$.\n",
    "\n",
    "* $C^m[a,b]$ is the set of all continuous functions that have continuous first $m$ derivatives."
   ]
  },
  {
   "cell_type": "markdown",
   "metadata": {
    "editable": true,
    "slideshow": {
     "slide_type": "fragment"
    },
    "tags": []
   },
   "source": [
    "* The value $r$ is a root or a zero of a polynomial $p$ if $p(r)=0$.  \n",
    "\n",
    "* A nonzero polynomial of degree $n$ can never have more than $n$ real roots (there may be less). <font color='green'>\n",
    "dersom polynomet har mer enn $n$ reelle røtter, er polynomet = 0\n",
    "\n",
    "</font>\n",
    "\n",
    "* A polynomial of degree $n$ with $n$ real roots $r_1,r_2,\\dotsc,r_n$ can be written as\n",
    "\n",
    "$$\n",
    "p_n(x) = c(x-r_1)(x-r_2)\\dotsm(x-r_n) = c\\prod_{i=1}^n(x-r_i).\n",
    "$$"
   ]
  },
  {
   "cell_type": "markdown",
   "metadata": {
    "editable": true,
    "slideshow": {
     "slide_type": "slide"
    },
    "tags": []
   },
   "source": [
    "(sec:poly-interpol-direct)=\n",
    "## The direct approach\n",
    "For a polynomial of degree $n$ the interpolation condition is a linear system of \n",
    "$n+1$ equations in $n+1$ unknowns:\n",
    "\n",
    "$$\n",
    "\\sum_{i=0}^n x_j^i c_i = y_j, \\qquad j=0,\\dotsc, n.\n",
    "$$"
   ]
  },
  {
   "cell_type": "markdown",
   "metadata": {
    "editable": true,
    "slideshow": {
     "slide_type": "fragment"
    },
    "tags": []
   },
   "source": [
    "In other words, we try to solve the linear system\n",
    "\n",
    "$$\n",
    "\\underbrace{\n",
    "\\begin{pmatrix}\n",
    "1 & x_0 & x_0^2 & \\cdots & x_0^n\n",
    "\\\\\n",
    "1 & x_1 & x_1^2 & \\cdots & x_1^n\n",
    "\\\\\n",
    "\\vdots & \\vdots & \\vdots & \\ddots & \\vdots\n",
    "\\\\\n",
    "1 & x_n & x_n^2 & \\cdots & x_n^n\n",
    "\\end{pmatrix}\n",
    "}_{:= V(x_0, x_1, \\ldots, x_n)}\n",
    "\\begin{pmatrix}\n",
    "c_0\n",
    "\\\\\n",
    "c_1\n",
    "\\\\\n",
    "\\vdots\n",
    "\\\\\n",
    "c_n\n",
    "\\end{pmatrix}\n",
    "= \n",
    "\\begin{pmatrix}\n",
    "y_0\n",
    "\\\\\n",
    "y_1\n",
    "\\\\\n",
    "\\vdots\n",
    "\\\\\n",
    "y_n\n",
    "\\end{pmatrix}\n",
    "$$ (eq-vandermonde-sys)\n",
    "\n",
    "<font color='green'>\n",
    "\n",
    "$$\n",
    "\\Rightarrow\n",
    "\\begin{pmatrix}\n",
    "c_0 + x_0 c_1 + \\cdots + x_0 ^n c_n\n",
    "\\\\\n",
    "c_0 + x_1 c_1 + \\cdots + x_1 ^n c_n\n",
    "\\\\\n",
    "\\vdots\n",
    "\\\\\n",
    "c_0 + x_n c_1 + \\cdots + x_n ^n c_n\n",
    "\\end{pmatrix}\n",
    "= \n",
    "\\begin{pmatrix}\n",
    "y_0\n",
    "\\\\\n",
    "y_1\n",
    "\\\\\n",
    "\\vdots\n",
    "\\\\\n",
    "y_n\n",
    "\\end{pmatrix}.\n",
    "$$\n",
    "\n",
    "</font>"
   ]
  },
  {
   "cell_type": "markdown",
   "metadata": {
    "editable": true,
    "slideshow": {
     "slide_type": "slide"
    },
    "tags": []
   },
   "source": [
    "$V(x_0, x_1, \\ldots, x_n)$ denotes the so-called [Vandermonde matrix](https://en.wikipedia.org/wiki/Vandermonde_matrix).\n",
    "It can be shown that \n",
    "\n",
    "$$\n",
    "\\det V(x_0, x_1, \\ldots, x_n) = \\prod_{0\\leqslant i < j \\leqslant n} (x_j - x_i)\n",
    "$$\n",
    "\n",
    "Consequently, $\\det V \\neq 0$ for $n$ *distinct* nodes $\\{x_i\\}_{i=0}^n$ and thus the linear system is uniquely solvable. <font color='green'> dersom vi kun har unike x-verdier vi skal interpolere fra, får vi en unik løsning når vi løser dette likningssettet.</font>"
   ]
  },
  {
   "cell_type": "markdown",
   "metadata": {
    "editable": true,
    "slideshow": {
     "slide_type": "slide"
    },
    "tags": []
   },
   "source": [
    "If we are basically interested in the polynomials themself, given by the coefficients $c_i$, $i=0,1,\\dotsc, n$, this is a perfectly fine solution. It is for instance the strategy implemented in MATLAB's interpolation routines. However, in this course, polynomial interpolation will be used as a basic tool to construct other algorithms, in particular for integration. In that case, this is not the most convenient option, so we concentrate on a different strategy, which essentially makes it possible to just write up the polynomials."
   ]
  },
  {
   "cell_type": "markdown",
   "metadata": {
    "editable": true,
    "slideshow": {
     "slide_type": "slide"
    },
    "tags": []
   },
   "source": [
    "## Lagrange interpolation\n",
    "\n",
    "Definisjon: def-lagrange-polys\n",
    "\n",
    "Given $n+1$ points  $(x_i,y_i)_{i=0}^n$ with distinct $x_i$ values. \n",
    "\n",
    "<font color='LightSkyBlue'>\n",
    "\n",
    "The **cardinal functions** are defined by\n",
    "\n",
    "$$\n",
    "\\ell_i(x) = \\prod_{j=0, j\\not=i}^n \\frac{x-x_j}{x_i-x_j}\n",
    "  = \\frac{x-x_0}{x_i-x_0} \\dotsm \\frac{x-x_{i-1}}{x_i-x_{i-1}}\\cdot \\frac{x-x_{i+1}}{x_i-x_{i+1}} \\dotsm \\frac{x-x_n}{x_i-x_n} , \\qquad i=0,\\dotsc,n.\n",
    "$$\n",
    "\n",
    "</font>"
   ]
  },
  {
   "cell_type": "markdown",
   "metadata": {
    "editable": true,
    "slideshow": {
     "slide_type": "slide"
    },
    "tags": []
   },
   "source": [
    "Observasjon: my-observation\n",
    "\n",
    "The cardinal functions have the following properties:\n",
    "* $\\ell_i \\in \\mathbb{P}_n$, $i=0,1,\\dotsc,n$.\n",
    "\n",
    "* $\\ell_i(x_j) = \\delta_{ij} = \\begin{cases} 1, & \\text{when } i=j \\\\ 0, & \\text{when }i\\not=j \\end{cases}$.\n",
    "\n",
    "* They are constructed solely from the nodes $x_i$'s.\n",
    "\n",
    "* They are linearly independent, and thus form a basis for $\\mathbb{P}_{n}$.\n",
    "\n",
    "\n",
    "The cardinal functions are also often called  **Lagrange polynomials**."
   ]
  },
  {
   "cell_type": "markdown",
   "metadata": {
    "editable": true,
    "slideshow": {
     "slide_type": "slide"
    },
    "tags": []
   },
   "source": [
    "The interpolation polynomial is now given by\n",
    "\n",
    "<font color='LightSkyBlue'>\n",
    "\n",
    "$$\n",
    "p_n(x) = \\sum_{i=0}^n y_i \\ell_i(x)\n",
    "$$\n",
    "\n",
    "</font>\n",
    "\n",
    "since\n",
    "\n",
    "$$\n",
    "p_n(x_j) = \\sum_{i=0}^n y_i \\ell_i(x_j) = y_j, \\qquad j=0,\\dotsc,n.\n",
    "$$"
   ]
  },
  {
   "attachments": {},
   "cell_type": "markdown",
   "metadata": {
    "editable": true,
    "slideshow": {
     "slide_type": "slide"
    },
    "tags": []
   },
   "source": [
    "Eksempel: exam-interpol-I\n",
    "\n",
    "Given the points:\n",
    "\n",
    "$$\n",
    "\\begin{array}{c|ccc}\n",
    "x_i & 0 & 1 & 3 \\\\ \\hline y_i & 3 & 8 & 6\n",
    "\\end{array}.\n",
    "$$\n",
    "\n",
    "The corresponding cardinal functions are given by:\n",
    "\n",
    "\\begin{align*}\n",
    "  \\ell_0(x) & = \\frac{(x-1)(x-3)}{(0-1)(0-3)}\n",
    "           = \\frac{1}{3}x^2-\\frac{4}{3}x+1 \\\\ \n",
    "  \\ell_1(x) & = \\frac{(x-0)(x-3)}{(1-0)(1-3)}\n",
    "           = -\\frac12 x^2 + \\frac32 x \\\\ \n",
    "  \\ell_2(x) &= \\frac{(x-0)(x-1)}{(3-0)(3-1)} = \\frac16 x^2-\\frac16 x\n",
    "\\end{align*}\n",
    "\n",
    "and the interpolation polynomial is given by (check it yourself):\n",
    "\n",
    "$$\n",
    "p_2(x) = 3 \\ell_0(x) + 8 \\ell_1(x) + 6 \\ell_2(x) = -2x^2 + 7x + 3.\n",
    "$$"
   ]
  },
  {
   "cell_type": "code",
   "execution_count": null,
   "metadata": {
    "editable": true,
    "slideshow": {
     "slide_type": "slide"
    },
    "tags": []
   },
   "outputs": [],
   "source": [
    "import ipywidgets as widgets\n",
    "from ipywidgets import interact\n",
    "plt.rcParams['figure.figsize'] = [10, 5]\n",
    "import scipy.interpolate as ip\n",
    "\n",
    "def plot_lagrange_basis(a, b, N):\n",
    "    \"\"\" Plot the Lagrange nodal functions for given nodal points.\"\"\"\n",
    "    xi = np.linspace(a,b,N)\n",
    "    N = xi.shape[0]\n",
    "    nodal_values = np.ma.identity(N)\n",
    "\n",
    "    # Create finer grid to print resulting functions\n",
    "    xn = np.linspace(xi[0],xi[-1],100)\n",
    "    fig = plt.figure()\n",
    "\n",
    "    for i in range(N):\n",
    "        L = ip.lagrange(xi, nodal_values[i])\n",
    "        line, = plt.plot(xn, L(xn), \"-\", label=(r\"$\\ell_{%d}$\"%i))\n",
    "        plt.plot(xi, L(xi), \"o\", color=line.get_color())\n",
    "\n",
    "    plt.legend() \n",
    "    plt.title(\"Lagrange basis for order %d\" % (N-1))\n",
    "    plt.xlabel(r\"$x$\")\n",
    "    plt.ylabel(r\"$\\ell_i(x)$\")\n",
    "    plt.show()"
   ]
  },
  {
   "cell_type": "code",
   "execution_count": null,
   "metadata": {
    "editable": true,
    "slideshow": {
     "slide_type": "slide"
    },
    "tags": []
   },
   "outputs": [],
   "source": [
    "a, b = 0, 3\n",
    "N = 3\n",
    "plot_lagrange_basis(a, b, N)"
   ]
  },
  {
   "cell_type": "code",
   "execution_count": null,
   "metadata": {
    "editable": true,
    "slideshow": {
     "slide_type": "slide"
    },
    "tags": []
   },
   "outputs": [],
   "source": [
    "# Define a helper function to be connected with the slider\n",
    "a, b = 0, 3\n",
    "plp = lambda N : plot_lagrange_basis(a, b, N)\n",
    "slider = widgets.IntSlider(min = 2,\n",
    "                           max = 10,\n",
    "                           step = 1,\n",
    "                           description=\"Number of interpolation points N\",\n",
    "                           value = 3)\n",
    "interact(plp, N=slider)\n",
    "plt.show()"
   ]
  },
  {
   "cell_type": "markdown",
   "metadata": {
    "editable": true,
    "slideshow": {
     "slide_type": "slide"
    },
    "tags": []
   },
   "source": [
    "## <font color='LightSkyBlue'>Implementation</font>\n",
    "The method above is implemented as two functions:\n",
    "* `cardinal(xdata, x)`: Create a list of cardinal functions $\\ell_i(x)$ evaluated in $x$.\n",
    "\n",
    "* `lagrange(ydata, l)`: Create the interpolation polynomial $p_n(x)$.\n",
    "\n",
    "Here, `xdata` and `ydata` are arrays with the interpolation points, and `x` is an \n",
    "array of values in which the polynomials are evaluated. \n",
    "\n",
    "You are not required to understand the implementation of these functions, but you should understand how to use them."
   ]
  },
  {
   "cell_type": "code",
   "execution_count": null,
   "metadata": {
    "editable": true,
    "slideshow": {
     "slide_type": "slide"
    },
    "tags": []
   },
   "outputs": [],
   "source": [
    "from math import factorial\n",
    "newparams = {'figure.figsize': (8.0, 4.0), 'axes.grid': True,\n",
    "             'lines.markersize': 8, 'lines.linewidth': 2,\n",
    "             'font.size': 14}\n",
    "plt.rcParams.update(newparams)"
   ]
  },
  {
   "cell_type": "code",
   "execution_count": null,
   "metadata": {
    "editable": true,
    "slideshow": {
     "slide_type": "slide"
    },
    "tags": []
   },
   "outputs": [],
   "source": [
    "def cardinal(xdata, x):\n",
    "    \"\"\"\n",
    "    cardinal(xdata, x): \n",
    "    In: xdata, array with the nodes x_i.\n",
    "        x, array or a scalar of values in which the cardinal functions are evaluated.\n",
    "    Return: l: a list of arrays of the cardinal functions evaluated in x. \n",
    "    \"\"\"\n",
    "    n = len(xdata)              # Number of evaluation points x\n",
    "    l = []\n",
    "    for i in range(n):          # Loop over the cardinal functions\n",
    "        li = np.ones(len(x))\n",
    "        for j in range(n):      # Loop to make the product for l_i\n",
    "            if i is not j:\n",
    "                li = li*(x-xdata[j])/(xdata[i]-xdata[j])\n",
    "        l.append(li)            # Append the array to the list            \n",
    "    return l\n",
    "\n",
    "def lagrange(ydata, l):\n",
    "    \"\"\"\n",
    "    lagrange(ydata, l):\n",
    "    In: ydata, array of the y-values of the interpolation points.\n",
    "         l, a list of the cardinal functions, given by cardinal(xdata, x)\n",
    "    Return: An array with the interpolation polynomial. \n",
    "    \"\"\"\n",
    "    poly = 0                        \n",
    "    for i in range(len(ydata)):\n",
    "        poly = poly + ydata[i]*l[i]  \n",
    "    return poly\n"
   ]
  },
  {
   "cell_type": "markdown",
   "metadata": {
    "editable": true,
    "slideshow": {
     "slide_type": "slide"
    },
    "tags": []
   },
   "source": [
    "Oppgave\n",
    "\n",
    "1. Let's test the functions on the interpolation points of `exam-interpol-I`\n",
    "and the resulting interpolation polynomial.\n",
    "\n",
    "2. Redo the exercise for some points of your own choice."
   ]
  },
  {
   "cell_type": "code",
   "execution_count": null,
   "metadata": {},
   "outputs": [],
   "source": [
    "# Fra dataene øverst i teksten\n",
    "xdata = [1800, 1850, 1900, 2000]           # The interpolation points\n",
    "ydata = [280, 283, 291, 370]\n",
    "x = np.linspace(1800, 2050, 101)     # The x-values in which the polynomial is evaluated\n",
    "l = cardinal(xdata, x)      # Find the cardinal functions evaluated in x\n",
    "p = lagrange(ydata, l)      # Compute the polynomial evaluated in x\n",
    "plt.plot(x, p)                  # Plot the polynomial\n",
    "plt.plot(xdata, ydata, 'o')     # Plot the interpolation points \n",
    "plt.title('The interpolation polynomial p(x)')\n",
    "plt.xlabel('x');"
   ]
  },
  {
   "cell_type": "code",
   "execution_count": null,
   "metadata": {
    "editable": true,
    "slideshow": {
     "slide_type": "slide"
    },
    "tags": []
   },
   "outputs": [],
   "source": [
    "# Original\n",
    "xdata = [0, 1, 3]           # The interpolation points\n",
    "ydata = [3, 8, 6]\n",
    "x = np.linspace(0, 3, 101)     # The x-values in which the polynomial is evaluated\n",
    "l = cardinal(xdata, x)      # Find the cardinal functions evaluated in x\n",
    "p = lagrange(ydata, l)      # Compute the polynomial evaluated in x\n",
    "plt.plot(x, p)                  # Plot the polynomial\n",
    "plt.plot(xdata, ydata, 'o')     # Plot the interpolation points \n",
    "plt.title('The interpolation polynomial p(x)')\n",
    "plt.xlabel('x');"
   ]
  },
  {
   "cell_type": "markdown",
   "metadata": {
    "editable": true,
    "slideshow": {
     "slide_type": "slide"
    },
    "tags": []
   },
   "source": [
    "## Existence and uniqueness of interpolation polynomials.\n",
    "We have already proved the existence of such polynomials, simply by constructing\n",
    "them. But are they unique? The answer is yes!"
   ]
  },
  {
   "cell_type": "markdown",
   "metadata": {
    "editable": true,
    "slideshow": {
     "slide_type": "slide"
    },
    "tags": []
   },
   "source": [
    "Teorem\n",
    "\n",
    "Existence and uniqueness of the interpolation polynomial\n",
    "Given $n+1$ points $(x_i,y_i)_{i=0}^n$ with $n+1$ distinct $x$ values. Then there is\n",
    "one and only one polynomial $p_n(x) \\in \\mathbb{P}_n$ satisfying the\n",
    "interpolation condition\n",
    "\n",
    "$$\n",
    "p_n(x_i) = y_i, \\qquad i=0,\\dotsc, n.\n",
    "$$"
   ]
  },
  {
   "cell_type": "markdown",
   "metadata": {
    "editable": true,
    "slideshow": {
     "slide_type": ""
    },
    "tags": []
   },
   "source": [
    "Bevis\n",
    "\n",
    "Suppose there exist two different interpolation polynomials $p_n$ and\n",
    "$q_n$ of degree $n$ interpolating the same $n+1$ points. The\n",
    "polynomial $r(x) = p_n(x)-q_n(x)$ is of degree $n$ with zeros in all\n",
    "the nodes $x_i$, that is a total of $n+1$ zeros. But then $r\\equiv 0$,\n",
    "and the two polynomials $p_n$ and $q_n$ are identical."
   ]
  }
 ],
 "metadata": {
  "celltoolbar": "Slideshow",
  "jupytext": {
   "formats": "ipynb,md:myst"
  },
  "kernelspec": {
   "display_name": "Python 3",
   "language": "python",
   "name": "python3"
  },
  "language_info": {
   "codemirror_mode": {
    "name": "ipython",
    "version": 3
   },
   "file_extension": ".py",
   "mimetype": "text/x-python",
   "name": "python",
   "nbconvert_exporter": "python",
   "pygments_lexer": "ipython3",
   "version": "3.11.9"
  }
 },
 "nbformat": 4,
 "nbformat_minor": 4
}
