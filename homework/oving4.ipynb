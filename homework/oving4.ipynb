{
 "cells": [
  {
   "cell_type": "markdown",
   "metadata": {},
   "source": [
    "## Additional exercises "
   ]
  },
  {
   "cell_type": "code",
   "execution_count": 1,
   "metadata": {},
   "outputs": [],
   "source": [
    "%matplotlib inline\n",
    "\n",
    "import numpy as np\n",
    "import matplotlib.pyplot as plt\n",
    "newparams = {'figure.figsize': (8.0, 4.0), 'axes.grid': True,\n",
    "             'lines.markersize': 8, 'lines.linewidth': 2,\n",
    "             'font.size': 14}\n",
    "plt.rcParams.update(newparams)\n"
   ]
  },
  {
   "cell_type": "markdown",
   "metadata": {},
   "source": [
    "**Exercise 1.**\n",
    "\n",
    "Given is the following *scalar* differential equation\n",
    "$$\n",
    "y'(t) = f(y(t)), \\qquad y(t_0)=y_0. \n",
    "$$\n",
    "\n",
    "A general explicit Runge-Kutta method with two stages applied to this equation is given by\n",
    "\n",
    "$$\n",
    "    \\begin{align*}\n",
    "      k_1 &= f(y_n), \\\\\n",
    "      k_2 &= f(y_n + \\tau a_{21}k_1), \\\\\n",
    "      y_{n+1} &= y_n + \\tau (b_1 k_1 + b_2 k_2).\n",
    "    \\end{align*}\n",
    "$$\n",
    "\n",
    "**(a)** \n",
    "Write down an estimate for the local truncation error\n",
    "\n",
    "$$\n",
    "   \\eta_1 = y(t_0+\\tau)-y_1 \n",
    "$$\n",
    "as a power series in $\\tau$. What conditions must the coefficients $a_{21}$, $b_1$, and $b_2$ satisfy for the method to be of order 1? Of order 2? Can the method be of order 3?"
   ]
  },
  {
   "cell_type": "markdown",
   "metadata": {},
   "source": [
    "Vi har at $y(t_0 + \\tau)$ er den eksakte løsningen, mens $y_1 = y_0 + \\tau(b_1k_1 + b_2k_2)$, der $k_1=f(y_0)$ og $k_2 = f(y_0 + \\tau a_{21}k_1)$.\n",
    "\n",
    "Taylorekspanderer den eksakte løsningen og får\n",
    "\\begin{align*}\n",
    "y(t_0 + \\tau) &= y(t_0) + \\tau y'(t_0) + \\frac{\\tau^2}{2} y''(t_0) + \\frac{\\tau^3}{3!} y'''(t_0) + \\dots \\\\\n",
    "&= y_0 + \\tau f + \\frac{\\tau^2}{2} f_yf + \\frac{\\tau^3}{6} (f_{yy}f^2 + f_y^2f) + \\dots,\n",
    "\\end{align*}\n",
    "\n",
    "der $f$ og alle dens derivater er evaluert i $(t_0,y_0)$.\n",
    "\n",
    "Taylorekspanderer $k_2$ fra den numeriske løsningen og får\n",
    "\\begin{align*}\n",
    "k_2 &= f(y_0 + \\tau a_{21}k_1) \\\\\n",
    "&= f + \\tau a_{21}f f_y + \\frac{(\\tau a_{21}f)^2}{2} f_{yy} + \\dots\n",
    "\\end{align*}\n",
    "\n",
    "Setter dette inn i $y_1$ og får\n",
    "\\begin{align*}\n",
    "y_1 &= y_0 + \\tau(b_1k_1 + b_2k_2) \\\\\n",
    "&= y_0 + \\tau(b_1f + b_2 (f + \\tau a_{21}f f_y + \\frac{(\\tau a_{21}f)^2}{2} f_{yy} + \\dots)) \\\\\n",
    "&= y_0 + \\tau b_1f + \\tau b_2 f + \\tau^2 b_2 a_{21}f f_y + \\tau^3 b_2\\frac{(a_{21}f)^2}{2} f_{yy}  + \\dots\n",
    "\\end{align*}\n",
    "\n",
    "Dette gir\n",
    "\\begin{align*}\n",
    "\\eta_1 &= y(t_0+\\tau)-y_1 \\\\\n",
    "&= (y_0 + \\tau f + \\frac{\\tau^2}{2} f_yf + \\frac{\\tau^3}{6} (f_{yy}f^2 + f_y^2f)) - (y_0 + \\tau b_1f + \\tau b_2 f + \\tau^2 b_2 a_{21}f f_y + \\tau^3 b_2\\frac{(a_{21}f)^2}{2} f_{yy}) +\\dots \\\\\n",
    "&= \\tau (f + \\frac{\\tau}{2} f_y f+ \\frac{\\tau^2}{6} (f_{yy}f^2 + f_y^2f) - b_1f - b_2 f - \\tau b_2 a_{21}f f_y - \\tau^2 b_2\\frac{(a_{21}f)^2}{2} f_{yy}) +\\dots \\\\\n",
    "&= (1-b_1-b_2)f\\tau + (\\frac{1}{2} - b_2 a_{21})\\tau^2 f_y f + \\left(\\frac{f_{yy}f^2 + f_y^2f}{6} -  b_2\\frac{(a_{21}f)^2}{2}f_{yy}\\right)\\tau^3 + \\mathcal{O}^4\n",
    "\\end{align*}\n",
    "\n",
    "En OSM er consistent of order $p\\in \\mathbb{N}$ hvis det er en konstant $C>0$ slik at\n",
    "\n",
    "$$\n",
    "|\\eta(t, \\tau) | \\leqslant C \\tau^{p+1} \\quad \\text{for } \\tau \\to 0.\n",
    "$$\n",
    "\n",
    "For at OSM'en skal være av orden $1$, må $|\\eta(t, \\tau) | \\leqslant C \\tau^{2} \\quad \\text{for } \\tau \\to 0,$ altså må første term bort, da den har $\\tau^1$. Dette gir $1-b_1-b_2=0$.\n",
    "For at OSM'en skal være av orden $2$, må $|\\eta(t, \\tau) | \\leqslant C \\tau^{3} \\quad \\text{for } \\tau \\to 0,$ altså må første og andre term bort. Dette gir $1-b_1-b_2=0$ og $\\frac{1}{2} - b_2 a_{21} = 0$\n",
    "For at OSM'en skal være av orden $3$, må $|\\eta(t, \\tau) | \\leqslant C \\tau^{4} \\quad \\text{for } \\tau \\to 0,$ altså må alle termene unntatt $\\mathcal{O}^4$ bort. Dette får vi ikke til, da tredje term avhenger av $y_0$."
   ]
  },
  {
   "cell_type": "markdown",
   "metadata": {},
   "source": [
    "\n",
    "**(b)** \n",
    "Find an optimal choice of parameters. Here you have some freedom in what you define as optimal, but justify your choice.\n",
    "\n",
    "**Hint:**\n",
    "A corresponding power series expansion was done for Heun's method in the notes, but what you are asked to do here is simpler, since the function $f$ only depends on $y(t)$."
   ]
  },
  {
   "cell_type": "markdown",
   "metadata": {},
   "source": [
    "Fra oppgave **a)** vet vi at $b_1 + b_2 = 1$ og at $b_2 a_{21} = \\frac{1}{2}$. Velger $b_1 = b_2 = \\frac{1}{2}$ og $a_{21} = 1$, da dette er Heun's metode og mest sannynlig enklest å implementere."
   ]
  }
 ],
 "metadata": {
  "kernelspec": {
   "display_name": "Python 3",
   "language": "python",
   "name": "python3"
  },
  "language_info": {
   "codemirror_mode": {
    "name": "ipython",
    "version": 3
   },
   "file_extension": ".py",
   "mimetype": "text/x-python",
   "name": "python",
   "nbconvert_exporter": "python",
   "pygments_lexer": "ipython3",
   "version": "3.11.9"
  },
  "toc": {
   "base_numbering": 1,
   "nav_menu": {},
   "number_sections": true,
   "sideBar": true,
   "skip_h1_title": true,
   "title_cell": "Table of Contents",
   "title_sidebar": "Contents",
   "toc_cell": false,
   "toc_position": {},
   "toc_section_display": true,
   "toc_window_display": false
  }
 },
 "nbformat": 4,
 "nbformat_minor": 4
}
