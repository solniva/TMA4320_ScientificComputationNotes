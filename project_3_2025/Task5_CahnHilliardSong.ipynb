{
 "cells": [
  {
   "cell_type": "markdown",
   "metadata": {},
   "source": [
    "## Task 5: A more sophisticated IMEX solver for the Cahn-Hilliard equation \n",
    "\n",
    "Before we finally run some more interesting simulation of the actual Cahn-Hilliard equation with realistic\n",
    "initial conditions (and no source term!), we want to improve the previous IMEX solver for the Cahn-Hilliard equation\n",
    "and implement a more sophisticated solver for the Cahn-Hilliard equation which can be shown to be\n",
    "second-order accurate in time.\n",
    "\n",
    "Again, the scheme\n",
    "is best explained by looking at a general ODE system\n",
    "of the form\n",
    "\n",
    "$$\n",
    "U_t  =  \\mathbf{L}U + \\mathbf{N}(U), \\quad U(0) = U_0,\n",
    "$$\n",
    "\n",
    "Now the Song scheme from {cite}`Song2016` is a 3-stage IMEX Runge-Kuttta scheme given by\n",
    "\n",
    "\\begin{align}\n",
    "U^{(1)} &= U^n + \n",
    "\\tau\\bigl(  \\mathbf{L}U^{(1)} +  \\mathbf{N}(U^n)\n",
    "\\bigr),\n",
    "\\\\\n",
    "U^{(2)} &= \\alpha_{10} U^n + \\alpha_{11} U^{(1)} +\n",
    "\\beta_1 \\tau\\bigl(  \\mathbf{L}U^{(2)} +  \\mathbf{N}(U^{(1)})\n",
    "\\bigr),\n",
    "\\\\\n",
    "U^{n+1} &= \\alpha_{20} U^n + \\alpha_{21} U^{(1)} + \\alpha_{22} U^{(2)}\n",
    "+\\beta_2 \\tau\\bigl(  \\mathbf{L}U^{n+1} +  \\mathbf{N}(U^{(2)})\n",
    "\\bigr),\n",
    "\\end{align}"
   ]
  },
  {
   "cell_type": "markdown",
   "metadata": {},
   "source": [
    "### Theoretical tasks\n",
    "\n",
    "**1)** ~~Show that this~~ This scheme has consistency order $p=2$ if the coefficients $\\beta_i, \\alpha_{ij}$\n",
    "satisfies the following order conditions:  \n",
    "$$\n",
    "\\left\\{\n",
    "\\begin{aligned}\n",
    "    \\alpha_{10} + \\alpha_{11} &= 1, \\\\\n",
    "    \\alpha_{20} + \\alpha_{21} + \\alpha_{22} &= 1, \\\\\n",
    "    \\alpha_{21} + \\alpha_{22} \\alpha_{11} + \\alpha_{22} \\beta_1 + \\beta_2 &= 1, \\\\\n",
    "    \\alpha_{21} + \\alpha_{22} \\alpha_{11} + \\alpha_{22} \\alpha_{11} \\beta_1 + \\alpha_{22} \\beta_1^2 + \\alpha_{21} \\beta_2 + \\alpha_{22} \\alpha_{11} \\beta_2 + \\alpha_{22} \\beta_1 \\beta_2 + \\beta_2^2 &= \\frac{1}{2}, \\\\\n",
    "    \\alpha_{22} \\beta_1 + \\alpha_{11} \\beta_2 + \\beta_1 \\beta_2 &= \\frac{1}{2}.\n",
    "\\end{aligned}\n",
    "\\right.\n",
    "$$\n",
    "\n",
    "~~To arrive at these equations, employ a similar Taylor-expansion technique as shown in [one of the homework exercises](https://www.math.ntnu.no/emner/TMA4320/2025v/exercises/exercise_rk_order_conditions.ipynb) and in the derivation\n",
    "of the consistency order of Heun's method and the improved Euler methods.~~\n",
    "\n",
    "This set of equations cannot be solved uniquely. Here, we consider the following coefficients which solve the above equations:\n",
    "\n",
    "\\begin{align}\n",
    "    \\alpha_{10} &= \\frac{3}{2}, \\quad &\\alpha_{11} &= -\\frac{1}{2}, \\quad &\\alpha_{20} &= 0, \\quad &\\alpha_{21} &= 0, \\quad &\\alpha_{22} &= 1, \\quad &\\beta_1 &= \\frac{1}{2}, \\quad &\\beta_2 &= 1. \\\\\n",
    "    \\alpha_{10} &= 2, \\quad &\\alpha_{11} &= -1, \\quad &\\alpha_{20} &= \\frac{1}{2}, \\quad &\\alpha_{21} &= 0, \\quad &\\alpha_{22} &= \\frac{1}{2}, \\quad &\\beta_1 &= 1, \\quad &\\beta_2 &= 1. \\\\\n",
    "    \\alpha_{10} &= 2, \\quad &\\alpha_{11} &= -1, \\quad &\\alpha_{20} &= 0, \\quad &\\alpha_{21} &= \\frac{1}{2}, \\quad &\\alpha_{22} &= \\frac{1}{2}, \\quad &\\beta_1 &= 1, \\quad &\\beta_2 &= \\frac{1}{2}. \\\\\n",
    "    \\alpha_{10} &= \\frac{5}{2}, \\quad &\\alpha_{11} &= -\\frac{3}{2}, \\quad &\\alpha_{20} &= \\frac{2}{3}, \\quad &\\alpha_{21} &= 0, \\quad &\\alpha_{22} &= \\frac{1}{3}, \\quad &\\beta_1 &= \\frac{3}{2}, \\quad &\\beta_2 &= 1.\n",
    "\\end{align}\n"
   ]
  },
  {
   "cell_type": "markdown",
   "metadata": {},
   "source": [
    "\n",
    "**2)** Apply this scheme now to the the Cahn-Hilliard equation formulated in the Fourier space.\n",
    "Here, in each of the above stages, you should apply the **same convex splitting** as in the previous task. As always, before you start implementing the scheme, provide a brief **mathematical description** of the resulting numerical scheme, \n",
    "in particular, describe how a new solution is computed in the Fourier space from the previous solution for each time step."
   ]
  },
  {
   "cell_type": "markdown",
   "metadata": {},
   "source": [
    "### Computational tasks\n",
    "\n",
    "**3)** Rerun the EOC study from the previous task for the new IMEX scheme for all 4 sets of coefficients, \n",
    "compare the results against each other and with the previous IMEX scheme.\n",
    "Which of the 4 Song coefficients sets will you favor for the remaining project?\n",
    "Here, you can focus on the case $\\kappa = 0.01$.\n",
    "\n",
    "**Important note:**\n",
    "To take into account an inhomogeneous right-hand side $\\mathbf{G}$, you can implement the \n",
    "following slightly modified scheme:\n",
    "\n",
    "\\begin{align}\n",
    "U^{(1)} &= U^n + \n",
    "\\tau\\bigl(  \\mathbf{L}U^{(1)} +  \\mathbf{N}(U^n)\n",
    "+ \\mathbf{G}^{n+1/2}\n",
    "\\bigr),\n",
    "\\\\\n",
    "U^{(2)} &= \\alpha_{10} U^n + \\alpha_{11} U^{(1)} +\n",
    "\\beta_1 \\tau\\bigl(  \\mathbf{L}U^{(2)} +  \\mathbf{N}(U^{(1)})\n",
    "+ \\mathbf{G}^{n+1/2}\n",
    "\\bigr),\n",
    "\\\\\n",
    "U^{n+1} &= \\alpha_{20} U^n + \\alpha_{21} U^{(1)} + \\alpha_{22} U^{(2)}\n",
    "+\\beta_2 \\tau\\bigl(  \\mathbf{L}U^{n+1} +  \\mathbf{N}(U^{(2)})\n",
    "+ \\mathbf{G}^{n+1/2}\n",
    "\\bigr),\n",
    "\\end{align}\n",
    "\n",
    "where $\\mathbf{G}^{n+1/2} = \\mathbf{G}(t_n + \\tau/2)$."
   ]
  }
 ],
 "metadata": {
  "jupytext": {
   "formats": "ipynb,md:myst"
  },
  "kernelspec": {
   "display_name": "tma4320_scientific_computation-vlMPykwy",
   "language": "python",
   "name": "python3"
  },
  "language_info": {
   "codemirror_mode": {
    "name": "ipython",
    "version": 3
   },
   "file_extension": ".py",
   "mimetype": "text/x-python",
   "name": "python",
   "nbconvert_exporter": "python",
   "pygments_lexer": "ipython3",
   "version": "3.13.2"
  }
 },
 "nbformat": 4,
 "nbformat_minor": 2
}
