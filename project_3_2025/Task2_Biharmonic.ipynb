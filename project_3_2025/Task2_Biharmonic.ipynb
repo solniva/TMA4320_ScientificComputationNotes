{
 "cells": [
  {
   "cell_type": "markdown",
   "metadata": {},
   "source": [
    "## Task 2: A spectral solver for the biharmonic equation\n",
    "\n",
    "Next, following the example of the Poisson solver from the lecture,\n",
    "we ask you to implement a spectral solver for the biharmonic equation \n",
    "supplemented with a $0$-order term in $2d$.\n",
    "\n",
    "The resulting equation reads\n",
    "$$\n",
    "\\Delta^2 u  + c u = f \\quad \\text{in } \\Omega,\n",
    "$$\n",
    "on a rectangular domain $\\Omega = [0,L_x)\\times [0,L_y)$, where $\\Delta^2$ is the biharmonic operator and $c \\geqslant 0$ is a non-negative constant."
   ]
  },
  {
   "cell_type": "markdown",
   "metadata": {},
   "source": [
    "\n",
    "The problem is to be solved\n",
    "on a given rectangular domain $\\Omega = [0,L_x) \\times [0,L_y) \\subset \\mathbb{R}^2$ with periodic boundary conditions.\n",
    "More precisely, we assume that all derivatives up to order 3 are\n",
    "periodic. \n",
    "Different side lengths $L_x$ and $L_y$ are allowed and should be incorporated in the implementation.\n",
    "\n",
    "Now implement a spectral solver for the biharmonic equation using the fast Fourier transform.\n",
    "The solver should be implemented in a function of the form\n"
   ]
  },
  {
   "cell_type": "code",
   "execution_count": 1,
   "metadata": {},
   "outputs": [],
   "source": [
    "def biharmonic_solver(X, Y, F, c, mean=0.0):\n",
    "    \"\"\"\n",
    "    Solve the biharmonic equation in 2D using the spectral method.\n",
    "\n",
    "    Parameters:\n",
    "        X (ndarray): 2D array of x-coordinates.\n",
    "        Y (ndarray): 2D array of y-coordinates.\n",
    "        F (ndarray): 2D array representing the right-hand side of the biharmonic equation.\n",
    "        c (float): Constant coefficient in the biharmonic equation.\n",
    "        mean (float, optional): Desired mean value of the solution in case c = 0. Default is 0.0.\n",
    "\n",
    "    Returns:\n",
    "        U (ndarray): 2D array representing the solution to the biharmonic equation.\n",
    "    \"\"\"\n",
    "    pass # Add your code here"
   ]
  },
  {
   "cell_type": "markdown",
   "metadata": {},
   "source": [
    "Your solver should also be able to gracefully handle the case $c=0$ by prescribing a (user-defined) mean value for\n",
    "the solution. This will come in handy when you are asked to test your solver using manufactured solutions which do not necessarily have a 0 mean value.\n",
    "\n",
    "To verify the correctness of your implementation, run a number convergence studies using the **manufactured solutions**\n",
    "from the following 2 test cases, each of them posed on the rectangular domain $\\Omega = [0,2\\pi) \\times [0,4\\pi)$:\n",
    "\n",
    "* $u(x,y) = \\sin(8(x-1))\\cos(4y)$, $c=1$, and $N_x = 4, 8, 15, 16, 20, 32$ and $N_y = 2N_x$.\n",
    "* $u(x,y) =  \\exp(\\sin^2(x) + \\cos(2y))$, $c=0$, $N_x = 4 + 4k$, $k=0,1\\ldots,9$ and $N_y = 2N_x$.\n",
    "\n",
    "Remember to compute the corresponding right-hand side $f$ for the manufactured solutions.\n",
    "For each series, compute the experimental order of convergence (EOC) with respect to the maximum norm over the grid points\n",
    "report them in a table.\n",
    "\n",
    "Provide also a surface plot of both the exact solution, the numerical solution and the error function for $N_x = 15, 16$ in the first series and $N_x = 32$ in the second series.\n",
    "\n",
    "Discuss the results.\n",
    "\n",
    "**Hints:** \n",
    "\n",
    "* To compute the right-hand side $f$ for the manufactured solutions, it might be helpful to start using the ```sympy``` module, see lecture notes and the tutorial.\n",
    "This will definitely pay-off later when you are asked to manufacture solution for the Cahn-Hilliard equation!\n",
    "\n",
    "* Recall that numerically the check $c=0$ is not trivial. As a rule of thumb, you can check e.g. whether $c$ is smaller \n",
    "the smallest non-zero **quartic** frequency in the Fourier space, i.e., $c < \\mathrm{tol} \\cdot k_{\\text{min}}^4$, where \n",
    "$k_{\\text{min}}$ is the smallest non-zero frequency in the Fourier space."
   ]
  }
 ],
 "metadata": {
  "jupytext": {
   "formats": "ipynb,md:myst"
  },
  "kernelspec": {
   "display_name": "Python 3",
   "language": "python",
   "name": "python3"
  },
  "language_info": {
   "codemirror_mode": {
    "name": "ipython",
    "version": 3
   },
   "file_extension": ".py",
   "mimetype": "text/x-python",
   "name": "python",
   "nbconvert_exporter": "python",
   "pygments_lexer": "ipython3",
   "version": "3.11.9"
  }
 },
 "nbformat": 4,
 "nbformat_minor": 2
}
