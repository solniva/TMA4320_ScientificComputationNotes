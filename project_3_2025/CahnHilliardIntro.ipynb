{
 "cells": [
  {
   "cell_type": "markdown",
   "metadata": {},
   "source": [
    "# Project 3: Simulation of phase separation in a binary mixture"
   ]
  },
  {
   "cell_type": "markdown",
   "metadata": {},
   "source": [
    "After the introductory presentation of the background for this project,\n",
    "we will now dive into the mathematical and computational modeling \n",
    "of phase separation phenomena."
   ]
  },
  {
   "cell_type": "markdown",
   "metadata": {},
   "source": [
    "As a particular model for the phase separation of a binary mixture, we consider here the so-called Cahn-Hilliard equation.\n",
    "The Cahn-Hilliard equation models the evolution of a mass-conservative, two-component system described by a \n",
    "(rescaled) concentrations $u(\\boldsymbol{x},t) \\in [-1,1]$ of component $1$ and $-u(\\boldsymbol{x},t)$ of component $2$. So the entire system is rescaled\n",
    "so that the total concentration is zero. \n",
    "In the literature, you will also often find a different rescaling, where the total concentration is one and two concentration\n",
    "of the two components are described by $u$ and $1-u$. But for symmetry reasons, we prefer the above rescaling.\n"
   ]
  },
  {
   "cell_type": "markdown",
   "metadata": {},
   "source": [
    "\n",
    "Due to mass conservation, it is sufficient to consider the evolution of the concentration of first component $u$. The resulting Cahn-Hilliard equation then reads\n",
    "\n",
    "$$\n",
    "       \\partial_t u = \\nabla\\cdot (M \\nabla \\mu), \n",
    "       \\quad \n",
    "       \\mu =  -\\kappa \\Delta u + f(u)\n",
    "       \\quad \\text{ on } \\Omega \\times (0,T)    \n",
    "       \\\\\n",
    "$$ (eq:cahn-hilliard-system)\n",
    "\n",
    "where $M$ is the **mobility**, $\\kappa$ is the **gradient energy coefficient**, \n",
    "and $f(u)=F'(u)=\\tfrac{\\mathrm{d}}{\\mathrm{d}u}F(u)$ is the derivative of the **Helmholtz free energy density** $F(u)$.\n",
    "Here, $\\mu$ is the so-called **chemical potential**, and it can be shown\n",
    "that it is the variational derivative\n",
    "$$\n",
    " \\mu = \\dfrac{\\delta \\mathcal{E}}{\\delta u}\n",
    "$$\n",
    "of the so-called **Ginzburg-Landau** free energy function\n",
    "$$\n",
    "\\mathcal{E}(u) = \\int_{\\Omega} \\Bigl(  \\dfrac{\\kappa}{2} |\\nabla u|^2 + F(u)\\Bigr) \\;\\mathrm{d}x.\n",
    "$$\n",
    "with respect to $u$.\n",
    "For later purposes, we refer to\n",
    "\\begin{align}\n",
    "\\mathcal{E}_{\\mathrm{int}}(u) = \\int_{\\Omega} \\dfrac{\\kappa}{2} |\\nabla u|^2 \\;\\mathrm{d}x\n",
    "\\\\\n",
    "\\mathcal{E}_{\\mathrm{mix}}(u) = \\int_{\\Omega} F(u) \\;\\mathrm{d}x.\n",
    "\\end{align}\n",
    "as the **interface energy** and the **mixing energy**, respectively.\n",
    "\n",
    "We want to point out the formal similarities with heat equation \n",
    "$$\n",
    "\\partial_t T = -k\\nabla \\mathbf{q}\n",
    "$$\n",
    "discussed in the lecture, \n",
    "where the temperature evolution $T$  is driven by gradient\n",
    "of the heat flux $\\nabla \\cdot \\mathbf{q}$, with the heat flux given by $\\mathbf{q} = -k \\nabla T$ and $k$ being the heat conductivity.\n",
    "From that perspective the Cahn-Hilliard equation can be considered as a nonlinear generalization of the heat equation, where a concentration flux $\\mathbf{j} = - M \\nabla \\mu$ is driven by the gradient of the chemical potential $\\mu$.\n",
    "However, the complicated relation between the chemical potential $\\mu$ and the concentration $u$ makes the Cahn-Hilliard equation a much more challenging problem and results in a vastly different behavior, generating solutions with complex patterns and structures."
   ]
  },
  {
   "cell_type": "markdown",
   "metadata": {},
   "source": [
    "\n",
    "Combining the two equations in `eq`{eq:cahn-hilliard-system} into one,\n",
    "we obtain the Cahn-Hilliard equation\n",
    "\\begin{alignat}{2}\n",
    "       \\partial_t u - \\nabla\\cdot (M \\nabla (f(u) - \\kappa \\Delta u )) &= 0\n",
    "       & &\\quad \\text{ on } \\Omega \\times (0,T)    \n",
    "       \\\\\n",
    "       \\partial_n \\mu &= 0 \n",
    "       & &\\quad \\text{ on } \\Gamma \\times (0,T)\n",
    "       \\\\\n",
    "       \\partial_n u &= 0 \n",
    "       & &\\quad \\text{ on } \\Gamma \\times (0,T)\n",
    "\\end{alignat}"
   ]
  },
  {
   "cell_type": "markdown",
   "metadata": {},
   "source": [
    "To complete the model, we need to specify the energy density $F(u)$. Typically, $F$ is described by a double-well potential,\n",
    "and from thermodynamical considerations, it is often chosen to be a logarithmic function of the form\n",
    "\n",
    "$$\n",
    "F(u) = \\dfrac{\\theta_c}{2}(1-u^2)- \\dfrac{\\theta}{2}\n",
    "% \\biggl[\n",
    "    (1-u)\n",
    "\\ln\\Bigl(\\dfrac{1-u}{2}\\Bigr) \n",
    "+ (1+u)\n",
    "\\ln\\Bigl(\\dfrac{1+u}{2}\\Bigr)\n",
    "% \\biggr]\n",
    "$$ (proj:eq:double-well-potential-log)\n",
    "\n",
    "for $u\\in(-1,1)$. The logarithmic terms correspond to the mixing entropy of the two components.\n",
    "The critical temperature $\\theta_c$ is the temperature above which the homogeneous mixture is stable, and below which phase separation can occur. \n",
    "At temperatures below $\\theta_c$, the system tends to separate into two distinct phases to minimize its free energy.\n",
    "\n",
    "Deriving {eq}`proj:eq:double-well-potential-log` yields\n",
    "\n",
    "$$\n",
    "f(u) = F'(u) = -\\theta_c u + \\dfrac{\\theta}{2} \\ln\\Bigl(\\dfrac{1+u}{1-u}\\Bigr).\n",
    "$$\n",
    "\n",
    "\n",
    "\n"
   ]
  },
  {
   "cell_type": "markdown",
   "metadata": {
    "vscode": {
     "languageId": "plaintext"
    }
   },
   "source": [
    "The logarithmic terms appearing in $f(u)$ can be challenging for both the theoretical analysis and the numerical\n",
    "solution of the Cahn-Hilliard equations. Consequently, $F$ is often regularized and approximated (with proper rescaling) by a polynomial double well potential of the form \n",
    "$$\n",
    "F(u) = \\dfrac{1}{4}(u^2 - 1)^2, \\quad \\text{leading to } \\quad f(u) = u^3 - u.\n",
    "$$ (proj:eq:double-well-potential-polynomial)\n",
    "which we will use throughout this project and is plotted below."
   ]
  },
  {
   "cell_type": "code",
   "execution_count": null,
   "metadata": {},
   "outputs": [],
   "source": [
    "%matplotlib widget\n",
    "import matplotlib.pyplot as plt\n",
    "import numpy as np\n",
    "\n",
    "def F(u):\n",
    "    return 0.25*(u**2-1)**2\n",
    "def f(u):\n",
    "    return u**3-u\n",
    "\n",
    "x = np.linspace(-1.5, 1.5, 100)\n",
    "plt.close('all')\n",
    "fig = plt.figure(figsize=(10, 5))\n",
    "fig.suptitle(\"Polynomial Double Well Potential and Its Derivative\", fontsize=16)\n",
    "ax1 = fig.add_subplot(121)\n",
    "ax1.plot(x, F(x), \"r\", label='F(u)')\n",
    "ax1.legend(loc='upper right')\n",
    "\n",
    "ax2 = fig.add_subplot(122)\n",
    "ax2.plot(x, f(x), \"b\", label='f(u)')\n",
    "ax2.legend(loc='upper right')\n",
    "\n",
    "plt.show()\n"
   ]
  },
  {
   "cell_type": "markdown",
   "metadata": {},
   "source": [
    "It can be shown that solutions of the Cahn-Hilliard equation drive the system towards a state of minimal energy\n",
    "$\\mathcal{E}(u)$."
   ]
  },
  {
   "cell_type": "markdown",
   "metadata": {},
   "source": [
    "\n",
    "Assuming a constant mobility $M=1$, the Cahn-Hilliard equation simplifies to\n",
    "\n",
    "$$\n",
    "% \\partial_t u + \\kappa \\Delta^2 u - \\Delta f(u) =\n",
    "\\partial_t u + \\kappa \\Delta^2 u - \\Delta (u^3 - u) = 0.\n",
    "$$\n",
    "\n",
    "Here, $\\Delta^2$ denotes the **biharmonic** operator, which is the square of the Laplacian operator $\\Delta$,\n",
    "i.e. $\\Delta^2 u = \\Delta (\\Delta u)$."
   ]
  },
  {
   "cell_type": "markdown",
   "metadata": {},
   "source": [
    "This is a hefty PDE, as it involves fourth-order spatial derivatives, a nonlinear term, and a time derivative.\n",
    "We do not discuss the well-posedness of the Cahn-Hilliard equation here which requires some sophisticated mathematical tools and techniques (\n",
    "but for the mathematical inclined reader, we refer to {cite}`Miranville2019` and {cite}`BanschDeckelnickGarckeEtAl2023`).\n",
    "Instead, we will focus on the numerical solution of the Cahn-Hilliard equation.\n",
    "\n",
    "**The overall goal of this project is to gradually develop, implement and thoroughly test numerical methods for the Cahn-Hilliard equation in Python and to finally \n",
    "study the dynamics of phase separation of a binary mixture by means of numerical simulations.**\n"
   ]
  },
  {
   "cell_type": "markdown",
   "metadata": {},
   "source": [
    "\n",
    "To guide you through this project and demonstrate how to develop a numerical solver for a complex PDE in a structured way, we have divided this project into 6 smaller subtasks.\n",
    "In each of the tasks, you will be asked to consider simplified versions of the Cahn-Hilliard equation,\n",
    "develop a corresponding numerical method while also discussing some of their theoretical properties,\n",
    "and validate your implementation using carefully craft tests.\n",
    "Through the series of test problems, we will  gradually add complexity to the model and the numerical methods. Afterwards you will have a (actually two!) fully functional and thorougly test solver(s) for the Cahn-Hilliard equation at hand, which you then can use to study the phase separation of a binary mixture."
   ]
  },
  {
   "cell_type": "markdown",
   "metadata": {},
   "source": [
    "The project will consists of the following tasks:\n",
    "1. Before we start implementing numerical methods, we have a closer look at some of the fundamental theoretical properties of the Cahn-Hilliard, which we then later will try to observe in the numerical experiments.\n",
    "\n",
    "2. Turning to the implementation tasks, we will start by implementing a spectral solver for the biharmonic-type problem of the form \n",
    "\n",
    "$$ \n",
    "\\Delta^2u + c u = g\n",
    "$$ \n",
    "\n",
    "Variants of this equation will then later solved for each time-step in a time-stepping scheme for the Cahnn-Hilliard equation.\n",
    "\n",
    "3. Next, we will combine our spectral solver with a simple time-stepping schemes for the Cahn-Hilliard equation where we neglect the nonlinear terms for the moment. The resulting time-dependent PDE is the biharmonic cousin of the heat equation:\n",
    "\n",
    "$$\n",
    "\\partial_t u + \\kappa \\Delta^2 u = g.\n",
    "$$\n",
    "\n",
    "4. In the next step, we will add the missing nonlinear term and consider a first-order time-stepping scheme for the full Cahn-Hilliard problem, where we discuss the challenges with and approaches for handling the non-linear term.\n",
    "5. Afterwards, we will consider a more sophisticated, second-order in time method based on a 2 stage Runge-Kutta method.\n",
    " derive.\n",
    "6. Finally, we will use the numerical method to study the phase separation of a binary mixture in a simple domain\n",
    "more closely. We will first briefly review the known typical phenomena appearing in phase separation dynamics \n",
    "before you will be asked to conduct your own numerical experiments to study these phenomena in more detail.\n",
    "\n",
    "**Important note**: Throughout the project, we will only consider periodic boundary conditions\n",
    "for a simple domain $\\Omega = [0,L_x)\\times[0,L_y)$, which allows us to use Fourier spectral methods for the spatial discretization.\n"
   ]
  },
  {
   "cell_type": "markdown",
   "metadata": {},
   "source": [
    "## Guidelines and tips for the project\n",
    "\n",
    "* **Proper mathematical descriptions.** Before you start implementing a numerical method, **always provide a short but complete mathematical description of the method you are about to implement**. E.g. for a time-stepping method, describe in mathematical terms how you compute the solution at the next time step based on the solution at the current time step. This will help you to avoid mistakes and to understand the behavior of the method.\n",
    "\n",
    "* **Well-documented code.** Make sure that your code is well documented,  in particular that you write a short description of the purpose of each function \n",
    "in the form of docstrings and that you provide inline comments  (1-2 lines) briefly explaining the relevant code blocks.\n",
    "\n",
    "* **Presentation of results.** When presenting results, do not just e.g. show a picture of a solution\n",
    "or display a convergence table, but make sure that you comment on\n",
    "your results sufficiently, in particular when we asked guiding\n",
    "questions or if the results are unexpected, or if you observe something\n",
    "interesting.\n",
    "\n",
    "* **Visualizations.** Include visualizations of your results to illustrate your findings.\n",
    "You can use the plotting/animation functions provided in the `project_tools.py` module which you can find in this folder. Alternatively, you can of course use your own plotting functions. **But when you submit your final report, make sure that you remove all cell outputs\n",
    "produced from the `create_animation` function** or similar animation related output. Those take a lot of \n",
    "storage and make the notebook unnecessarily large. Instead we will ask you to either provide pictures of solution snapshots or to generate a more lightweight gif animation consisting of a few frames.\n",
    "\n",
    "    For interactive visualizations where you can zoom in/out, make animation etc. you should execute the magic command `%matplotlib widget` once somewhere in the beginning of the notebook. But when you generate the final \n",
    "    report, switch back to `%matplotlib inline` to avoid large notebook files/storage of animations.\n",
    "    Finally, if you use `%matplotlib widget` in conjunction with Vscode, you sometimes might run into problems with the plots not showing up. This happens when too many figures have been instantiated.\n",
    "    Best course of action is then to restart Vscode, simply resetting the output cells and kernel of the notebook won't help.\n",
    "\n",
    "* **Use of AI.** Please document your use of AI tools in your project properly by filling out the AI declaration form\n",
    "you can find on NTNU's internal wiki, either in \n",
    "[English](https://i.ntnu.no/documents/portlet_file_entry/1305837853/2024+KI_Skjema__EN.pdf/6730c97b-1701-c77f-6e36-af1bef7b02d8), \n",
    "[Norwegian (Bokmål)](https://i.ntnu.no/documents/portlet_file_entry/1305837853/2024+KI_Skjema__BM.pdf/b431606b-7b16-f9e9-bb1b-19d16bcfaa19) or \n",
    "[Norwegian (Nynorsk)](https://i.ntnu.no/documents/portlet_file_entry/1305837853/2024+KI_Skjema__NN.pdf/3c430618-ad33-91c2-af20-125ac0122df2). The form should be submitted in addition the final report.\n",
    "Obviously, we can not and will not put an restrictions on how you use AI tools in your project, \n",
    "but we would like to know if/how you used them and what you used them for, and how you made sure that \n",
    "AI generated results are reliable.\n",
    "The form should be submitted with the final report. \n",
    "Download the AI declaration form for technical and science subjects\n",
    "\n",
    "* **Submission.** As before, the final report should be submitted as a single Jupyter notebook which has been executed from start to finish. The notebook should contain all relevant code, results, and discussions. Make sure that the code has been completely executed without errors and that the results are displayed in the notebook.   "
   ]
  }
 ],
 "metadata": {
  "jupytext": {
   "formats": "ipynb,md:myst"
  },
  "kernelspec": {
   "display_name": "tma4320_scientific_computation-vlMPykwy",
   "language": "python",
   "name": "python3"
  },
  "language_info": {
   "codemirror_mode": {
    "name": "ipython",
    "version": 3
   },
   "file_extension": ".py",
   "mimetype": "text/x-python",
   "name": "python",
   "nbconvert_exporter": "python",
   "pygments_lexer": "ipython3",
   "version": "3.13.2"
  }
 },
 "nbformat": 4,
 "nbformat_minor": 2
}
