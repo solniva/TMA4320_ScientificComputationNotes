{
 "cells": [
  {
   "cell_type": "markdown",
   "metadata": {},
   "source": [
    "## Task 1: A first closer look at the Cahn-Hilliard equation\n",
    "\n",
    "Before we start developing a numerical method for the Cahn-Hilliard equation, \n",
    "let us discuss some basic properties of the so physical meaning of the different terms in the equation.\n",
    "\n",
    "1. Plot the logarithmic potential $F(u)$ for $u\\in (-1,1)$ for some $\\theta$ values in $[0.7, 1.6]$ with\n",
    "with $\\theta < \\theta_c$,\n",
    "$\\theta = \\theta_c$ and $\\theta > \\theta_c$ for a critical temperature $\\theta_c = 1.5$ What do you observe?\n",
    "\n",
    "2. Show that the Cahn-Hilliard equation is invariant under the transformation $u \\mapsto -u$, i.e. if $u(\\boldsymbol{x},t)$ is a solution, then $-u(\\boldsymbol{x},t)$ is also a solution.\n",
    "\n",
    "3. Show that solutions of the Cahn-Hilliard equation which are periodic on a rectangular domain $\\Omega = [0,L_x)\\times[0,L_y)$ \n",
    "are mass conservative in the sense \n",
    "$$\n",
    "\\dfrac{\\mathrm{d}}{\\mathrm{d}t}\\int_{\\Omega} u(\\boldsymbol{x},t) \\;\\mathrm{d}x = 0.\n",
    "$$\n",
    "In other words, the total mass $\\int_{\\Omega} u(\\boldsymbol{x},t) \\;\\mathrm{d}x$ does not change over time.\n",
    "\n",
    "**Hint**: Multiply the Cahn-Hilliard equation by constant $1$ and integrate over a rectangular domain and\n",
    "use the divergence theorem to perform integration by parts. What can you say about the boundary integral?"
   ]
  }
 ],
 "metadata": {
  "jupytext": {
   "formats": "ipynb,md:myst"
  },
  "kernelspec": {
   "display_name": "tma4320_scientific_computation-vlMPykwy",
   "language": "python",
   "name": "python3"
  },
  "language_info": {
   "codemirror_mode": {
    "name": "ipython",
    "version": 3
   },
   "file_extension": ".py",
   "mimetype": "text/x-python",
   "name": "python",
   "nbconvert_exporter": "python",
   "pygments_lexer": "ipython3",
   "version": "3.13.2"
  }
 },
 "nbformat": 4,
 "nbformat_minor": 2
}
