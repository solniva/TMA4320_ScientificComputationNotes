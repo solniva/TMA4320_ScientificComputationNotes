{
 "cells": [
  {
   "cell_type": "markdown",
   "id": "cde5f772-800f-4576-a033-dddd1c2edc60",
   "metadata": {
    "editable": true,
    "slideshow": {
     "slide_type": "slide"
    },
    "tags": []
   },
   "source": [
    "# Numerical solution of ordinary differential equations\n",
    "\n",
    "The topic of this note is the numerical solution of systems of\n",
    "ordinary differential equations (ODEs).  This has been discussed in\n",
    "previous courses, see for instance the web page\n",
    "[Differensialligninger](https://wiki.math.ntnu.no/tma4100/tema/differentialequations)\n",
    "from Mathematics 1, as well as in Part 1 of this course, where the\n",
    "Laplace transform was introduced as a tool to solve ODEs analytically.\n",
    "\n",
    "Before we present the first numerical methods to solve ODEs, we want to look at a number of examples which hopefully will will serve as test examples\n",
    "throughout this topic."
   ]
  },
  {
   "cell_type": "markdown",
   "id": "faacc555-dee1-44f9-8895-ae94a23c250e",
   "metadata": {
    "editable": true,
    "slideshow": {
     "slide_type": "slide"
    },
    "tags": []
   },
   "source": [
    "## Whetting your appetite"
   ]
  },
  {
   "cell_type": "markdown",
   "id": "b1a4935b",
   "metadata": {
    "editable": true,
    "slideshow": {
     "slide_type": "slide"
    },
    "tags": []
   },
   "source": [
    "### Scalar first order ODEs\n",
    "A scalar, first-order ODE is an equation on the form\n",
    "\n",
    "$$\n",
    "y'(t) = f(t,y(t)), \\qquad y(t_0)=y_0,\n",
    "$$\n",
    "\n",
    "where $y'(t)=\\frac{dy}{dt}$.\n",
    "The *inital condition* $y(t_0)=y_0$ is required for a unique\n",
    "solution."
   ]
  },
  {
   "cell_type": "markdown",
   "id": "86809271",
   "metadata": {
    "editable": true,
    "slideshow": {
     "slide_type": "slide"
    },
    "tags": []
   },
   "source": [
    "**Notice.**\n",
    "\n",
    "It is common to use the term *initial value problem (IVP)* for an ODE\n",
    "for which the inital value $y(t_0)=y_0$ is given, and we only are\n",
    "interested in the solution for $t>t_0$. In these lecture notes, only\n",
    "initial value problems are considered."
   ]
  },
  {
   "cell_type": "markdown",
   "id": "0c62396e",
   "metadata": {
    "editable": true,
    "slideshow": {
     "slide_type": "slide"
    },
    "tags": []
   },
   "source": [
    "Eksempel - Population growth and decay processes\n",
    "\n",
    "One of the simplest possible IVP is given by\n",
    "\n",
    "$$\n",
    "y'(t) = \\lambda y(t), \\quad y(t_0)=y_0.\n",
    "$$(ode:eq:exponential)\n",
    "\n",
    "For $\\lambda > 0$ this equation can present a simple model for the growth of\n",
    "some population, e.g., cells, humans, animals, with unlimited resources\n",
    "(food, space etc.). The constant $\\lambda$ then corresponds to the\n",
    "*growth rate* of the population.\n",
    "\n",
    "Negative $\\lambda < 0$\n",
    "typically appear in decaying processes, e.g., the decay of a radioactive\n",
    "isotopes, where $\\lambda$ is then simply called the *decay rate*.\n",
    "\n",
    "The analytical solution to this equation is\n",
    "\n",
    "$$\n",
    "y(t) = y_0 e^{\\lambda(t-t_0)}\n",
    "$$(ode:eq:exponential_sol)\n",
    "\n",
    "and will serve us at several occasions as reference solution to assess\n",
    "the accuracy of the numerical methods to be introduced."
   ]
  },
  {
   "cell_type": "markdown",
   "id": "c1b27182",
   "metadata": {
    "editable": true,
    "slideshow": {
     "slide_type": "slide"
    },
    "tags": []
   },
   "source": [
    "Eksempel - Time-dependent coefficients\n",
    "\n",
    "Given the ODE\n",
    "\n",
    "$$\n",
    "y'(t) = -2ty(t), \\quad y(0) = y_0.\n",
    "$$\n",
    "\n",
    "for some given initial value $y_0$.\n",
    "The general solution of the ODE is\n",
    "\n",
    "$$\n",
    "y(t) = C e^{-t^2},\n",
    "$$\n",
    "\n",
    "where $C$ is a constant. To determine the constant $C$,\n",
    "we use the initial condition $y(0) = y_0$\n",
    "yielding the solution\n",
    "\n",
    "$$\n",
    "y(t) = y_0 e^{-t^2}.\n",
    "$$"
   ]
  },
  {
   "cell_type": "markdown",
   "id": "2e37b343",
   "metadata": {
    "editable": true,
    "slideshow": {
     "slide_type": "slide"
    },
    "tags": []
   },
   "source": [
    "### Systems of ODEs\n",
    "A system of $m$ ODEs are given by\n",
    "\n",
    "\\begin{align*}\n",
    "y_1' &= f_1(t,y_1,y_2,\\dotsc,y_m), & y_1(t_0) &= y_{1,0} \\\\ \n",
    "y_2' &= f_2(t,y_1,y_2,\\dotsc,y_m), & y_2(t_0) &= y_{2,0} \\\\ \n",
    "     & \\vdots                      &          &\\vdots    \\\\ \n",
    "y_m' &= f_m(t,y_1,y_2,\\dotsc,y_m), & y_m(t_0) &= y_{m,0} \\\\ \n",
    "\\end{align*}"
   ]
  },
  {
   "cell_type": "markdown",
   "id": "48b0a8f6",
   "metadata": {
    "editable": true,
    "slideshow": {
     "slide_type": "fragment"
    },
    "tags": []
   },
   "source": [
    "and can be written more compactly as\n",
    "\n",
    "$$\n",
    "\\mathbf{y}'(t) = \\mathbf{f}(t, \\mathbf{y}(t)),  \\qquad \\mathbf{y}(t_0) = \\mathbf{y}_0\n",
    "$$\n",
    "\n",
    "where we use boldface to denote vectors in $\\mathbb{R}^m$,\n",
    "\n",
    "$$\n",
    "\\mathbf{y}(t) =\n",
    "\\left(\n",
    "\\begin{array}{c}\n",
    "y_1(t) \n",
    "\\\\ y_2(t) \n",
    "\\\\ \\vdots \n",
    "\\\\ y_m(t)\n",
    "\\end{array}\n",
    "\\right),\n",
    "\\qquad\n",
    "\\mathbf{f}(t,\\mathbf{y}) =\n",
    "\\left(\n",
    "\\begin{array}{c}\n",
    "f_1(t,y_1,y_2,\\dotsc,y_m), \n",
    "\\\\ f_2(t,y_1,y_2,\\dotsc,y_m), \n",
    "\\\\ \\vdots \n",
    "\\\\ f_m(t,y_1,y_2,\\dotsc,y_m),\n",
    "\\end{array}\n",
    "\\right),\n",
    "\\qquad\n",
    "\\mathbf{y}_0 =\n",
    "\\left(\n",
    "\\begin{array}{c}\n",
    "y_{1,0} \n",
    "\\\\ y_{2,0} \n",
    "\\\\ \\vdots \n",
    "\\\\ y_{m,0}\n",
    "\\end{array}\n",
    "\\right).\n",
    "$$"
   ]
  },
  {
   "cell_type": "markdown",
   "id": "92b57104",
   "metadata": {
    "editable": true,
    "slideshow": {
     "slide_type": "slide"
    },
    "tags": []
   },
   "source": [
    "Eksempel - Lotka-Volterra equation\n",
    "\n",
    "The [Lotka-Volterra equation](https://en.wikipedia.org/wiki/Lotka-Volterra_equations) is\n",
    "a system of two ODEs describing the interaction between preys and\n",
    "predators over time. The system is given by\n",
    "\n",
    "\\begin{align*}\n",
    "y'(t) &= \\alpha y(t) - \\beta y(t) z(t) \\\\ \n",
    "z'(t) &= \\delta y(t)z(t) - \\gamma z(t)\n",
    "\\end{align*}\n",
    "\n",
    "where $t$ denotes time, $y(t)$ describes the population of preys and\n",
    "$z(t)$ the population of predators.  The parameters $\\alpha, \\beta,\n",
    "\\delta$ and $\\gamma$ depends on the populations to be modeled."
   ]
  },
  {
   "cell_type": "markdown",
   "id": "0abe22e6",
   "metadata": {
    "editable": true,
    "slideshow": {
     "slide_type": "slide"
    },
    "tags": []
   },
   "source": [
    "Eksempel - Spreading of diseases\n",
    "\n",
    "Motivated by the recent corona virus pandemic, we consider\n",
    "a (simple!) model for the spreading of an infectious disease,\n",
    "which goes under the name [SIR model](https://en.wikipedia.org/wiki/Compartmental_models_in_epidemiology#The_SIR_model)."
   ]
  },
  {
   "cell_type": "markdown",
   "id": "010b1b75",
   "metadata": {
    "editable": true,
    "slideshow": {
     "slide_type": "slide"
    },
    "tags": []
   },
   "source": [
    "The SIR models divides the population into three\n",
    "population classes, namely\n",
    "* S(t): number individuals  **susceptible** for infection,\n",
    "* I(t): number **infected** individuals, capable of transmitting the disease,\n",
    "* R(t): number  **removed** individuals who cannot be infected due death or to immunity  \n",
    "  after recovery\n",
    "\n",
    "The model is of the spreading of a disease is based\n",
    "on moving individual from $S$ to $I$ and then to $R$."
   ]
  },
  {
   "cell_type": "markdown",
   "id": "408df034",
   "metadata": {
    "editable": true,
    "slideshow": {
     "slide_type": "fragment"
    },
    "tags": []
   },
   "source": [
    "The final ODE system is given by\n",
    "\n",
    "\\begin{align}\n",
    "S' &= - \\beta S I\n",
    "\\\\\n",
    "I' &= \\beta S I - \\gamma I\n",
    "\\\\\n",
    "R' &= \\gamma I,\n",
    "\\end{align}\n",
    "\n",
    "where $\\beta$ denotes the infection rate, and $\\gamma$ the removal rate."
   ]
  },
  {
   "cell_type": "markdown",
   "id": "5e8cfec9",
   "metadata": {
    "editable": true,
    "slideshow": {
     "slide_type": "slide"
    },
    "tags": []
   },
   "source": [
    "### Higher order ODEs\n",
    "An initial value  ODE of order $m$ is given by\n",
    "\n",
    "$$\n",
    "u^{(m)} = f(t,u,u',\\dotsc,u^{(m-1)}), \\qquad u(t_0)=u_0, \\quad\n",
    "u'(t_0)=u'_0,\\quad  \\dotsc, \\quad u^{(m-1)}(t_0) = u^{(m-1)}_0.\n",
    "$$\n",
    "\n",
    "Here $u^{(1)} =u'$ and $u^{(m+1)}=\\frac{du^{(m)}}{dx}$, for $m>0$."
   ]
  },
  {
   "cell_type": "markdown",
   "id": "ae558d12",
   "metadata": {
    "editable": true,
    "slideshow": {
     "slide_type": "slide"
    },
    "tags": []
   },
   "source": [
    "Eksempel - Van der Pol's equation\n",
    "\n",
    "[Van der Pol's equation](https://en.wikipedia.org/wiki/Van_der_Pol_oscillator)\n",
    "is a second order differential equation, given by\n",
    "\n",
    "\n",
    "$$\n",
    "u^{(2)} = \\mu (1-u^2)u' - u, \\qquad u(0)=u_0, \\quad u'(0)=u'_0,\n",
    "$$\n",
    "\n",
    "where $\\mu>0$ is some constant.  As initial values $u_0=2$ and\n",
    "$u'_0=0$ are common choices.\n",
    "\n",
    "Van der Pol's equation describes a non-conservative oscillator with\n",
    "non-linear damping and can be used (possibly with modifications) to\n",
    "model electrical circuits, heartbeats, and other biological systems\n",
    "exhibiting oscillatory behavior.\n",
    "\n",
    "Later in this module we will see how such equations can be rewritten as a\n",
    "system of first order ODEs.  Systems of higher order ODEs can be treated similarly."
   ]
  }
 ],
 "metadata": {
  "jupytext": {
   "formats": "ipynb,md:myst"
  },
  "kernelspec": {
   "display_name": "Python 3 (ipykernel)",
   "language": "python",
   "name": "python3"
  },
  "language_info": {
   "codemirror_mode": {
    "name": "ipython",
    "version": 3
   },
   "file_extension": ".py",
   "mimetype": "text/x-python",
   "name": "python",
   "nbconvert_exporter": "python",
   "pygments_lexer": "ipython3",
   "version": "3.13.2"
  }
 },
 "nbformat": 4,
 "nbformat_minor": 5
}
