{
 "cells": [
  {
   "cell_type": "markdown",
   "metadata": {
    "editable": true,
    "slideshow": {
     "slide_type": ""
    },
    "tags": []
   },
   "source": [
    "## Numerical solution of ordinary differential equations: Stiff problems"
   ]
  },
  {
   "cell_type": "markdown",
   "metadata": {
    "editable": true,
    "slideshow": {
     "slide_type": ""
    },
    "tags": []
   },
   "source": [
    "And of course we want to import the required modules."
   ]
  },
  {
   "cell_type": "code",
   "execution_count": null,
   "metadata": {
    "editable": true,
    "slideshow": {
     "slide_type": ""
    },
    "tags": [
     "thebe-init",
     "hide-input"
    ]
   },
   "outputs": [],
   "source": [
    "%matplotlib inline\n",
    "\n",
    "import numpy as np\n",
    "from numpy import pi\n",
    "from numpy.linalg import solve, norm    \n",
    "import matplotlib.pyplot as plt\n",
    "\n",
    "# Use a funny plotting style\n",
    "plt.xkcd()\n",
    "newparams = {'font.family': 'Comic Sans MS',\n",
    "             'figure.figsize': (6.0, 6.0), 'axes.grid': True,\n",
    "             'lines.markersize': 8, 'lines.linewidth': 2,\n",
    "             'font.size': 14}\n",
    "plt.rcParams.update(newparams)\n"
   ]
  },
  {
   "cell_type": "markdown",
   "metadata": {
    "editable": true,
    "slideshow": {
     "slide_type": ""
    },
    "tags": []
   },
   "source": [
    "### Explicit Euler method and a stiff problem\n",
    "\n",
    "We start by taking a second look at the IVP\n",
    "\n",
    "$$\n",
    "y'(t) = \\lambda y(t), \\quad y(t_0) = y_0.\n",
    "$$ (stiff:ode:eq:exponential)\n",
    "\n",
    "with the analytical solution\n",
    "\n",
    "\\begin{equation}\n",
    "y(t) = y_0 e^{\\lambda(t-t_0)}.\n",
    "\\end{equation}\n"
   ]
  },
  {
   "cell_type": "markdown",
   "metadata": {
    "editable": true,
    "slideshow": {
     "slide_type": ""
    },
    "tags": []
   },
   "source": [
    "Recall that for $\\lambda > 0$ this equation can present a simple model\n",
    "for the growth of some population, while a negative $\\lambda < 0$\n",
    "typically appears in decaying processes (read \"negative growth\").\n",
    "\n",
    "So far we have only solved ([1](#stiff:ode:eq:exponential)) numerically\n",
    "for $\\lambda > 0$. Let's start with a little experiment.\n",
    "First, we set $y_0 = 1$ and $t_0 = 0$.\n",
    "Next, we chose different $\\lambda$ to model processes with various\n",
    "decay rates, let's say"
   ]
  },
  {
   "cell_type": "markdown",
   "metadata": {
    "editable": true,
    "slideshow": {
     "slide_type": ""
    },
    "tags": []
   },
   "source": [
    "$$\n",
    "\\lambda \\in \\{ -10, -50, -250\\}.\n",
    "$$"
   ]
  },
  {
   "cell_type": "markdown",
   "metadata": {
    "editable": true,
    "slideshow": {
     "slide_type": ""
    },
    "tags": []
   },
   "source": [
    "For each of those $\\lambda$, we set a reference step length"
   ]
  },
  {
   "cell_type": "markdown",
   "metadata": {
    "editable": true,
    "slideshow": {
     "slide_type": ""
    },
    "tags": []
   },
   "source": [
    "$$\n",
    "\\tau_{\\lambda} = \\dfrac{2}{|\\lambda|}\n",
    "$$"
   ]
  },
  {
   "cell_type": "markdown",
   "metadata": {
    "editable": true,
    "slideshow": {
     "slide_type": ""
    },
    "tags": []
   },
   "source": [
    "(we will soon see why!) and compute a numerical solution using the explict Euler method\n",
    "for three different time steps, namely for\n",
    "$\n",
    "\\tau \\in\n",
    "\\{\n",
    "0.1 \\tau_{\\lambda},\n",
    "\\tau_{\\lambda},\n",
    "1.1 \\tau_{\\lambda}\n",
    "\\}\n",
    "$\n",
    "and plot the numerical solution together with the exact solution."
   ]
  },
  {
   "cell_type": "code",
   "execution_count": null,
   "metadata": {
    "editable": true,
    "slideshow": {
     "slide_type": ""
    },
    "tags": []
   },
   "outputs": [],
   "source": [
    "def explicit_euler(y0, t0, T, f, Nmax):\n",
    "    ys = [y0]\n",
    "    ts = [t0]\n",
    "    dt = (T - t0)/Nmax\n",
    "    while(ts[-1] < T):\n",
    "        t, y = ts[-1], ys[-1]  \n",
    "        ys.append(y + dt*f(t, y))\n",
    "        ts.append(t + dt)\n",
    "    return (np.array(ts), np.array(ys))\n"
   ]
  },
  {
   "cell_type": "code",
   "execution_count": null,
   "metadata": {
    "editable": true,
    "slideshow": {
     "slide_type": ""
    },
    "tags": []
   },
   "outputs": [],
   "source": [
    "plt.rcParams['figure.figsize'] = (16.0, 12.0)\n",
    "t0, T = 0, 1\n",
    "y0 = 1\n",
    "lams = [-10, -50, -250]\n",
    "\n",
    "fig, axes = plt.subplots(3,3)\n",
    "fig.tight_layout(pad=3.0)\n",
    "\n",
    "for i in range(len(lams)):\n",
    "    lam = lams[i]\n",
    "    tau_l = 2/abs(lam)\n",
    "    taus = [0.1*tau_l, tau_l, 1.1*tau_l]\n",
    "\n",
    "    # rhs of IVP\n",
    "    f = lambda t,y: lam*y\n",
    "\n",
    "    # Exact solution to compare against\n",
    "    y_ex = lambda t: y0*np.exp(lam*(t-t0))\n",
    "\n",
    "    # Compute solution for different time step size\n",
    "    for j in range(len(taus)):\n",
    "        tau = taus[j]\n",
    "        Nmax = int(1/tau)\n",
    "        ts, ys = explicit_euler(y0, t0, T, f, Nmax)\n",
    "        ys_ex = y_ex(ts)\n",
    "        axes[i,j].set_title(f\"$\\\\lambda = {lam}$, $\\\\tau = {tau:0.2f}$\")\n",
    "        axes[i,j].plot(ts, ys, \"ro-\")\n",
    "        axes[i,j].plot(ts, ys_ex)\n",
    "        axes[i,j].legend([r\"$y_{\\mathrm{FE}}$\", \"$y_{\\\\mathrm{ex}}$\"])\n",
    "        "
   ]
  },
  {
   "cell_type": "markdown",
   "metadata": {
    "editable": true,
    "slideshow": {
     "slide_type": ""
    },
    "tags": []
   },
   "source": [
    "Looking at the first column of the plot,\n",
    "we observe a couple of things.\n",
    "First, the numerical solutions computed with a time step $\\tau = 0.1 \\tau_{\\lambda}$\n",
    "closely resembles the exact solution.\n",
    "Second, the exact solution approaches for larger $t$\n",
    "a stationary solution (namely 0), which does not change significantly over time.\n",
    "Third, as expected, the exact solution decays the faster the larger the absolute\n",
    "value of $\\lambda$ is. \n",
    "In particular for $\\lambda = -250$, the\n",
    "exact solution $y_{\\mathrm{ex}}$\n",
    "drops from \n",
    "$y_{\\mathrm{ex}}(0) = 1$\n",
    "to\n",
    "$y_{\\mathrm{ex}}(0.05) \\approx 3.7\\cdot 10^{-6}$\n",
    "at $t = 0.05$, and\n",
    "at $t=0.13$,\n",
    "the exact solution is practically indistinguishable\n",
    "from $0$ as\n",
    "$y_{\\mathrm{ex}}(0.13) \\approx 7.7\\cdot 10^{-16}$.\n",
    "\n",
    "Looking at the second column, we observe that\n",
    "a time-step size $\\tau =  \\tau_{\\lambda}$,\n",
    "the numerical solution oscillates between\n",
    "$-1$ and $1$, and thus the numerical\n",
    "solution does not resemble at all the\n",
    "monotonic and rapid decrease of the exact solution.\n",
    "The situation gets even worse for a time-step size\n",
    "$\\tau > \\tau_{\\lambda}$ (third column) where the the numerical solution growths\n",
    "exponentially (in absolute values) instead of decaying exponentially\n",
    "as the $y_{\\mathrm{ex}}$ does.\n",
    "\n",
    "So what is happening here? Why is the explicit Euler method behaving so strangely?\n",
    "Having a closer look at the computation of a single step in Euler's method\n",
    "for this particular test problem, we see that"
   ]
  },
  {
   "cell_type": "markdown",
   "metadata": {
    "editable": true,
    "slideshow": {
     "slide_type": ""
    },
    "tags": []
   },
   "source": [
    "\\begin{align*}\n",
    "y_{i+1} &= y_i + \\tau f(t_i, y_i)\n",
    "= y_i + \\tau \\lambda y_i\n",
    "= (1 + \\tau \\lambda) y_i \n",
    "= (1 + \\tau \\lambda)^2 y_{i-1}\n",
    "= \\ldots\n",
    "= (1 + \\tau \\lambda)^{i+1} y_0\n",
    "\\end{align*}"
   ]
  },
  {
   "cell_type": "markdown",
   "metadata": {
    "editable": true,
    "slideshow": {
     "slide_type": ""
    },
    "tags": []
   },
   "source": [
    "Thus, for this particular IVP, the next step $y_{i+1}$ is simply computed by\n",
    "by multiplying the current value $y_i$ with the the function $(1+\\tau\\lambda)$."
   ]
  },
  {
   "cell_type": "markdown",
   "metadata": {
    "editable": true,
    "slideshow": {
     "slide_type": ""
    },
    "tags": []
   },
   "source": [
    "\\begin{align*}\n",
    "y_{i+1} = R(z)^{i+1} y_0, \\quad z = \\tau \\lambda\n",
    "\\end{align*}"
   ]
  },
  {
   "cell_type": "markdown",
   "metadata": {
    "editable": true,
    "slideshow": {
     "slide_type": ""
    },
    "tags": []
   },
   "source": [
    "where $R(z) = (1+z)$ is called the **stability function** of the\n",
    "explicit Euler method.\n",
    "\n",
    "Now we can understand what is happening. Since $\\lambda < 0$ and $\\tau > 0$,\n",
    "we see that as long as\n",
    "$\n",
    "\\tau \\lambda >  - 2 \\Leftrightarrow  \\tau < \\dfrac{2}{|\\lambda|}\n",
    "$, we have\n",
    "that $|1 + \\tau \\lambda| < 1$ and therefore,\n",
    "$|y_i| = |1 + \\tau \\lambda|^{i+1} y_0$ is decreasing and\n",
    "converging to $0$ \n",
    "For $\\tau = \\dfrac{2}{|\\lambda|} = \\tau_{\\lambda}$,\n",
    "we obtain"
   ]
  },
  {
   "cell_type": "markdown",
   "metadata": {
    "editable": true,
    "slideshow": {
     "slide_type": ""
    },
    "tags": []
   },
   "source": [
    "$$\n",
    "y_{i+1} = (1 + \\tau \\lambda)^{i+1} y_0 = (-1)^{i+1} y_0\n",
    "$$"
   ]
  },
  {
   "cell_type": "markdown",
   "metadata": {
    "editable": true,
    "slideshow": {
     "slide_type": ""
    },
    "tags": []
   },
   "source": [
    "so the numerical solution will be jump between $-1$ and\n",
    "$1$, exactly as observed in the numerical experiment.\n",
    "Finally, for\n",
    "$\\tau > \\dfrac{2}{|\\lambda|} = \\tau_{\\lambda}$,\n",
    "$|1 + \\tau \\lambda| > 1$, and\n",
    "$|y_{i+1}| = |1 + \\tau \\lambda|^{i+1} y_0$\n",
    "is growing exponentially.\n",
    "\n",
    "Note, that is line of thoughts hold independent of\n",
    "the initial value $y_0$.\n",
    "So even if we just want to solve our test problem ([1](#stiff:ode:eq:exponential))\n",
    "*away* from the transition zone where $y_{\\mathrm{ex}}$ drops\n",
    "from $1$ to almost $0$, we need to apply a\n",
    "time-step $\\tau <  \\tau_{\\lambda}$ to avoid\n",
    "that Euler's method produces a completely wrong\n",
    "solution which exhibits exponential growth instead of\n",
    "exponential decay."
   ]
  },
  {
   "cell_type": "markdown",
   "metadata": {
    "editable": true,
    "slideshow": {
     "slide_type": ""
    },
    "tags": []
   },
   "source": [
    "Oppsummering\n",
    "\n",
    "For the IVP problem `stiff:ode:eq:exponential`,\n",
    "Euler's method has to obey a time step restriction\n",
    "$\\tau < \\dfrac{2}{|\\lambda|}$ to avoid numerical instabilities\n",
    "in the form of exponential growth.\n",
    "\n",
    "This time restriction becomes more severe the larger the absolute value\n",
    "of $\\lambda < 0$ is. On the other hand, the larger\n",
    "the absolute value of $\\lambda < 0$ is, the faster\n",
    "the actual solution approaches the stationary solution $0$.\n",
    "Thus it would be reseaonable to use large time-steps when\n",
    "the solution is close to the stationary solution. Nevertheless,\n",
    "because of the time-step restriction and stability issues,\n",
    "we are forced to use very small time-steps, despite the fact that the\n",
    "exact solution is not changing very much. This is a typical characteristic of\n",
    "a **stiff problem**.\n",
    "So the IVP problem `stiff:ode:eq:exponential` gets \"stiffer\"\n",
    "the larger the absolute value of $\\lambda < 0$ is,\n",
    "resulting in a severe time step restriction\n",
    "$\\tau < \\dfrac{2}{|\\lambda|}$ to avoid numerical instabilities."
   ]
  },
  {
   "attachments": {},
   "cell_type": "markdown",
   "metadata": {
    "editable": true,
    "slideshow": {
     "slide_type": ""
    },
    "tags": []
   },
   "source": [
    "**Outlook.**\n",
    "Next, we will consider other one-step methods and investigate\n",
    "how they behave when applied to the test problem `stiff:ode:eq:exponential`.\n",
    "All these one step methods will have a common, that the advancement\n",
    "from $y_{k}$ to $y_{k+1}$ can be written as\n",
    "\n",
    "$$\n",
    "y_{k+1} = R(z) y_{k} \\quad \\text{with } z = \\tau \\lambda\n",
    "$$\n",
    "\n",
    "for some **stability function** $R(z)$.\n",
    "\n",
    "\n",
    "With our previous analysis in mind\n",
    "we will introduce the following"
   ]
  },
  {
   "cell_type": "markdown",
   "metadata": {
    "editable": true,
    "slideshow": {
     "slide_type": ""
    },
    "tags": []
   },
   "source": [
    "Definisjon - Stability domain\n",
    "\n",
    "Let $R(z)$ be the stability function for some one-step function.\n",
    "Then the domain\n",
    "\n",
    "<font color='LightSkyBlue'>\n",
    "\n",
    "$$\n",
    "\\mathcal{S} = \\{ z \\in \\mathbb{R}: |R(z)| \\leqslant 1 \\}\n",
    "$$ (stiff:ode:stability_domain)\n",
    "\n",
    "</font>\n",
    "\n",
    "\n",
    "is called the **domain of stability**."
   ]
  },
  {
   "cell_type": "markdown",
   "metadata": {
    "editable": true,
    "slideshow": {
     "slide_type": ""
    },
    "tags": []
   },
   "source": [
    "Usually, one consider the entire complex plane in the definition\n",
    "of the domain of stability, that is, \n",
    "$\\mathcal{S} = \\{ z \\in \\mathbb{C}: |R(z)| \\leqslant 1 \\}$\n",
    "but in this course we can restrict ourselves to only\n",
    "insert real arguments in the stability function."
   ]
  },
  {
   "cell_type": "markdown",
   "metadata": {
    "editable": true,
    "slideshow": {
     "slide_type": ""
    },
    "tags": []
   },
   "source": [
    "Let's plot the domain of stability for the explicit Euler method."
   ]
  },
  {
   "cell_type": "code",
   "execution_count": null,
   "metadata": {
    "editable": true,
    "slideshow": {
     "slide_type": ""
    },
    "tags": [
     "thebe-init",
     "hide-input"
    ]
   },
   "outputs": [],
   "source": [
    "def plot_stability_domain(r, xlim=(-3, 3), ylim=(-3, 3), resolution=500):\n",
    "    \"\"\"\n",
    "    Plots the stability domain of a given rational function r(z) where |r(z)| <= 1.\n",
    "    \n",
    "    Parameters:\n",
    "    - r: A function representing the rational function r(z).\n",
    "    - xlim: Tuple representing the x-axis limits for the plot.\n",
    "    - ylim: Tuple representing the y-axis limits for the plot.\n",
    "    - resolution: The number of points along each axis for the grid.\n",
    "    \"\"\"\n",
    "    # Create a grid of complex numbers\n",
    "    x = np.linspace(xlim[0], xlim[1], resolution)\n",
    "    y = np.linspace(ylim[0], ylim[1], resolution)\n",
    "    X, Y = np.meshgrid(x, y)\n",
    "    Z = X + 1j * Y\n",
    "    \n",
    "    # Compute |r(z)| on the grid\n",
    "    R = np.abs(r(Z))\n",
    "    \n",
    "    # Plot the stability domain\n",
    "    plt.figure(figsize=(8, 8))\n",
    "    plt.contourf(X, Y, R, levels=[0, 1], colors=['blue'], alpha=0.5)    # viser kun stabilitetsområdet\n",
    "    # plt.contourf(X, Y, R, colors=['blue'], alpha=0.5)    # viser nivåkurver for R(z)\n",
    "    plt.contour(X, Y, R, levels=[1], colors=['black'])\n",
    "    plt.axhline(0, color='black', linewidth=0.5)\n",
    "    plt.axvline(0, color='black', linewidth=0.5)\n",
    "    plt.xlim(xlim)\n",
    "    plt.ylim(ylim)\n",
    "    plt.xlabel('Re(z)')\n",
    "    plt.ylabel('Im(z)')\n",
    "    plt.title('Stability Domain')\n",
    "    plt.grid(True)\n",
    "    plt.show()\n"
   ]
  },
  {
   "cell_type": "code",
   "execution_count": null,
   "metadata": {
    "editable": true,
    "slideshow": {
     "slide_type": ""
    },
    "tags": []
   },
   "outputs": [],
   "source": [
    "def r_fe(z):\n",
    "    return 1 + z\n",
    "\n",
    "plot_stability_domain(r_fe)"
   ]
  },
  {
   "cell_type": "markdown",
   "metadata": {
    "editable": true,
    "slideshow": {
     "slide_type": ""
    },
    "tags": []
   },
   "source": [
    "Time-step restrictions for explicit RKM\n",
    "\n",
    "Unfortunately, all **explicit Runge-Kutta methods** when\n",
    "applied to the simple test problem `stiff:ode:eq:exponential`\n",
    "will suffer from similar problems as the explicit Euler method,\n",
    "for the following reason:\n",
    "\n",
    "It can be shown that for any **explicit** RKM, its corresponding stability function $r(z)$\n",
    "must be a polynomial in $z$. Since complex polynomials satisfy $|r(z)| \\to \\infty$ for $|z| \\to \\infty$, \n",
    "its **domain of stability** as defined above must be bounded. \n",
    "Consequently,\n",
    "there will a constant $C$ such that any time step\n",
    "$\\tau > \\dfrac{C}{|\\lambda|}$ will lead to numerical instabilities."
   ]
  },
  {
   "cell_type": "markdown",
   "metadata": {
    "editable": true,
    "slideshow": {
     "slide_type": ""
    },
    "tags": []
   },
   "source": [
    "### The implicit Euler method\n",
    "Previously, we considered Euler's method,\n",
    "for the first-order IVP"
   ]
  },
  {
   "cell_type": "markdown",
   "metadata": {
    "editable": true,
    "slideshow": {
     "slide_type": ""
    },
    "tags": []
   },
   "source": [
    "$$\n",
    "y'(t) = f(t,y(t)), \\qquad y(t_0)=y_0\n",
    "$$"
   ]
  },
  {
   "cell_type": "markdown",
   "metadata": {},
   "source": [
    "where the new approximation $y_{k+1}$ at $t_{k+1}$\n",
    "is defined by"
   ]
  },
  {
   "cell_type": "markdown",
   "metadata": {},
   "source": [
    "$$\n",
    "y_{k+1} := y_{k} + \\tau f(t_{k}, y_{k})\n",
    "$$"
   ]
  },
  {
   "cell_type": "markdown",
   "metadata": {},
   "source": [
    "We saw that this could be interpreted as replacing\n",
    "the differential quotient $y'$ \n",
    "by a **forward difference quotient**"
   ]
  },
  {
   "cell_type": "markdown",
   "metadata": {},
   "source": [
    "$$\n",
    "f(t_k,y_k) = y'(t_k) \\approx\n",
    " \\dfrac{y(t_{k+1}) - y(t_k)}{\\tau}\n",
    "$$"
   ]
  },
  {
   "cell_type": "markdown",
   "metadata": {},
   "source": [
    "Here the term \"forward\" refers to the fact that we use a forward value $y(t_{k+1})$\n",
    "at $t_{k+1}$ to approximate the differential quotient at $t_k$.\n",
    "\n",
    "Now we consider a variant of Euler's method, known as the\n",
    "**implicit** or **backward** Euler method.\n",
    "This time, we simply replace\n",
    "the differential quotient $y'$ \n",
    "by a **backward difference quotient**"
   ]
  },
  {
   "cell_type": "markdown",
   "metadata": {},
   "source": [
    "$$\n",
    "f(t_k,y_k) = y'(t_k) \\approx\n",
    " \\dfrac{y(t_{k}) - y(t_{k-1})}{\\tau}\n",
    "$$"
   ]
  },
  {
   "cell_type": "markdown",
   "metadata": {
    "editable": true,
    "slideshow": {
     "slide_type": ""
    },
    "tags": []
   },
   "source": [
    "resulting in the following\n",
    "\n",
    "<font color='LightSkyBlue'> Algoritme - Implicit/backward Euler method </font>\n",
    "\n",
    "Given a function $f(t,y)$ and an initial value $(t_0,y_0)$.\n",
    "* Set $t = t_0$, choose $\\tau$.\n",
    "\n",
    "* $\\texttt{while } t < T$:\n",
    "\n",
    "  * $\\displaystyle y_{k+1} := y_{k} + \\tau f(t_{k+1}, y_{k+1})$ \n",
    "\n",
    "  * $t_{k+1}:=t_k+\\tau$\n",
    "\n",
    "  * $t := t_{k+1}$\n",
    "\n",
    "Note that in contrast to the explicit/forward Euler, the new value\n",
    "of $y_{k+1}$ is only *implicitly* defined as it appears both on the\n",
    "left-hand side and right-hand side.\n",
    "Generally, if $f$ is nonlinear in its $y$ argument, this amounts\n",
    "to solve a non-linear equation, e.g., by using fix-point iterations\n",
    "or Newton's method. But if $f$ is linear in $y$, that we only\n",
    "need to solve a *linear system*.\n",
    "\n",
    "Let's see what we get if we apply the backward Euler method\n",
    "to our model problem.\n",
    "\n",
    "\n",
    "\n",
    "<!-- --- begin exercise --- -->"
   ]
  },
  {
   "attachments": {},
   "cell_type": "markdown",
   "metadata": {
    "editable": true,
    "slideshow": {
     "slide_type": ""
    },
    "tags": []
   },
   "source": [
    "Oppgave - Implicit/backward Euler method\n",
    "\n",
    "<font color='red'>\n",
    "\n",
    "**a)**\n",
    "Show that the backward difference operator (and therefore the\n",
    "backward Euler method) has consistency order $1$, that is,\n",
    "\n",
    "$$\n",
    "y(t) + \\tau f(t+\\tau, y(t+\\tau)) - y(t+\\tau) = \\mathcal{O}(\\tau^2)\n",
    "$$\n",
    "\n",
    "</font>\n",
    "\n",
    "**b)**\n",
    "Implement the implicit/backward Euler method\n",
    "\n",
    "```Python\n",
    "        def implicit_euler(y0, t0, T, lam, Nmax):\n",
    "          ...\n",
    "```\n",
    "\n",
    "for the IVP\n",
    "$$\n",
    "y'(t) = \\lambda y(t), \\quad y(t_0) = y_0.\n",
    "$$.\n",
    "Note that we now take $\\lambda$ as a parameter, and\n",
    "not a general function $f$ as we want to keep as simple\n",
    "as possible Otherwise we need to implement a nonlinear\n",
    "solver if we allow for arbitrary right-hand sides $f$.\n",
    "You use the code for `explicit_euler` as a start point."
   ]
  },
  {
   "cell_type": "code",
   "execution_count": null,
   "metadata": {},
   "outputs": [],
   "source": [
    "# advarsel! implicit euler kun implementert for testlikningen, ikke en generell f\n",
    "def implicit_euler(y0, t0, T, lam, Nmax):\n",
    "    ys = [y0]\n",
    "    ts = [t0]\n",
    "    dt = (T - t0)/Nmax\n",
    "    while(ts[-1] < T):\n",
    "        t, y = ts[-1], ys[-1]   # t og y er t_k og y_k\n",
    "        ys.append(y/(1-dt*lam))\n",
    "        ts.append(t + dt)\n",
    "    return (np.array(ts), np.array(ys))\n"
   ]
  },
  {
   "cell_type": "markdown",
   "metadata": {},
   "source": [
    "<font color='red'>\n",
    "\n",
    "**c)**\n",
    "Write down the Butcher table for the implicit Euler method.\n",
    "\n",
    "</font>\n",
    "\n",
    "**d)** Rerun the numerical experiment from the previous section with the implicit Euler method. Do you observe any instabilities?"
   ]
  },
  {
   "cell_type": "code",
   "execution_count": null,
   "metadata": {},
   "outputs": [],
   "source": [
    "plt.rcParams['figure.figsize'] = (16.0, 12.0)\n",
    "t0, T = 0, 1\n",
    "y0 = 1\n",
    "lams = [-10, -50, -250]\n",
    "\n",
    "fig, axes = plt.subplots(3,3)\n",
    "fig.tight_layout(pad=3.0)\n",
    "\n",
    "for i in range(len(lams)):\n",
    "    lam = lams[i]\n",
    "    tau_l = 2/abs(lam)\n",
    "    taus = [0.1*tau_l, tau_l, 1.1*tau_l]\n",
    "\n",
    "    # rhs of IVP\n",
    "    f = lambda t,y: lam*y\n",
    "\n",
    "    # Exact solution to compare against\n",
    "    y_ex = lambda t: y0*np.exp(lam*(t-t0))\n",
    "\n",
    "    # Compute solution for different time step size\n",
    "    for j in range(len(taus)):\n",
    "        tau = taus[j]\n",
    "        Nmax = int(1/tau)\n",
    "        ts, ys = implicit_euler(y0, t0, T, lam, Nmax)\n",
    "        ys_ex = y_ex(ts)\n",
    "        axes[i,j].set_title(f\"$\\\\lambda = {lam}$, $\\\\tau = {tau:0.2f}$\")\n",
    "        axes[i,j].plot(ts, ys, \"ro-\")\n",
    "        axes[i,j].plot(ts, ys_ex)\n",
    "        axes[i,j].legend([r\"$y_{\\mathrm{FE}}$\", \"$y_{\\\\mathrm{ex}}$\"])\n",
    "        "
   ]
  },
  {
   "cell_type": "markdown",
   "metadata": {},
   "source": [
    "<font color='red'>\n",
    "\n",
    "**e)**\n",
    "Find the stability function $R(z)$\n",
    "for the implicit Euler satisfying\n",
    "\n",
    "\\begin{equation}\n",
    "y_{k+1} = R(\\tau \\lambda) y_{k}\n",
    "\\end{equation}\n",
    "\n",
    "and use it to explain the much better behavior of the implicit Euler when solving\n",
    "the initial value problem `stiff:ode:eq:exponential`.\n",
    "\n",
    "</font>"
   ]
  },
  {
   "attachments": {},
   "cell_type": "markdown",
   "metadata": {
    "editable": true,
    "slideshow": {
     "slide_type": ""
    },
    "tags": []
   },
   "source": [
    "Løsning\n",
    "\n",
    "**a)** As before, we simply do a Taylor expansion of $y$, but\n",
    "this time around $t+\\tau$.\n",
    "Then\n",
    "\n",
    "$$\n",
    "y(t) = y(t+ \\tau) - \\tau y'(t+ \\tau) + \\mathcal{O}(\\tau^2)\n",
    "= y(t+ \\tau) - \\tau f(t+ \\tau, y(t+ \\tau)) + \\mathcal{O}(\\tau^2)\n",
    "$$\n",
    "\n",
    "which after rearranging terms is\n",
    "exactly ([4](#stiff:ode:eq:consist_be))."
   ]
  },
  {
   "cell_type": "markdown",
   "metadata": {
    "editable": true,
    "slideshow": {
     "slide_type": ""
    },
    "tags": []
   },
   "source": [
    "**c)**\n",
    "\n",
    "$$\n",
    "\\begin{array}{c|c}\n",
    "1 & 1\n",
    "\\\\ \n",
    "\\hline\n",
    "& 1\n",
    "\\end{array}\n",
    "$$"
   ]
  },
  {
   "attachments": {},
   "cell_type": "markdown",
   "metadata": {
    "editable": true,
    "slideshow": {
     "slide_type": ""
    },
    "tags": []
   },
   "source": [
    "**e)**\n",
    "For $y' = \\lambda y =: f(t,y)$, the implicit Euler gives"
   ]
  },
  {
   "cell_type": "markdown",
   "metadata": {
    "editable": true,
    "slideshow": {
     "slide_type": ""
    },
    "tags": []
   },
   "source": [
    "\n",
    "\\begin{equation}\n",
    "y_{k+1} = y_{k} + \\tau \\lambda y_{k+1}\n",
    "\\end{equation}\n"
   ]
  },
  {
   "cell_type": "markdown",
   "metadata": {},
   "source": [
    "\n",
    "$$\n",
    "\\Leftrightarrow\n",
    "\\;  y_{k+1} = \\dfrac{1}{1 - \\tau \\lambda} y_k\n",
    "= \\left(\\dfrac{1}{1 - \\tau \\lambda}\\right)^{k+1} y_0.\n",
    "$$\n"
   ]
  },
  {
   "cell_type": "markdown",
   "metadata": {
    "editable": true,
    "slideshow": {
     "slide_type": ""
    },
    "tags": []
   },
   "source": [
    "Thus $R(z) = \\tfrac{1}{1-z}$. The domain of stability\n",
    "is $\\mathcal{S} = (-\\infty, 0] \\cup [2, \\infty)$, in particular,\n",
    "no matter how we chose $\\tau$, $|R(\\lambda z)| < 1$\n",
    "for $\\lambda < 0$. So the implicit Euler method is stable\n",
    "for the test problem ([1](#stiff:ode:eq:exponential)),\n",
    "independent of the choice of the time step."
   ]
  },
  {
   "cell_type": "markdown",
   "metadata": {
    "editable": true,
    "slideshow": {
     "slide_type": ""
    },
    "tags": []
   },
   "source": [
    "We can even plot it:"
   ]
  },
  {
   "cell_type": "code",
   "execution_count": null,
   "metadata": {
    "editable": true,
    "scrolled": true,
    "slideshow": {
     "slide_type": ""
    },
    "tags": []
   },
   "outputs": [],
   "source": [
    "def r_fe(z):\n",
    "    return 1/(1 - z)\n",
    "\n",
    "plot_stability_domain(r_fe)"
   ]
  },
  {
   "attachments": {},
   "cell_type": "markdown",
   "metadata": {
    "editable": true,
    "slideshow": {
     "slide_type": ""
    },
    "tags": []
   },
   "source": [
    "<font color='red'> -------------------------------------------------------------------------------------------------------------------------------------------------------------------------- </font>\n",
    "\n",
    "### The Crank-Nicolson\n",
    "Both the explicit/forward and the implicit/backward Euler method\n",
    "have consistency order $1$. Next we derive\n",
    "2nd order method.\n",
    "We start exactly as in the derivation of Heun's method.\n",
    "\n",
    "Again, we start from the *exact integral representation*,\n",
    "and apply the trapezoidal rule\n",
    "\n",
    "\\begin{align*}\n",
    "y(t_{k+1}) - y(t_k)\n",
    "&=\n",
    "\\int_{t_k}^{t_{k+1}} f(t,y(t)) {\\,\\mathrm{d}t}\n",
    "\\approx\n",
    "\\dfrac{\\tau_k}{2}\n",
    "\\left(\n",
    "f(t_{k+1}, y(t_{k+1})\n",
    "+\n",
    "f(t_{k}, y(t_{k})\n",
    "\\right)\n",
    "\\end{align*}"
   ]
  },
  {
   "attachments": {},
   "cell_type": "markdown",
   "metadata": {
    "editable": true,
    "slideshow": {
     "slide_type": ""
    },
    "tags": []
   },
   "source": [
    "This suggest to consider the *implicit* scheme\n",
    "\n",
    "$$\n",
    "\\begin{align*}\n",
    "y_{k+1} \n",
    "&=\n",
    "y_k +\n",
    "\\dfrac{\\tau_k}{2}\n",
    "\\left(\n",
    "f(t_{k+1}, y_{k+1})\n",
    "+\n",
    "f(t_{k}, y_{k})\n",
    "\\right)\n",
    "\\end{align*}\n",
    "$$\n",
    "\n",
    "which is known as the **Crank-Nicolson method**.\n",
    " "
   ]
  },
  {
   "cell_type": "markdown",
   "metadata": {
    "editable": true,
    "slideshow": {
     "slide_type": ""
    },
    "tags": []
   },
   "source": [
    ":::{exercise-start} Investigating the Crank-Nicolson method\n",
    ":label: ode:ex:cn-method\n",
    ":::\n",
    "\n",
    "**a)**\n",
    "Determine the Butcher table for the Crank-Nicolson method.\n",
    "\n",
    "\n",
    "<!-- --- begin solution of exercise --- -->\n",
    "**Solution.**\n",
    "We can rewrite Crank-Nicolson using two stage-derivatives $k_1$ and $k_2$ as follows."
   ]
  },
  {
   "cell_type": "markdown",
   "metadata": {
    "editable": true,
    "slideshow": {
     "slide_type": ""
    },
    "tags": []
   },
   "source": [
    "\\begin{align*}\n",
    "k_1 &= f(t_{k}, y_{k})\n",
    "=\n",
    "f(t_{k} + 0 \\cdot \\tau,\n",
    "y_{k}\n",
    "+ \\tau(\n",
    "0 \\cdot k_1\n",
    "+ 0 \\cdot k_2\n",
    "))\n",
    " \\\\ \n",
    "k_2 &=\n",
    "f(t_{k+1}, y_{k+1})\n",
    "= \n",
    "f(t_{k} + 1 \\cdot \\tau,\n",
    "y_{k}\n",
    "+ \\tau(\\tfrac{1}{2} k_1\n",
    "+ \\tfrac{1}{2} k_2))\n",
    "\\\\ \n",
    "y_{k+1} &= y_{k} + \\tau(\\tfrac{1}{2} k_1 + \\tfrac{1}{2} k_2)\n",
    "\\end{align*}"
   ]
  },
  {
   "cell_type": "markdown",
   "metadata": {},
   "source": [
    "and thus the Butcher table is given by"
   ]
  },
  {
   "cell_type": "markdown",
   "metadata": {
    "editable": true,
    "slideshow": {
     "slide_type": ""
    },
    "tags": []
   },
   "source": [
    "$$\n",
    "\\begin{array}{c|c c}\n",
    "0 & 0 & 0\n",
    "\\\\ \n",
    "1 & \\tfrac{1}{2}  & \\tfrac{1}{2}\n",
    "\\\\ \n",
    "\\hline\n",
    "& \\tfrac{1}{2}  & \\tfrac{1}{2}\n",
    "\\end{array}.\n",
    "$$"
   ]
  },
  {
   "cell_type": "markdown",
   "metadata": {
    "editable": true,
    "slideshow": {
     "slide_type": ""
    },
    "tags": []
   },
   "source": [
    "<!-- --- end solution of exercise --- -->\n",
    "\n",
    "**b)**\n",
    "Use the order conditions discussed in the `RungeKuttaNuMeODE.ipynb`\n",
    "to show that Crank-Nicolson is of consistency/convergence order 2.\n",
    "\n",
    "**c)**\n",
    "Determine the stability function $R(z)$ associated with the\n",
    "Crank-Nicolson method and discuss the implications on the stability of\n",
    "the method for the test problem ([1](#stiff:ode:eq:exponential)).\n",
    "\n",
    "\n",
    "<!-- --- begin solution of exercise --- -->\n",
    "**Solution.**\n",
    "With $f(t,y) = \\lambda y$,"
   ]
  },
  {
   "cell_type": "markdown",
   "metadata": {},
   "source": [
    "\\begin{align*}\n",
    "y_{k+1} \n",
    "&=\n",
    "y_k +\n",
    "\\dfrac{\\tau}{2}\n",
    "\\lambda y_{k+1}\n",
    "+\n",
    "\\dfrac{\\tau}{2}\n",
    "\\lambda y_{k}\n",
    "\\end{align*}"
   ]
  },
  {
   "cell_type": "markdown",
   "metadata": {},
   "source": [
    "and thus"
   ]
  },
  {
   "cell_type": "markdown",
   "metadata": {
    "editable": true,
    "slideshow": {
     "slide_type": ""
    },
    "tags": []
   },
   "source": [
    "\\begin{align*}\n",
    "y_{k+1} \n",
    "&=\n",
    "\\dfrac{1+\\tfrac{\\tau \\lambda}{2}}\n",
    "{1-\\tfrac{\\tau \\lambda}{2}}\n",
    "y_k\n",
    "\\end{align*}"
   ]
  },
  {
   "cell_type": "markdown",
   "metadata": {},
   "source": [
    "and therefore"
   ]
  },
  {
   "cell_type": "markdown",
   "metadata": {
    "editable": true,
    "slideshow": {
     "slide_type": ""
    },
    "tags": []
   },
   "source": [
    "$$\n",
    "R(z) =\n",
    "\\dfrac{1+\\tfrac{z}{2}}\n",
    "{1-\\tfrac{z}{2}}.\n",
    "$$"
   ]
  },
  {
   "cell_type": "markdown",
   "metadata": {
    "editable": true,
    "slideshow": {
     "slide_type": ""
    },
    "tags": []
   },
   "source": [
    "As result, the stability domain $(-\\infty, 0] \\subset \\mathcal{S}$,\n",
    "in particular, Crank-Nicolson is stable for our test problem,\n",
    "independent of the choice of the time-step.\n",
    "\n",
    "**d)**\n",
    "Implement the Crank-Nicolson method to solve the\n",
    "test problem (stiff:ode:eq:exponential) numerically.\n",
    "\n",
    "**Hint.**\n",
    "You can start from `implicit_euler` function implemented earlier, you only need to change\n",
    "a single line.\n",
    "\n",
    "**e)**\n",
    "Check the convergence rate for your implementation by solving \n",
    "(stiff:ode:eq:exponential)\n",
    "with $\\lambda = 2$, $t_0 = 1, T = 2$\n",
    "and $y_0 = 1$ for various time step sizes and compute the\n",
    "corresponding experimental order of convergence (EOC)\n",
    "\n",
    "**f)**\n",
    "Finally, rerun the stability experiment from\n",
    "the section {ref}`ssec:ex_euler_stiff`\n",
    "with Crank-Nicolson.\n",
    "\n",
    ":::{exercise-end} \n",
    ":::\n",
    "\n",
    "<font color='red'> -------------------------------------------------------------------------------------------------------------------------------------------------------------------------- </font>"
   ]
  },
  {
   "cell_type": "markdown",
   "metadata": {
    "editable": true,
    "slideshow": {
     "slide_type": ""
    },
    "tags": [
     "remove-cell"
    ]
   },
   "source": [
    "# The $\\theta$-method\n",
    "All the numerical methods we discussed here can be combined\n",
    "into one single method, known as the **$\\theta$-method**.\n",
    "\n",
    "## Definition 2: The $\\theta$-method\n",
    "\n",
    "For $\\theta \\in [0,1]$, the one-step $\\theta$ method is defined by\n",
    "\n",
    "<font color='LightSkyBlue'>\n",
    "\n",
    "$$\n",
    "y_{i+1} = y_i + \\theta f(t_{i+1}, y_{i+1}) + (1-\\theta)  f(t_{i}, y_{i}),\n",
    "$$ (stiff:ode:eq:theta_method)\n",
    "\n",
    "</font>\n",
    "\n",
    "so for a given $\\theta$, a weighted sum/convex combination \n",
    "of $f(t_{i+1}, y_{i+1})$ and $f(t_{i}, y_{i})$ is taken.\n",
    "\n",
    "\n",
    "**Observation.**\n",
    "\n",
    "Note that for\n",
    "* $\\theta = 0$, we obtain the explicit/forward Euler method,\n",
    "\n",
    "* $\\theta = 1$, we obtain the implicit/backward Euler method,\n",
    "\n",
    "* $\\theta = \\tfrac{1}{2}$, we obtain the Crank-Nicolson method."
   ]
  }
 ],
 "metadata": {
  "kernelspec": {
   "display_name": "Python 3",
   "language": "python",
   "name": "python3"
  },
  "language_info": {
   "codemirror_mode": {
    "name": "ipython",
    "version": 3
   },
   "file_extension": ".py",
   "mimetype": "text/x-python",
   "name": "python",
   "nbconvert_exporter": "python",
   "pygments_lexer": "ipython3",
   "version": "3.11.9"
  }
 },
 "nbformat": 4,
 "nbformat_minor": 4
}
