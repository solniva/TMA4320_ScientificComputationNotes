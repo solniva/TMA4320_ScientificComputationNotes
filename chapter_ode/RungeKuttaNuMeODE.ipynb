{
 "cells": [
  {
   "attachments": {},
   "cell_type": "markdown",
   "id": "2be17dfd-94ce-490b-970d-397d2aef2e43",
   "metadata": {
    "editable": true,
    "slideshow": {
     "slide_type": "slide"
    },
    "tags": []
   },
   "source": [
    "## Numerical solution of ordinary differential equations: Higher order Runge-Kutta methods\n",
    "\n",
    "As always, we start by importing some important Python modules."
   ]
  },
  {
   "cell_type": "code",
   "execution_count": 1,
   "id": "e8cb17b7-2344-4941-9f12-906c1edc2173",
   "metadata": {
    "editable": true,
    "slideshow": {
     "slide_type": "fragment"
    },
    "tags": [
     "thebe-init",
     "hide-input"
    ]
   },
   "outputs": [],
   "source": [
    "import numpy as np\n",
    "from numpy import pi\n",
    "from numpy.linalg import solve, norm    \n",
    "import matplotlib.pyplot as plt\n",
    "    \n",
    "\n",
    "# Use a funny plotting style\n",
    "plt.xkcd()\n",
    "newparams = {'figure.figsize': (6.0, 6.0), 'axes.grid': True,\n",
    "             'lines.markersize': 8, 'lines.linewidth': 2,\n",
    "             'font.size': 14}\n",
    "plt.rcParams.update(newparams)"
   ]
  },
  {
   "cell_type": "markdown",
   "id": "476178d5-4eec-4fc5-bd50-673812646860",
   "metadata": {
    "editable": true,
    "slideshow": {
     "slide_type": "slide"
    },
    "tags": []
   },
   "source": [
    "### Runge-Kutta Methods\n",
    "In the previous lectures we introduced\n",
    "*Euler's method* and *Heun's method* as\n",
    "particular instances of the *One Step Methods*,\n",
    "and we presented the general error theory\n",
    "for one step method.\n",
    "\n",
    "In this note we will consider one step methods which go under the name\n",
    "**Runge-Kutta methods (RKM)**. We will see that Euler's method\n",
    "and Heun's method are instance of RKMs.\n",
    "But before we start, we will derive yet another one-step method,\n",
    "known as *explicit midpoint rule* or\n",
    "*improved explicit Euler method*."
   ]
  },
  {
   "attachments": {},
   "cell_type": "markdown",
   "id": "24ee7d44-0a91-4d88-b7e8-bb6ac95c73cf",
   "metadata": {
    "editable": true,
    "slideshow": {
     "slide_type": "slide"
    },
    "tags": []
   },
   "source": [
    "As for Heun's method, we start from the IVP $y' = f(t, y)$,\n",
    "integrate over $[t_k, t_{k+1}]$ and\n",
    "apply the midpoint rule:\n",
    "\n",
    "$$\n",
    "y(t_{k+1}) - y(t_k)\n",
    "= \\int_{t_k}^{t_{k+1}} f(t, y(t)){\\,\\mathrm{d}t}\n",
    "$$"
   ]
  },
  {
   "cell_type": "markdown",
   "id": "micro-brazil",
   "metadata": {
    "editable": true,
    "slideshow": {
     "slide_type": "fragment"
    },
    "tags": []
   },
   "source": [
    "$$\n",
    "\\approx \\tau_k f(t_k + \\tfrac{1}{2}\\tau_k, y(t_k + \\tfrac{1}{2}\\tau_k))\n",
    "$$"
   ]
  },
  {
   "attachments": {},
   "cell_type": "markdown",
   "id": "8f00862b-e08d-4d4c-af48-5f64defe9f5b",
   "metadata": {
    "editable": true,
    "slideshow": {
     "slide_type": "fragment"
    },
    "tags": []
   },
   "source": [
    "Since we cannot determine the value $y(t_k + \\tfrac{1}{2}\\tau_k)$ from this system,\n",
    "we borrow an idea from derivation of Heun's method and approximate\n",
    "it using a half explicit Euler step\n",
    "\n",
    "$$\n",
    "y(t_k + \\tfrac{1}{2}\\tau_k) \\approx\n",
    "y(t_k + \\tfrac{1}{2}\\tau_k f(t_k, y(t_k)),\n",
    "$$"
   ]
  },
  {
   "attachments": {},
   "cell_type": "markdown",
   "id": "86c19d0d-52f0-4410-a583-452055004c98",
   "metadata": {
    "editable": true,
    "slideshow": {
     "slide_type": "fragment"
    },
    "tags": []
   },
   "source": [
    "leading to the following one-step methods: Given $y_k, \\tau_k$ and $f$, compute\n",
    "\n",
    "$$\n",
    "y_{k+1} := y_k + \\tau_k f(t_k + \\tfrac{1}{2}\\tau_k, y_k + \\tfrac{1}{2}\\tau_k f(t_k, y_k)).\n",
    "$$(eq:improved_euler)"
   ]
  },
  {
   "cell_type": "markdown",
   "id": "civil-civilian",
   "metadata": {
    "editable": true,
    "slideshow": {
     "slide_type": "slide"
    },
    "tags": []
   },
   "source": [
    "The nested function expression can again be rewritten using 2 *stage\n",
    "derivatives*, which leads to the following form of the\n",
    "**explicit midpoint rule** or\n",
    "**improved explicit Euler method**:"
   ]
  },
  {
   "cell_type": "markdown",
   "id": "complimentary-nurse",
   "metadata": {
    "editable": true,
    "slideshow": {
     "slide_type": "fragment"
    },
    "tags": []
   },
   "source": [
    "$$\n",
    "k_{1} := f(t_k, y_k)\n",
    "$$"
   ]
  },
  {
   "cell_type": "markdown",
   "id": "rapid-mandate",
   "metadata": {
    "editable": true,
    "slideshow": {
     "slide_type": "fragment"
    },
    "tags": []
   },
   "source": [
    "$$\n",
    "k_{2} := f(t_k + \\tfrac{\\tau_k}{2}, y_k + \\tfrac{\\tau_k}{2} k_1)\n",
    "$$"
   ]
  },
  {
   "cell_type": "markdown",
   "id": "european-craps",
   "metadata": {
    "editable": true,
    "slideshow": {
     "slide_type": "fragment"
    },
    "tags": []
   },
   "source": [
    "$$\n",
    "y_{k+1} := y_k + \\tau_k k_2\n",
    "$$"
   ]
  },
  {
   "cell_type": "markdown",
   "id": "oriented-homeless",
   "metadata": {
    "editable": true,
    "slideshow": {
     "slide_type": "slide"
    },
    "tags": []
   },
   "source": [
    "<font color='red'> -------------------------------------------------------------------------------------------------------------------------------------------------------------------------- </font>\n",
    "\n",
    "Oppgave - Analyzing the improved explicit Euler method\n",
    "\n",
    "**a)**\n",
    "Find the increment function $\\Phi$ for the improved explicit Euler method.\n",
    "\n",
    "- $k_2$ er inkrementfunksjonen, eller nei vent ikke helt egt...\n",
    "$$\n",
    "k_{2} := f(t_k + \\tfrac{\\tau_k}{2}, y_k + \\tfrac{\\tau_k}{2} k_1)\n",
    "$$\n",
    "\n",
    "**b)**\n",
    "Assuming the right-hand side $f$ of a given IVP satisfies a Lipschitz\n",
    "condition $\\| f(t, y) - f(t, z)\\| \\leqslant M \\| y-z\\| $ with a\n",
    "constant $L_f$ independent of $t$, show that the incremement function\n",
    "$\\Phi$ of the improved Euler method does also satisfies a Lipschitz\n",
    "condition for some constant $L_{\\Phi}$.\n",
    "\n",
    "**Hint.**\n",
    "Get some inspiration from the corresponding result for Heun's method derived\n",
    "in `ErrorAnalysisNuMeODE` notes.\n",
    "\n",
    "\n",
    "**c)**\n",
    "Show the improved explicit Euler method is consistent of order $2$\n",
    "if the right-hand side $f$ of a given IVP is in $C^2$.\n",
    "\n",
    "\n",
    "**Hint.**\n",
    "Get some inspiration from the corresponding result for Heun's method derived\n",
    "in `ErrorAnalysisNuMeODE` notes.\n",
    "\n",
    ":::"
   ]
  },
  {
   "cell_type": "markdown",
   "id": "00f95f42-257d-4697-86f6-aaced446c72c",
   "metadata": {
    "editable": true,
    "slideshow": {
     "slide_type": "slide"
    },
    "tags": []
   },
   "source": [
    ":::{solution} ode:exe-improved-ex-euler\n",
    ":class: dropdown\n",
    "\n",
    "**a)** \n",
    "\n",
    "$$\n",
    "\\Phi(t_k,\n",
    "y_{k},\n",
    "\\tau_{k})\n",
    "=\n",
    "f\\left(t_{k} + \\frac{\\tau}{2}, y_k + \\frac{\\tau}{2}f(t_k,y_k)\\right).\n",
    "$$\n",
    "\n",
    "**b)**\n",
    "Using the increment function above, the Lipschitz condition for $f$, the triangle inequality and then the Lipschitz condition for $f$ again we get the following: \n",
    "\\begin{align*}\n",
    "|\\Phi(t,y)-\\Phi(t,z)| &= |f\\left(t + \\frac{\\tau}{2}, y + \\frac{\\tau}{2}f(t,y)\\right) - f\\left(t + \\frac{\\tau}{2}, z + \\frac{\\tau}{2}f(t,z)\\right)| \n",
    "\\\\ \n",
    "&\\leq M| y + \\frac{\\tau}{2}f(t,y) - z - \\frac{\\tau}{2}f(t,z) |\n",
    "\\\\ \n",
    "&\\leq M| y - z  | + M\\frac{\\tau}{2} | f(t,y) - f(t,z) |\n",
    "\\\\ \n",
    "&\\leq M| y - z  | + M^2\\frac{\\tau}{2} | y-z |\n",
    "\\\\ \n",
    "& = (M+\\frac{\\tau}{2}M^2)|y-z|.\n",
    "\\end{align*}\n",
    "\n",
    "\n",
    "Assuming that the step size $\\tau$ is bounded upward by some $\\tau_0$,\n",
    "we can conclude that\n",
    "\n",
    "$$\n",
    "|\\Phi(t,y)-\\Phi(t,z)| \\leq L_{\\Phi}|y-z|, \\qquad L_{\\Phi}=M+\\frac{\\tau_0}{2}M^2.\n",
    "$$\n",
    "\n",
    "**c)**\n",
    "As before, we have the following for the exact solution: \n",
    "$$\n",
    "y(t_0+\\tau) = y_0 + \\tau f + \\frac{\\tau^2}{2}(f_t + f_y f) +\n",
    "\\frac{\\tau^3}{6}(f_{tt}+2f_{ty}f+f_{yy}ff + f_yf_xf + f_yf_t+ (f_y)^2f\n",
    ") + \\dotsm,\n",
    "$$\n",
    "\n",
    "where $f$ and all its derivatives are evaluated in $(t_0,y_0)$.\n",
    "\n",
    "For the numerical solution we get\n",
    "\n",
    "\n",
    "\\begin{align*}\n",
    "  k_1 &= f(t_0,y_0) = f, \n",
    "  \\\\ \n",
    "  k_2 &= f(t_0+\\frac{\\tau}{2}, y_0+\\frac{\\tau}{2} k_1) \n",
    "  \\\\ \n",
    "      & = f + \\frac{\\tau}{2} f_t + f_y\\frac{\\tau}{2} k_1 + \\frac{1}{8}f_{tt}\\tau^2 + f_{ty}\\frac{\\tau^2}{4} k_1 + \\frac{1}{8}f_{yy}\\tau^2 k_1^2 \n",
    "       + \\dotsm \n",
    "       \\\\ \n",
    "      &= f + \\frac{\\tau}{2}(f_t + f_yf) + \\frac{\\tau^2}{8}(f_{tt} + 2f_{ty}f + f_{yy}f^2) + \\dotsm\n",
    "      \\\\ \n",
    "  y_1 &=  \\tau k_2\n",
    "\\end{align*}\n",
    "\n",
    "\n",
    "and the local truncation error will be\n",
    "\n",
    "$$\n",
    "\\eta(t_0, \\tau) = y(t_0+\\tau)-y_1 = \\frac{\\tau^3}{24}(-f_{tt}-2f_{ty}f-f_{yy}f^2 + 4f_yf_t + 4(f_y)^2f) + \\dotsm\n",
    "$$\n",
    "\n",
    "\n",
    ":::"
   ]
  },
  {
   "attachments": {},
   "cell_type": "markdown",
   "id": "65d36c56-8269-42bb-9e77-bc675d9df3fb",
   "metadata": {
    "editable": true,
    "slideshow": {
     "slide_type": "slide"
    },
    "tags": []
   },
   "source": [
    "Recall that the **explicit Euler method** is defined by\n",
    "\n",
    "\\begin{align}\n",
    "k_{1} &:= f(t_k, y_k)\n",
    "\\\\\n",
    "y_{k+1} &:= y_k + \\tau_k  k_1\n",
    "\\end{align}"
   ]
  },
  {
   "attachments": {},
   "cell_type": "markdown",
   "id": "dd0b76c7-4cdb-47be-8bd5-4e9108b7c96b",
   "metadata": {
    "editable": true,
    "slideshow": {
     "slide_type": "slide"
    },
    "tags": []
   },
   "source": [
    "And **Heun's method** or **explicit trapezoidal rule** is similar to the improved explicit Euler method given by\n",
    "\n",
    "\\begin{align}\n",
    "k_{1} &:= f(t_k, y_k)\n",
    "\\\\\n",
    "k_{2} &:= f(t_k + \\tau_k, y_k + \\tau_k k_1)\n",
    "\\\\\n",
    "y_{k+1} &:= y_k + \\tau_k ( \\tfrac{1}{2} k_1  + \\tfrac{1}{2} k_2 ) \n",
    "\\end{align}\n",
    "\n",
    "Note that for all schemes so far, we are able to successively compute the stage derivatives,\n",
    "starting from $k_1 = f(t_k, y_{k})$."
   ]
  },
  {
   "cell_type": "markdown",
   "id": "ace55278-364b-4543-b9f0-0188b243c945",
   "metadata": {
    "editable": true,
    "slideshow": {
     "slide_type": "slide"
    },
    "tags": []
   },
   "source": [
    "This is not the case for the last one-step method we encountered so far,\n",
    "namely the **implicit trapezoidal rule** or **Crank-Nicolson method**:\n",
    "\n",
    "$$\n",
    "y_{k+1} := y_k + \\tau_k (\\tfrac{1}{2} \\underbrace{f(t_k, y_k)}_{:=k_1} + \\tfrac{1}{2}\n",
    "\\underbrace{f(t_k+\\tau_k, y_{k+1}))}_{:= k_2}\n",
    "$$"
   ]
  },
  {
   "attachments": {},
   "cell_type": "markdown",
   "id": "53b789cc-3b5b-402a-9b60-a6dd3704dc87",
   "metadata": {
    "editable": true,
    "slideshow": {
     "slide_type": "fragment"
    },
    "tags": []
   },
   "source": [
    "Using stage derivatives, we obtain this time\n",
    "\n",
    "\\begin{align}\n",
    "k_{1} := f(t_k, y_k)\n",
    "\\\\\n",
    "k_{2} := f(t_k + \\tau_k, y_{k} + \\tau (\\tfrac{1}{2}k_1 + \\tfrac{1}{2} k_2)) \n",
    "\\\\\n",
    "y_{k+1} := y_k + \\tau_k ( \\dfrac{1}{2} k_1  + \\dfrac{1}{2} k_2 ) \n",
    "\\end{align}"
   ]
  },
  {
   "cell_type": "markdown",
   "id": "therapeutic-gather",
   "metadata": {
    "editable": true,
    "slideshow": {
     "slide_type": "slide"
    },
    "tags": []
   },
   "source": [
    "The previous examples and the wish for constructing higher ($> 2$) one-step methods\n",
    "leads to following definition"
   ]
  },
  {
   "cell_type": "markdown",
   "id": "exterior-recorder",
   "metadata": {
    "editable": true,
    "slideshow": {
     "slide_type": "slide"
    },
    "tags": []
   },
   "source": [
    ":::{prf:definition}\n",
    ":label: def:runge-kutta\n",
    "\n",
    "Given $b_j$, $c_j$, and $a_{jl}$ for $j,l = 1,\\ldots s$, a Runge-Kutta method is\n",
    "defined by the recipe\n",
    "\n",
    "\\begin{align}\n",
    "k_{j} &:=\n",
    "f(t_k + c_j \\tau, y_i +  \\tau_k \\sum_{l=1}^{s} {a}_{jl} k_l)\n",
    "\\quad\n",
    "j = 1,\\ldots s,\n",
    "\\\\\n",
    "y_{k+1} &:= y_{k} + \\tau_k \\sum_{j=1}^s b_j k_j\n",
    "\\end{align}\n",
    ":::"
   ]
  },
  {
   "attachments": {},
   "cell_type": "markdown",
   "id": "fffbe9e5-fe4c-4f19-8904-4c3ec44e7a10",
   "metadata": {
    "editable": true,
    "slideshow": {
     "slide_type": "fragment"
    },
    "tags": []
   },
   "source": [
    "Runge-Kutta schemes are often specified in the form of a **Butcher table**:\n",
    "\n",
    "$$\n",
    "\\begin{array}{c|ccc}\n",
    "c_1 & a_{11} & \\cdots & a_{1s}\n",
    "\\\\ \n",
    "\\vdots & \\vdots & & \\vdots\n",
    "\\\\ \n",
    "c_s & a_{s1} & \\cdots & a_{ss}\n",
    "\\\\ \n",
    "\\hline\n",
    "& b_1 & \\cdots & b_s\n",
    "\\end{array}\n",
    "$$"
   ]
  },
  {
   "cell_type": "markdown",
   "id": "everyday-forum",
   "metadata": {
    "editable": true,
    "slideshow": {
     "slide_type": "slide"
    },
    "tags": []
   },
   "source": [
    "If $a_{ij} = 0$ for $j \\geqslant i$ the Runge-Kutta method is called **explicit**\n",
    "as the stages $k_i$ are defined explicitly and can be computed successively:"
   ]
  },
  {
   "cell_type": "markdown",
   "id": "headed-track",
   "metadata": {
    "editable": true,
    "slideshow": {
     "slide_type": "slide"
    },
    "tags": []
   },
   "source": [
    "$$\n",
    "k_1 := f(t_k + c_1 \\tau_k, y_k)\n",
    "$$"
   ]
  },
  {
   "cell_type": "markdown",
   "id": "biblical-article",
   "metadata": {
    "editable": true,
    "slideshow": {
     "slide_type": "fragment"
    },
    "tags": []
   },
   "source": [
    "$$\n",
    "k_2 := f(t_k + c_2 \\tau_k, y_k + \\tau_k a_{21} k_1)\n",
    "$$"
   ]
  },
  {
   "cell_type": "markdown",
   "id": "hybrid-physics",
   "metadata": {
    "editable": true,
    "slideshow": {
     "slide_type": "fragment"
    },
    "tags": []
   },
   "source": [
    "$$\n",
    "k_3 := f(t_k + c_3 \\tau_k, y_k + \\tau_k a_{31} k_1 + \\tau a_{32} k_2)\n",
    "$$"
   ]
  },
  {
   "cell_type": "markdown",
   "id": "fancy-circular",
   "metadata": {
    "editable": true,
    "slideshow": {
     "slide_type": "fragment"
    },
    "tags": []
   },
   "source": [
    "$$\n",
    "\\vdots \n",
    "$$\n",
    "\n",
    "\n",
    "$$\n",
    "k_j := f(t_k + c_j \\tau_k, y_k + \\tau_k \\sum_{l=1}^{j-1} a_{jl} k_l)\n",
    "$$\n",
    "\n",
    "$$\n",
    "\\vdots \n",
    "$$"
   ]
  },
  {
   "cell_type": "markdown",
   "id": "welsh-certificate",
   "metadata": {
    "editable": true,
    "slideshow": {
     "slide_type": "fragment"
    },
    "tags": []
   },
   "source": [
    "$$\n",
    "k_s := f(t_k + c_s \\tau_k, y_k + \\tau_k \\sum_{l=1}^{s-1} a_{sl} k_l)\n",
    "$$"
   ]
  },
  {
   "cell_type": "markdown",
   "id": "romantic-adjustment",
   "metadata": {
    "editable": true,
    "slideshow": {
     "slide_type": "fragment"
    },
    "tags": []
   },
   "source": [
    "$$\n",
    "y_{k+1} := y_{k} + \\tau \\sum_{j=1}^s b_j k_j\n",
    "$$"
   ]
  },
  {
   "cell_type": "markdown",
   "id": "linear-method",
   "metadata": {
    "editable": true,
    "slideshow": {
     "slide_type": "slide"
    },
    "tags": []
   },
   "source": [
    ":::{exercise} Butcher tables for some well-known Runge-Kutta methods\n",
    ":label: ode:exe-butcher-tables\n",
    "\n",
    "Write down the Butcher table for the\n",
    "1. explicit Euler\n",
    "\n",
    "2. Heun's method (explicit trapezoidal rule)\n",
    "\n",
    "3. Crank-Nicolson (implicit trapezoidal rule)\n",
    "\n",
    "4. improved explicit Euler method (explicit midpoint rule)\n",
    "\n",
    "and go to \"www.menti.com\" and take the quiz.\n",
    "\n",
    "\n",
    "$$\n",
    "\\boldsymbol{\\mathrm{A})}\n",
    "\\quad\n",
    "\\begin{array}{c|c c}\n",
    "0 & 0 & 0\n",
    "\\\\ \n",
    "\\tfrac{1}{2} & \\tfrac{1}{2} & 0\n",
    "\\\\ \n",
    "\\hline\n",
    "& 0 & 1\n",
    "\\end{array}\n",
    "\\qquad\n",
    "\\boldsymbol{\\mathrm{B})}\n",
    "\\quad\n",
    "\\begin{array}{c|c}\n",
    "0 & 0\n",
    "\\\\ \n",
    "\\hline\n",
    "& 1\n",
    "\\end{array}\n",
    "\\qquad\n",
    "\\boldsymbol{\\mathrm{C})}\n",
    "\\quad\n",
    "\\begin{array}{c|cc}\n",
    "0 & 0 & 0 \\\\ 1 & 1 & 0 \\\\ \\hline & \\frac{1}{2} & \\frac{1}{2} \n",
    "\\end{array}\n",
    "\\qquad\n",
    "\\boldsymbol{\\mathrm{D})}\n",
    "\\quad\n",
    "\\begin{array}{c|cc}\n",
    "0 & 0 & 0 \\\\ 1 & \\dfrac{1}{2} & \\dfrac{1}{2} \\\\ \\hline & \\frac{1}{2} & \\frac{1}{2} \n",
    "\\end{array}\n",
    "$$\n",
    "\n",
    ":::"
   ]
  },
  {
   "cell_type": "markdown",
   "id": "arranged-bathroom",
   "metadata": {
    "editable": true,
    "slideshow": {
     "slide_type": "slide"
    },
    "tags": []
   },
   "source": [
    ":::{solution} ode:exe-butcher-tables\n",
    "\n",
    "The correct pairing is\n",
    "1. explicit Euler:  $\\textbf{B)}$\n",
    "\n",
    "2. Heun's method (explicit trapezoidal rule):  $\\textbf{C)}$\n",
    "\n",
    "3. Crank-Nicolson (implicit trapezoidal rule): $\\textbf{D)}$\n",
    "\n",
    "4. improved explicit Euler method (explicit midpoint rule): $\\textbf{A)}$\n",
    "\n",
    "\n",
    ":::"
   ]
  },
  {
   "cell_type": "markdown",
   "id": "paperback-injury",
   "metadata": {
    "editable": true,
    "slideshow": {
     "slide_type": "slide"
    },
    "tags": []
   },
   "source": [
    "We show a verbose solution for explicit Euler, improved explicit Euler and Crank-Nicolson.\n",
    "\n",
    "**Explicit Euler method**: Since we have only one stage derivative,\n",
    "this is an example of a 1-stage Runge-Kutta method (s=1). Looking\n",
    "at the definition of the stage and the final step, we see that"
   ]
  },
  {
   "cell_type": "markdown",
   "id": "pediatric-olive",
   "metadata": {
    "editable": true,
    "slideshow": {
     "slide_type": "fragment"
    },
    "tags": []
   },
   "source": [
    "$$\n",
    "k_{1} := f(t_k, y_k) = f(t_k + \\underbrace{0}_{c_1} \\cdot \\tau_k, y_k + \\tau_k \\underbrace{0}_{a_{11}} \\cdot k_1) \\Rightarrow c_1 = a_{11} = 0\n",
    "$$"
   ]
  },
  {
   "cell_type": "markdown",
   "id": "instrumental-globe",
   "metadata": {
    "editable": true,
    "slideshow": {
     "slide_type": "fragment"
    },
    "tags": []
   },
   "source": [
    "$$\n",
    "y_{k+1} := y_k + \\tau_k k_1 =  y_k + \\tau_k \\underbrace{1}_{b_1}\\cdot k_1 \\Rightarrow  b_1 = 1\n",
    "$$"
   ]
  },
  {
   "cell_type": "markdown",
   "id": "friendly-selection",
   "metadata": {
    "editable": true,
    "slideshow": {
     "slide_type": "fragment"
    },
    "tags": []
   },
   "source": [
    "Thus, the Butcher table is\n",
    "\n",
    "$$\n",
    "\\boldsymbol{\\mathrm{B})}\n",
    "\\quad\n",
    "\\begin{array}{c|c}\n",
    "0 & 0\n",
    "\\\\ \n",
    "\\hline\n",
    "& 1\n",
    "\\end{array}\n",
    "$$"
   ]
  },
  {
   "cell_type": "markdown",
   "id": "naked-netscape",
   "metadata": {
    "editable": true,
    "slideshow": {
     "slide_type": "slide"
    },
    "tags": []
   },
   "source": [
    "**Improved explicit Euler method**: Since we have to stage derivatives,\n",
    "this is an example of a 2-stage Runge-Kutta method (s=2). Looking\n",
    "at the definition of the stages and the final step, we see that"
   ]
  },
  {
   "cell_type": "markdown",
   "id": "minus-portrait",
   "metadata": {
    "editable": true,
    "slideshow": {
     "slide_type": "fragment"
    },
    "tags": []
   },
   "source": [
    "$$\n",
    "k_{1} := f(t_k, y_k) = f(t_k + \\underbrace{0}_{c_1} \\cdot \\tau_k, y_k + \\tau_k \\underbrace{0}_{a_{11}} \\cdot k_1 + \\tau_k \\underbrace{0}_{a_{21}} \\cdot k_2) \\Rightarrow c_1 = a_{11} = a_{21} = 0\n",
    "$$"
   ]
  },
  {
   "cell_type": "markdown",
   "id": "painful-translation",
   "metadata": {
    "editable": true,
    "slideshow": {
     "slide_type": "fragment"
    },
    "tags": []
   },
   "source": [
    "$$\n",
    "k_{2} := f(t_k + \\tfrac{\\tau_k}{2}, y_k + \\tfrac{\\tau_k}{2} k_1)\n",
    "$$"
   ]
  },
  {
   "cell_type": "markdown",
   "id": "valid-germany",
   "metadata": {
    "editable": true,
    "slideshow": {
     "slide_type": "fragment"
    },
    "tags": []
   },
   "source": [
    "$$\n",
    "      \\phantom{:}= f(t_k + \\underbrace{\\tfrac{1}{2}}_{c_2}\\tau_k, y_k + \\tau_k\\underbrace{\\tfrac{1}{2}}_{a_{21}} \\cdot k_1 + \\tau_k \\underbrace{0}_{a_{22}} \\cdot k_2) \\Rightarrow c_2 = \\tfrac{1}{2}, a_{21} = \\tfrac{1}{2}, a_{22} = 0\n",
    "$$"
   ]
  },
  {
   "cell_type": "markdown",
   "id": "median-talent",
   "metadata": {
    "editable": true,
    "slideshow": {
     "slide_type": "fragment"
    },
    "tags": []
   },
   "source": [
    "$$\n",
    "y_{k+1} := y_k + \\tau_k k_2 =  y_k + \\tau_k \\underbrace{0}_{b_1}\\cdot k_1  \\tau_k \\underbrace{1}_{b_2} \\cdot k_2 \\Rightarrow  b_1 = 0, b_2 = 1\n",
    "$$"
   ]
  },
  {
   "cell_type": "markdown",
   "id": "basic-roots",
   "metadata": {
    "editable": true,
    "slideshow": {
     "slide_type": "slide"
    },
    "tags": []
   },
   "source": [
    "Thus, the Butcher table is\n",
    "\n",
    "$$\n",
    "\\boldsymbol{\\mathrm{A})}\n",
    "\\quad\n",
    "\\begin{array}{c|c c}\n",
    "0 & 0 & 0\n",
    "\\\\ \n",
    "\\tfrac{1}{2} & \\tfrac{1}{2} & 0\n",
    "\\\\ \n",
    "\\hline\n",
    "& 0 & 1\n",
    "\\end{array}\n",
    "$$"
   ]
  },
  {
   "cell_type": "markdown",
   "id": "pediatric-nevada",
   "metadata": {
    "editable": true,
    "slideshow": {
     "slide_type": "slide"
    },
    "tags": []
   },
   "source": [
    "**Crank-Nicolson method**: Since we have to stage derivatives,\n",
    "this is an example of a 2-stage Runge-Kutta method (s=2). Looking\n",
    "at the definition of the stages and the final step, we see that"
   ]
  },
  {
   "cell_type": "markdown",
   "id": "confidential-france",
   "metadata": {
    "editable": true,
    "slideshow": {
     "slide_type": "fragment"
    },
    "tags": []
   },
   "source": [
    "$$\n",
    "k_{1} := f(t_k, y_k) = f(t_k + \\underbrace{0}_{c_1} \\cdot \\tau_k, y_k + \\tau_k \\underbrace{0}_{a_{11}} \\cdot k_1 + \\tau_k \\underbrace{0}_{a_{21}} \\cdot k_2) \\Rightarrow c_1 = a_{11} = a_{21} = 0\n",
    "$$"
   ]
  },
  {
   "cell_type": "markdown",
   "id": "hired-lyric",
   "metadata": {
    "editable": true,
    "slideshow": {
     "slide_type": "fragment"
    },
    "tags": []
   },
   "source": [
    "$$\n",
    "k_{2} := f(t_k + \\tau_k, y_{k} + \\tau_k \\tfrac{1}{2}k_1 + \\tau_k \\tfrac{1}{2} k_2)\n",
    "$$"
   ]
  },
  {
   "cell_type": "markdown",
   "id": "abroad-marina",
   "metadata": {
    "editable": true,
    "slideshow": {
     "slide_type": "fragment"
    },
    "tags": []
   },
   "source": [
    "$$\n",
    "\\phantom{:}= f(t_k + \\underbrace{1}_{c_1}\\cdot\\tau_k, y_{k} + \\tau_k \\underbrace{\\tfrac{1}{2}}_{a_{21}} k_1 + \\tau_k \\underbrace{\\tfrac{1}{2}}_{a_{22}} k_2)\n",
    "\\Rightarrow c_1 = 1, a_{21} = a_{22} = \\tfrac{1}{2}\n",
    "$$"
   ]
  },
  {
   "cell_type": "markdown",
   "id": "broad-vitamin",
   "metadata": {
    "editable": true,
    "slideshow": {
     "slide_type": "fragment"
    },
    "tags": []
   },
   "source": [
    "$$\n",
    "y_{k+1} := y_k + \\tau_k ( \\dfrac{1}{2} k_1  + \\dfrac{1}{2} k_2 )\n",
    " = y_k + \\tau_k \\underbrace{\\dfrac{1}{2}}_{b_1} k_1  + \\tau_k \\underbrace{\\dfrac{1}{2}}_{b_2} k_2\n",
    "$$"
   ]
  },
  {
   "cell_type": "markdown",
   "id": "structural-banking",
   "metadata": {
    "editable": true,
    "slideshow": {
     "slide_type": "slide"
    },
    "tags": []
   },
   "source": [
    "Thus, the Butcher table is\n",
    "\n",
    "$$\n",
    "\\boldsymbol{\\mathrm{D})}\n",
    "\\quad\n",
    "\\begin{array}{c|cc}\n",
    "0 & 0 & 0 \\\\ 1 & \\dfrac{1}{2} & \\dfrac{1}{2} \\\\ \\hline & \\frac{1}{2} & \\frac{1}{2} \n",
    "\\end{array}\n",
    "$$"
   ]
  },
  {
   "cell_type": "markdown",
   "id": "prompt-desire",
   "metadata": {
    "editable": true,
    "slideshow": {
     "slide_type": "slide"
    },
    "tags": []
   },
   "source": [
    "### Implementation of explicit Runge-Kutta methods"
   ]
  },
  {
   "cell_type": "markdown",
   "id": "meaningful-appliance",
   "metadata": {
    "editable": true,
    "slideshow": {
     "slide_type": "slide"
    },
    "tags": []
   },
   "source": [
    "Below you will find the implementation a general\n",
    "solver class\n",
    "`ExplicitRungeKutta`\n",
    "which at its initialization takes\n",
    "in a  Butcher table and has `__call__` function\n",
    "\n",
    "```python\n",
    "        def __call__(self, y0, f, t0, T, n):\n",
    "```\n",
    "\n",
    "and can be used like this\n",
    "\n",
    "```python\n",
    "        # Define Butcher table\n",
    "        a = np.array([[0, 0, 0],\n",
    "                      [1.0/3.0, 0, 0],\n",
    "                      [0, 2.0/3.0, 0]])\n",
    "        \n",
    "        b = np.array([1.0/4.0, 0, 3.0/4.0])\n",
    "        \n",
    "        c = np.array([0,\n",
    "                      1.0/3.0,\n",
    "                      2.0/3.0])\n",
    "        \n",
    "        # Define number of time steps\n",
    "        n = 10\n",
    "        \n",
    "        # Create solver using the Butcher table\n",
    "        rk3 = ExplicitRungeKutta(a, b, c)\n",
    "        \n",
    "        # Solve problem (applies __call__ function)\n",
    "        ts, ys = rk3(y0, t0, T, f, Nmax)\n",
    "```"
   ]
  },
  {
   "cell_type": "markdown",
   "id": "respected-string",
   "metadata": {
    "editable": true,
    "slideshow": {
     "slide_type": "slide"
    },
    "tags": []
   },
   "source": [
    "The complete implementation is given here:"
   ]
  },
  {
   "cell_type": "code",
   "execution_count": 2,
   "id": "experimental-decade",
   "metadata": {
    "editable": true,
    "slideshow": {
     "slide_type": "slide"
    },
    "tags": []
   },
   "outputs": [],
   "source": [
    "class ExplicitRungeKutta:\n",
    "    def __init__(self, a, b, c):\n",
    "        self.a = a\n",
    "        self.b = b\n",
    "        self.c = c\n",
    "\n",
    "    def __call__(self, y0, t0, T, f, Nmax):\n",
    "        # Extract Butcher table\n",
    "        a, b, c = self.a, self.b, self.c\n",
    "        \n",
    "        # Stages\n",
    "        s = len(b)\n",
    "        ks = [np.zeros_like(y0, dtype=np.double) for s in range(s)]\n",
    "\n",
    "        # Start time-stepping\n",
    "        ys = [y0]\n",
    "        ts = [t0]\n",
    "        dt = (T - t0)/Nmax\n",
    "        \n",
    "        while(ts[-1] < T):\n",
    "            t, y = ts[-1], ys[-1]\n",
    "            \n",
    "            # Compute stages derivatives k_j\n",
    "            for j in range(s):\n",
    "                t_j = t + c[j]*dt\n",
    "                dY_j = np.zeros_like(y, dtype=np.double)\n",
    "                for l in range(j):\n",
    "                    dY_j += dt*a[j,l]*ks[l]\n",
    "\n",
    "                ks[j] = f(t_j, y + dY_j)\n",
    "                \n",
    "            # Compute next time-step\n",
    "            dy = np.zeros_like(y, dtype=np.double)\n",
    "            for j in range(s):\n",
    "                dy += dt*b[j]*ks[j]\n",
    "            \n",
    "            ys.append(y + dy)\n",
    "            ts.append(t + dt)\n",
    "            \n",
    "        return (np.array(ts), np.array(ys))"
   ]
  },
  {
   "cell_type": "markdown",
   "id": "fancy-character",
   "metadata": {
    "editable": true,
    "slideshow": {
     "slide_type": "slide"
    },
    "tags": []
   },
   "source": [
    ":::{prf:example} Implementation and testing of the improved Euler method\n",
    "We implement the **improved explicit Euler** from above and plot the\n",
    "analytical and the numerical solution.  To determine the experimental\n",
    "order of convergence, we use again the `compute_eoc` function.\n",
    ":::"
   ]
  },
  {
   "cell_type": "code",
   "execution_count": 3,
   "id": "sixth-richmond",
   "metadata": {
    "editable": true,
    "slideshow": {
     "slide_type": "slide"
    },
    "tags": []
   },
   "outputs": [],
   "source": [
    "def compute_eoc(y0, t0, T, f, Nmax_list, solver, y_ex):\n",
    "    errs = [ ]\n",
    "    for Nmax in Nmax_list:\n",
    "        ts, ys = solver(y0, t0, T, f, Nmax)\n",
    "        ys_ex = y_ex(ts)\n",
    "        errs.append(np.abs(ys - ys_ex).max())\n",
    "        print(\"For Nmax = {:3}, max ||y(t_i) - y_i||= {:.3e}\".format(Nmax,errs[-1]))\n",
    "\n",
    "    errs = np.array(errs)\n",
    "    Nmax_list = np.array(Nmax_list)\n",
    "    dts = (T-t0)/Nmax_list\n",
    "\n",
    "    eocs = np.log(errs[1:]/errs[:-1])/np.log(dts[1:]/dts[:-1])\n",
    "\n",
    "    # Insert inf at beginning of eoc such that errs and eoc have same length \n",
    "    eocs = np.insert(eocs, 0, np.inf)\n",
    "\n",
    "    return errs, eocs"
   ]
  },
  {
   "cell_type": "markdown",
   "id": "massive-passing",
   "metadata": {
    "editable": true,
    "slideshow": {
     "slide_type": "slide"
    },
    "tags": []
   },
   "source": [
    "Here is the implementation of the full example."
   ]
  },
  {
   "cell_type": "code",
   "execution_count": 4,
   "id": "early-favor",
   "metadata": {
    "editable": true,
    "slideshow": {
     "slide_type": "slide"
    },
    "tags": []
   },
   "outputs": [
    {
     "name": "stdout",
     "output_type": "stream",
     "text": [
      "For Nmax =   4, max ||y(t_i) - y_i||= 2.343e-02\n",
      "For Nmax =   8, max ||y(t_i) - y_i||= 6.441e-03\n",
      "For Nmax =  16, max ||y(t_i) - y_i||= 1.688e-03\n",
      "For Nmax =  32, max ||y(t_i) - y_i||= 4.322e-04\n",
      "For Nmax =  64, max ||y(t_i) - y_i||= 1.093e-04\n",
      "For Nmax = 128, max ||y(t_i) - y_i||= 2.749e-05\n",
      "[2.34261385e-02 6.44058991e-03 1.68830598e-03 4.32154479e-04\n",
      " 1.09316895e-04 2.74901378e-05]\n",
      "[       inf 1.86285442 1.93161644 1.96595738 1.98303072 1.99153035]\n"
     ]
    },
    {
     "data": {
      "text/html": [
       "<div>\n",
       "<style scoped>\n",
       "    .dataframe tbody tr th:only-of-type {\n",
       "        vertical-align: middle;\n",
       "    }\n",
       "\n",
       "    .dataframe tbody tr th {\n",
       "        vertical-align: top;\n",
       "    }\n",
       "\n",
       "    .dataframe thead th {\n",
       "        text-align: right;\n",
       "    }\n",
       "</style>\n",
       "<table border=\"1\" class=\"dataframe\">\n",
       "  <thead>\n",
       "    <tr style=\"text-align: right;\">\n",
       "      <th></th>\n",
       "      <th>Error</th>\n",
       "      <th>EOC</th>\n",
       "    </tr>\n",
       "  </thead>\n",
       "  <tbody>\n",
       "    <tr>\n",
       "      <th>0</th>\n",
       "      <td>0.023426</td>\n",
       "      <td>inf</td>\n",
       "    </tr>\n",
       "    <tr>\n",
       "      <th>1</th>\n",
       "      <td>0.006441</td>\n",
       "      <td>1.862854</td>\n",
       "    </tr>\n",
       "    <tr>\n",
       "      <th>2</th>\n",
       "      <td>0.001688</td>\n",
       "      <td>1.931616</td>\n",
       "    </tr>\n",
       "    <tr>\n",
       "      <th>3</th>\n",
       "      <td>0.000432</td>\n",
       "      <td>1.965957</td>\n",
       "    </tr>\n",
       "    <tr>\n",
       "      <th>4</th>\n",
       "      <td>0.000109</td>\n",
       "      <td>1.983031</td>\n",
       "    </tr>\n",
       "    <tr>\n",
       "      <th>5</th>\n",
       "      <td>0.000027</td>\n",
       "      <td>1.991530</td>\n",
       "    </tr>\n",
       "  </tbody>\n",
       "</table>\n",
       "</div>"
      ],
      "text/plain": [
       "      Error       EOC\n",
       "0  0.023426       inf\n",
       "1  0.006441  1.862854\n",
       "2  0.001688  1.931616\n",
       "3  0.000432  1.965957\n",
       "4  0.000109  1.983031\n",
       "5  0.000027  1.991530"
      ]
     },
     "metadata": {},
     "output_type": "display_data"
    },
    {
     "data": {
      "image/png": "[encoded data removed]",
      "text/plain": [
       "<Figure size 600x600 with 1 Axes>"
      ]
     },
     "metadata": {},
     "output_type": "display_data"
    }
   ],
   "source": [
    "# Define Butcher table for improved Euler\n",
    "a = np.array([[0,   0],\n",
    "              [0.5, 0]])\n",
    "b = np.array([0, 1])\n",
    "c = np.array([0, 0.5])\n",
    "\n",
    "# Create a new Runge Kutta solver\n",
    "rk2 = ExplicitRungeKutta(a, b, c)\n",
    "\n",
    "t0, T = 0, 1\n",
    "y0 = 1\n",
    "lam = 1\n",
    "Nmax = 10\n",
    "\n",
    "# rhs of IVP\n",
    "f = lambda t,y: lam*y\n",
    "\n",
    "# the solver can be simply called as before, namely as function:\n",
    "ts, ys = rk2(y0, t0, T, f, Nmax)\n",
    "\n",
    "plt.figure()\n",
    "plt.plot(ts, ys, \"c--o\", label=r\"$y_{\\mathrm{impreul}}$\")\n",
    "\n",
    "# Exact solution to compare against\n",
    "y_ex = lambda t: y0*np.exp(lam*(t-t0))\n",
    "\n",
    "# Plot the exact solution (will appear in the plot above)\n",
    "plt.plot(ts, y_ex(ts), \"m-\", label=r\"$y_{\\mathrm{ex}}$\")\n",
    "plt.legend()\n",
    "\n",
    "# Run an EOC test\n",
    "Nmax_list = [4, 8, 16, 32, 64, 128]\n",
    "\n",
    "errs, eocs = compute_eoc(y0, t0, T, f, Nmax_list, rk2, y_ex)\n",
    "print(errs)\n",
    "print(eocs)\n",
    "\n",
    "# Do a pretty print of the tables using panda\n",
    "\n",
    "import pandas as pd\n",
    "from IPython.display import display\n",
    "\n",
    "table = pd.DataFrame({'Error': errs, 'EOC' : eocs})\n",
    "display(table)"
   ]
  },
  {
   "cell_type": "markdown",
   "id": "adverse-affect",
   "metadata": {
    "editable": true,
    "slideshow": {
     "slide_type": "slide"
    },
    "tags": []
   },
   "source": [
    ":::{exercise}: The classical 4-stage Runge-Kutta method\n",
    "\n",
    "While the term Runge-Kutta methods nowadays refer to the general\n",
    "scheme defined in Definition [Definition 1: Runge-Kutta methods](#def:runge-kutta), particular schemes\n",
    "in the \"early days\" were named by their inventors, and there exists\n",
    "also the the classical 4-stage Runge-Kutta method which is defined by\n",
    "\n",
    "$$\n",
    "\\begin{array}{c|cccc}\n",
    "      0 & 0 & 0 & 0 & 0\\\\ \\frac{1}{2} &  \\frac{1}{2} & 0 & 0 & 0\\\\ \\frac{1}{2} & 0 & \\frac{1}{2} & 0 & 0\\\\ 1 &  0 & 0 & 1 & 0 \\\\ \\hline & \\frac{1}{6} & \\frac{1}{3} & \\frac{1}{3} & \\frac{1}{6}\n",
    "    \\end{array}\n",
    "$$\n",
    "\n",
    "**a)**\n",
    "Starting from this Butcher table, write down the explicit formulas for computing $k_1,\\ldots, k_4$\n",
    "and $y_{k+1}$.\n",
    "\n",
    "**b)**\n",
    "Build a solver based on the classical Runge-Kutta method using the `ExplicitRungeKutta` class\n",
    "and determine the convergence order experimentally.\n",
    "\n",
    ":::"
   ]
  },
  {
   "cell_type": "code",
   "execution_count": 15,
   "id": "38d5524c-2735-4f73-a517-6f3826213781",
   "metadata": {
    "editable": true,
    "slideshow": {
     "slide_type": "slide"
    },
    "tags": []
   },
   "outputs": [
    {
     "data": {
      "text/plain": [
       "<matplotlib.legend.Legend at 0x127f03ed0>"
      ]
     },
     "execution_count": 15,
     "metadata": {},
     "output_type": "execute_result"
    },
    {
     "data": {
      "image/png": "[encoded data removed]",
      "text/plain": [
       "<Figure size 600x600 with 1 Axes>"
      ]
     },
     "metadata": {},
     "output_type": "display_data"
    }
   ],
   "source": [
    "# Insert your code here\n",
    "\n",
    "# Define Butcher table for improved Euler\n",
    "a = np.array([[0,   0,   0,  0],\n",
    "              [1/2, 0,   0,  0],\n",
    "              [0,   1/2, 0,  0],\n",
    "              [0,   0,   1,  0]])\n",
    "b = np.array([1/6, 1/3, 1/3, 1/6])\n",
    "c = np.array([0, 1/2, 1/2, 1])\n",
    "\n",
    "# Create a new Runge Kutta solver\n",
    "rk4 = ExplicitRungeKutta(a, b, c)\n",
    "\n",
    "t0, T = 0, 1\n",
    "y0 = 1\n",
    "lam = 1\n",
    "Nmax = 4\n",
    "\n",
    "# the solver can be simply called as before, namely as function:\n",
    "ts, ys = rk4(y0, t0, T, f, Nmax)\n",
    "\n",
    "plt.figure()\n",
    "plt.plot(ts, ys, \"c--o\", label=r\"$y_{\\mathrm{RK4}}$\")\n",
    "plt.plot(ts, y_ex(ts), \"m-\", label=r\"$y_{\\mathrm{ex}}$\")\n",
    "plt.legend()"
   ]
  },
  {
   "cell_type": "code",
   "execution_count": 12,
   "id": "4ab0d73e-aa63-4eb0-8471-a59efe050268",
   "metadata": {
    "editable": true,
    "slideshow": {
     "slide_type": "slide"
    },
    "tags": []
   },
   "outputs": [
    {
     "name": "stdout",
     "output_type": "stream",
     "text": [
      "For Nmax =   4, max ||y(t_i) - y_i||= 7.189e-05\n",
      "For Nmax =   8, max ||y(t_i) - y_i||= 4.984e-06\n",
      "For Nmax =  16, max ||y(t_i) - y_i||= 3.281e-07\n",
      "For Nmax =  32, max ||y(t_i) - y_i||= 2.105e-08\n",
      "For Nmax =  64, max ||y(t_i) - y_i||= 1.333e-09\n",
      "For Nmax = 128, max ||y(t_i) - y_i||= 8.384e-11\n"
     ]
    },
    {
     "data": {
      "text/html": [
       "<div>\n",
       "<style scoped>\n",
       "    .dataframe tbody tr th:only-of-type {\n",
       "        vertical-align: middle;\n",
       "    }\n",
       "\n",
       "    .dataframe tbody tr th {\n",
       "        vertical-align: top;\n",
       "    }\n",
       "\n",
       "    .dataframe thead th {\n",
       "        text-align: right;\n",
       "    }\n",
       "</style>\n",
       "<table border=\"1\" class=\"dataframe\">\n",
       "  <thead>\n",
       "    <tr style=\"text-align: right;\">\n",
       "      <th></th>\n",
       "      <th>Error</th>\n",
       "      <th>EOC</th>\n",
       "    </tr>\n",
       "  </thead>\n",
       "  <tbody>\n",
       "    <tr>\n",
       "      <th>0</th>\n",
       "      <td>7.188926e-05</td>\n",
       "      <td>inf</td>\n",
       "    </tr>\n",
       "    <tr>\n",
       "      <th>1</th>\n",
       "      <td>4.984042e-06</td>\n",
       "      <td>3.850388</td>\n",
       "    </tr>\n",
       "    <tr>\n",
       "      <th>2</th>\n",
       "      <td>3.281185e-07</td>\n",
       "      <td>3.925028</td>\n",
       "    </tr>\n",
       "    <tr>\n",
       "      <th>3</th>\n",
       "      <td>2.104785e-08</td>\n",
       "      <td>3.962472</td>\n",
       "    </tr>\n",
       "    <tr>\n",
       "      <th>4</th>\n",
       "      <td>1.332722e-09</td>\n",
       "      <td>3.981225</td>\n",
       "    </tr>\n",
       "    <tr>\n",
       "      <th>5</th>\n",
       "      <td>8.384093e-11</td>\n",
       "      <td>3.990577</td>\n",
       "    </tr>\n",
       "  </tbody>\n",
       "</table>\n",
       "</div>"
      ],
      "text/plain": [
       "          Error       EOC\n",
       "0  7.188926e-05       inf\n",
       "1  4.984042e-06  3.850388\n",
       "2  3.281185e-07  3.925028\n",
       "3  2.104785e-08  3.962472\n",
       "4  1.332722e-09  3.981225\n",
       "5  8.384093e-11  3.990577"
      ]
     },
     "metadata": {},
     "output_type": "display_data"
    }
   ],
   "source": [
    "# Run an EOC test\n",
    "Nmax_list = [4, 8, 16, 32, 64, 128]\n",
    "errs, eocs = compute_eoc(y0, t0, T, f, Nmax_list, rk4, y_ex)\n",
    "table = pd.DataFrame({'Error': errs, 'EOC' : eocs})\n",
    "display(table)"
   ]
  },
  {
   "cell_type": "markdown",
   "id": "auburn-prize",
   "metadata": {
    "editable": true,
    "slideshow": {
     "slide_type": "slide"
    },
    "tags": []
   },
   "source": [
    ":::{note}\n",
    "\n",
    "For the **explicit** Runge-Kutta methods, the $s\\times s$ matrix is in fact just a lower left triangle\n",
    "matrix, and often, the $0$s in the diagonal and upper right triangle are simply omitted.\n",
    "So, the Butcher table for the classical Runge-Kutta method reduces to\n",
    "\n",
    "$$\n",
    "\\begin{array}{c|cccc}\n",
    "       0 &  &  &  & \\\\ \n",
    "       \\frac{1}{2} &  \\frac{1}{2} &  &  &\n",
    "       \\\\ \\frac{1}{2} & 0  & \\frac{1}{2} &  &\n",
    "       \\\\ 1 & 0  & 0 & 1 &  \\\\ \\hline\n",
    "       & \\frac{1}{6} & \\frac{1}{3} & \\frac{1}{3} & \\frac{1}{6}\n",
    "    \\end{array}\n",
    "$$\n",
    "\n",
    ":::"
   ]
  },
  {
   "cell_type": "markdown",
   "id": "played-racing",
   "metadata": {
    "editable": true,
    "slideshow": {
     "slide_type": "slide"
    },
    "tags": []
   },
   "source": [
    ":::{note}\n",
    "\n",
    "If $f$ depends only on $t$ but not on $y$, the ODE $ y' = f(t, y) = f(t)$\n",
    "reduces to a simpe integration problem, and in this case\n",
    "the classical Runge-Kutta methods reduces to the classical Simpson's rule\n",
    "for numerical integration.\n",
    "\n",
    "More generally, when applied to simple integration problems, Runge-Kutta methods\n",
    "reduces to various quadrature rules over the interval \n",
    "$ [t_i, t_{i+1}]$ with $s$ quadrature points, \n",
    "where the integration points $\\{\\xi_j\\}_{i=1}^s$ \n",
    "and correspond weights $\\{w_i\\}_{i=1}^s$\n",
    "of the quadrature rules are given by respectively \n",
    "$\\xi_i = t_i + c_j\\tau$, $w_i = b_i$ for $j=1,\\ldots,s$\n",
    "\n",
    "See this [wiki page](https://en.wikipedia.org/wiki/List\\_of\\_Runge-Kutta\\_methods)\n",
    "for a list of various Runge-Kutta methods.\n",
    "\n",
    ":::"
   ]
  },
  {
   "cell_type": "markdown",
   "id": "premier-punch",
   "metadata": {
    "editable": true,
    "slideshow": {
     "slide_type": "slide"
    },
    "tags": []
   },
   "source": [
    "### Runge-Kutta Methods via Numerical Integration\n",
    "This section provides a supplemental and more in-depth motivation of how to\n",
    "arrive at the general concept of Runge-Kutta methods via numerical integration,\n",
    "similar to the ideas we already presented when we derived Crank-Nicolson, Heun's method\n",
    "and the explicit trapezoidal rule.\n",
    "\n",
    "For a given time interval $I_i = [t_i, t_{i+1}]$ we\n",
    "want to compute $y_{i+1}$ assuming that $y_i$ is given.\n",
    "Starting from the exact expression"
   ]
  },
  {
   "cell_type": "markdown",
   "id": "molecular-coalition",
   "metadata": {
    "editable": true,
    "slideshow": {
     "slide_type": "slide"
    },
    "tags": []
   },
   "source": [
    "$$\n",
    "y(t_{i+1}) - y(t_i) =  \\int_{t_i}^{t_{i+1}} y(t)'{\\,\\mathrm{d}t} = \\int_{t_i}^{t_{i+1}} f(t, y(t)){\\,\\mathrm{d}t},\n",
    "$$"
   ]
  },
  {
   "cell_type": "markdown",
   "id": "apparent-causing",
   "metadata": {
    "editable": true,
    "slideshow": {
     "slide_type": "fragment"
    },
    "tags": []
   },
   "source": [
    "the idea is now to approximate the integral by some quadrature\n",
    "rule $\\mathrm{Q}[\\cdot](\\{\\xi_j\\}_{j=1}^s,\\{b_j\\}_{j=1}^s)$ defined on $I_i$.\n",
    "Then we get"
   ]
  },
  {
   "cell_type": "markdown",
   "id": "proved-charger",
   "metadata": {
    "editable": true,
    "slideshow": {
     "slide_type": "fragment"
    },
    "tags": []
   },
   "source": [
    "$$\n",
    "y(t_{i+1}) - y(t_i) = \\int_{t_i}^{t_{i+1}} f(t, y(t)){\\,\\mathrm{d}t}\n",
    "$$"
   ]
  },
  {
   "cell_type": "markdown",
   "id": "adapted-nursing",
   "metadata": {
    "editable": true,
    "slideshow": {
     "slide_type": "fragment"
    },
    "tags": []
   },
   "source": [
    "$$\n",
    "\\approx \\tau \\sum_{j=0}^s b_j f(\\xi_j, y(\\xi_j))\n",
    "$$"
   ]
  },
  {
   "cell_type": "markdown",
   "id": "higher-saskatchewan",
   "metadata": {
    "editable": true,
    "slideshow": {
     "slide_type": "fragment"
    },
    "tags": []
   },
   "source": [
    "Now we can define $\\{c_j\\}_{j=1}^s$ such that  $\\xi_j = t_{i} + c_j \\tau$\n",
    "for $j=1,\\ldots,s$"
   ]
  },
  {
   "cell_type": "markdown",
   "id": "elementary-spiritual",
   "metadata": {
    "editable": true,
    "slideshow": {
     "slide_type": "slide"
    },
    "tags": []
   },
   "source": [
    ":::{exercise} A first condition on $b_j$\n",
    ":label: ode:exe-order-cond-I\n",
    "**Question:** What value do you expect for $\\sum_{j=1}^s b_{j}$?\n",
    "\n",
    "**Choice A:**\n",
    " $\\sum_{j=1}^s b_{j} = \\tau$\n",
    "\n",
    "**Choice B:**\n",
    " $\\sum_{j=1}^s b_{j} = 0$\n",
    "\n",
    "**Choice C:**\n",
    " $\\sum_{j=1}^s b_{j} = 1$\n",
    "\n",
    ":::"
   ]
  },
  {
   "cell_type": "markdown",
   "id": "68f172f4-7039-415e-a1aa-5ecefd5c0d5d",
   "metadata": {},
   "source": [
    ":::{solution} ode:exe-order-cond-I\n",
    "The correct answer is **C**\n",
    ":::"
   ]
  },
  {
   "cell_type": "markdown",
   "id": "synthetic-organization",
   "metadata": {
    "editable": true,
    "slideshow": {
     "slide_type": "slide"
    },
    "tags": []
   },
   "source": [
    "In contrast to pure numerical integration, we don't know the values\n",
    "of $y(\\xi_j)$. Again, we could use the same idea to approximate"
   ]
  },
  {
   "cell_type": "markdown",
   "id": "advised-digest",
   "metadata": {
    "editable": true,
    "slideshow": {
     "slide_type": "fragment"
    },
    "tags": []
   },
   "source": [
    "$$\n",
    "y(\\xi_j) - y(t_i) =\\int_{t_i}^{t_i+c_j \\tau} y'(t){\\,\\mathrm{d}t} = \\int_{t_i}^{t_i+c_j \\tau} f(t, y(t)){\\,\\mathrm{d}t}\n",
    "$$"
   ]
  },
  {
   "cell_type": "markdown",
   "id": "joined-louis",
   "metadata": {
    "editable": true,
    "slideshow": {
     "slide_type": "fragment"
    },
    "tags": []
   },
   "source": [
    "but then again we get a closure problem if we choose new quadrature points.\n",
    "The idea is now to **not introduce even more new quadrature points** but to\n",
    "use same $y(\\xi_j)$ to avoid the closure problem.\n",
    "Note that this leads to an approximation of the integrals $\\int_{t_i}^{t_i+c_j \\tau}$\n",
    "with possible nodes **outside** of $[t_i, t_i + c_j \\tau ]$."
   ]
  },
  {
   "cell_type": "markdown",
   "id": "sensitive-wagner",
   "metadata": {
    "editable": true,
    "slideshow": {
     "slide_type": "slide"
    },
    "tags": []
   },
   "source": [
    "This leads us to"
   ]
  },
  {
   "cell_type": "markdown",
   "id": "strange-people",
   "metadata": {
    "editable": true,
    "slideshow": {
     "slide_type": "slide"
    },
    "tags": []
   },
   "source": [
    "$$\n",
    "y(\\xi_j) - y(t_i) = \\int_{t_i}^{t_i+c_j \\tau} f(t, y(t)){\\,\\mathrm{d}t}\n",
    "$$"
   ]
  },
  {
   "cell_type": "markdown",
   "id": "genetic-cooling",
   "metadata": {
    "editable": true,
    "slideshow": {
     "slide_type": "fragment"
    },
    "tags": []
   },
   "source": [
    "$$\n",
    "\\approx c_j \\tau \\sum_{l=1}^{s}\n",
    "\\tilde{a}_{jl}\n",
    "f(\\xi_l, y(\\xi_l))\n",
    "$$"
   ]
  },
  {
   "attachments": {},
   "cell_type": "markdown",
   "id": "0e1d44e3-8e85-403a-a1a2-f06318590276",
   "metadata": {
    "editable": true,
    "slideshow": {
     "slide_type": "fragment"
    },
    "tags": []
   },
   "source": [
    "$$\n",
    "=\n",
    "\\tau \\sum_{l=1}^{s}\n",
    "{a}_{jl}\n",
    "f(\\xi_l, y(\\xi_l))\n",
    "$$\n",
    "\n",
    "where we set $ c_j  \\tilde{a}_{jl} = a_{jl}$."
   ]
  },
  {
   "cell_type": "markdown",
   "id": "be4e3211-01a0-47c0-80ef-f9ab37197693",
   "metadata": {
    "editable": true,
    "slideshow": {
     "slide_type": "slide"
    },
    "tags": []
   },
   "source": [
    ":::{exercise} A first condition on $a_{jl}$\n",
    ":label: ode:exe-order-cond-II\n",
    "\n",
    "**Question:** What value do you expect for $\\sum_{l=1}^s a_{jl}$?\n",
    "\n",
    "**Choice A:**\n",
    " $\\sum_{l=1}^s a_{jl} =  \\tfrac{1}{c_j}$\n",
    "\n",
    "**Choice B:**\n",
    " $\\sum_{l=1}^s a_{jl} =  c_j $\n",
    "\n",
    "**Choice C:**\n",
    " $\\sum_{l=1}^s a_{jl} =  1 $\n",
    "\n",
    "**Choice D:**\n",
    " $\\sum_{l=1}^s a_{jl} =  \\tau $\n",
    "\n",
    ":::"
   ]
  },
  {
   "cell_type": "markdown",
   "id": "c66950f7-874e-49a5-88a8-996ec3fb8f84",
   "metadata": {},
   "source": [
    ":::{solution} ode:exe-order-cond-II\n",
    "The correct answer is **B**\n",
    ":::"
   ]
  },
  {
   "cell_type": "markdown",
   "id": "40fe5e13-8220-44c8-8ab1-79615d7eda70",
   "metadata": {
    "editable": true,
    "slideshow": {
     "slide_type": "slide"
    },
    "tags": []
   },
   "source": [
    "The previous discussion leads to the following alternative but equivalent definition\n",
    "of Runge-Kutta derivatives via *stages* $Y_j$ (and not stage derivatives $k_j$):"
   ]
  },
  {
   "cell_type": "markdown",
   "id": "miniature-appendix",
   "metadata": {
    "editable": true,
    "slideshow": {
     "slide_type": "slide"
    },
    "tags": []
   },
   "source": [
    ":::{prf:definition} Runge-Kutta methods using stages $\\{Y_l\\}_{l=1}^s$\n",
    ":label: ode:def:runge-kutta-meth\n",
    "\n",
    "Given $b_j$, $c_j$, and $a_{jl}$ for $j,l = 1,\\ldots s$, the Runge-Kutta method is\n",
    "defined by the recipe\n",
    "<!-- \n",
    "\\begin{align*}\n",
    "Y_{j}\n",
    "&:= y_i +  \\tau \\sum_{l=1}^{s} {a}_{jl}\n",
    "f(t_i + c_l \\tau, Y_l) \\quad \\text{for } j = 1,\\ldots s,\n",
    "\\\\\n",
    "y_{i+1} &:= y_i + \\tau \\sum_{j=1}^s b_j f(t_i + c_j \\tau, Y_j)\n",
    "\\end{align*} \n",
    "-->\n",
    "\\begin{align*}\n",
    "Y_{l}\n",
    "&:= y_i +  \\tau \\sum_{j=1}^{s} {a}_{lj}\n",
    "f(t_i + c_j \\tau, Y_j) \\quad \\text{for } l = 1,\\ldots s,\n",
    "\\\\\n",
    "y_{i+1} &:= y_i + \\tau \\sum_{j=1}^s b_j f(t_i + c_j \\tau, Y_j)\n",
    "\\end{align*}\n",
    "\n",
    ":::"
   ]
  },
  {
   "cell_type": "markdown",
   "id": "promising-class",
   "metadata": {
    "editable": true,
    "slideshow": {
     "slide_type": "slide"
    },
    "tags": []
   },
   "source": [
    "Note that in the final step, all the function evaluation we need\n",
    "to perform have already been performed when computing $Y_j$.\n",
    "\n",
    "Therefore one often rewrite the scheme by introducing **stage derivatives** $k_l$"
   ]
  },
  {
   "attachments": {},
   "cell_type": "markdown",
   "id": "1adc79da-68fa-4291-877a-465d4c936747",
   "metadata": {
    "editable": true,
    "slideshow": {
     "slide_type": "fragment"
    },
    "tags": []
   },
   "source": [
    "<!-- \n",
    "\\begin{align}\n",
    "k_l\n",
    "&:= f(t_i + c_l \\tau, Y_l)\n",
    "\\\\\n",
    "&= f(t_i + c_l \\tau, y_i +  \\tau \\sum_{j=1}^{s} {a}_{lj}\n",
    "k_j) \\quad\n",
    "j = 1,\\ldots s,\n",
    "\\end{align}\n",
    "-->\n",
    "\\begin{align}\n",
    "k_j\n",
    "&:= f(t_i + c_j \\tau, Y_j)\n",
    "\\\\\n",
    "&= f(t_i + c_j \\tau, y_i +  \\tau \\sum_{l=1}^{s} {a}_{jl}\n",
    "k_l) \\quad\n",
    "j = 1,\\ldots s,\n",
    "\\end{align}"
   ]
  },
  {
   "cell_type": "markdown",
   "id": "cardiovascular-system",
   "metadata": {
    "editable": true,
    "slideshow": {
     "slide_type": "fragment"
    },
    "tags": []
   },
   "source": [
    "so the resulting scheme will be"
   ]
  },
  {
   "attachments": {},
   "cell_type": "markdown",
   "id": "42e9db92-1adf-4d6c-b1d1-a670d3ec705b",
   "metadata": {
    "editable": true,
    "slideshow": {
     "slide_type": "fragment"
    },
    "tags": []
   },
   "source": [
    "\\begin{align}\n",
    "k_{j} &:=\n",
    "f(t_i + c_j \\tau, y_i +  \\tau \\sum_{l=1}^{s} {a}_{jl} k_l)\n",
    "\\quad\n",
    "j = 1,\\ldots s,\n",
    "\\\\\n",
    "y_{i+1} &:= y_{i} + \\tau \\sum_{j=1}^s b_j k_j\n",
    "\\end{align}\n",
    "which is exactly what we used as definition for general Runge-Kutta methods in the\n",
    "previous section."
   ]
  },
  {
   "cell_type": "markdown",
   "id": "structural-berry",
   "metadata": {
    "editable": true,
    "slideshow": {
     "slide_type": "slide"
    },
    "tags": []
   },
   "source": [
    "### Convergence of Runge-Kutta Methods\n",
    "The convergence theorem for one-step methods\n",
    "gave us some necessary conditions to guarantee\n",
    "that a method is convergent order of $p$:\n",
    "\"consistency order $p$\" + \"Increment function satisfies a Lipschitz condition\"\n",
    "$\\Rightarrow$\n",
    "\"convergence order $p$.\n",
    "\n",
    "``local truncation error behaves like $\\mathcal{O}(\\tau^{p+1})$\"\n",
    "+ \"Increment function satisfies a Lipschitz condition\"\n",
    "$\\Rightarrow$\n",
    "\"global truncation error behaves like $\\mathcal{O}(\\tau^{p})$\"\n",
    "\n",
    "It turns out that for $f$ is at least $C^1$ with respect to all\n",
    "its arguments then the increment function $\\Phi$\n",
    "associated with any Runge-Kutta methods satisfies\n",
    "a Lipschitz condition. The next theorem provides\n",
    "us a simple way to check whether a given Runge-Kutta\n",
    "(up to 4 stages) attains a certain consistency order."
   ]
  },
  {
   "cell_type": "markdown",
   "id": "a9396fa9-52ee-40a1-bdc9-ca22839a8d90",
   "metadata": {
    "editable": true,
    "slideshow": {
     "slide_type": "slide"
    },
    "tags": []
   },
   "source": [
    ":::{prf:theorem} Order conditions for Runge-Kutta methods\n",
    ":label: thm:rk-order-conditions\n",
    "\n",
    "Let the right-hand side $f$ of an IVP be of $C^p$.\n",
    "Then a Runge - Kutta method has consistency order $p$ if and only if all the\n",
    "conditions up to and including $p$ in the table below are satisfied.\n",
    "\n",
    "$$\n",
    "\\begin{array}{|c|c|c}\n",
    "   \\hline\n",
    "   p  & \\text{conditions}  \\\\ \\hline \n",
    "   1 & \\sum_{i=1}^s b_i = 1 \\\\ \\hline \n",
    "  2 & \\sum_{i=1}^s b_i c_i = 1/2 \\\\ \\hline \n",
    "  3 & \\sum_{i=1}^s b_i c_i^2 = 1/3\\\\ \n",
    "   & \\sum_{i,j=1}^s b_i a_{ij} c_j = 1/6 \n",
    "  \\\\ \\hline \n",
    "  4 & \\sum_{i=1}^s b_ic_i^3=1/4 \\\\ \n",
    "  & \\sum_{i,j=1}^s b_i c_i a_{ij}c_j=1/8 \\\\ \n",
    "  & \\sum_{i,j=1}^s b_i a_{ij}c_j^2=1/12 \\\\ \n",
    "  & \\sum_{i,j,k=1}^s b_i a_{ij} a_{jk} c_k = 1/24 \\\\ \\hline \n",
    "\\end{array}\n",
    "$$\n",
    "\n",
    "where sums are taken over all the indices from 1 to $s$.\n",
    ":::"
   ]
  },
  {
   "cell_type": "markdown",
   "id": "07281fb9-5a6b-4d0d-aa1c-575c0706c3b9",
   "metadata": {
    "editable": true,
    "slideshow": {
     "slide_type": "slide"
    },
    "tags": []
   },
   "source": [
    ":::{prf:proof} \n",
    "We don't present a proof, but the most straight-forward approach is similar to the way we show that Heun's method and the improved Euler's method\n",
    "are consistent of order 2: You perform a Taylor-expansion of the real solution and express all derivatives of $y(t)$ in terms of derivatives \n",
    "of $f$ by invoking the chain rule. Then you perform Taylor expansion of the various stages in the Runge-Kutta methods and gather all terms with the\n",
    "the same $\\tau$ order. To achieve a certain consistency order $p$, the terms paired with $\\tau^k$, $k=0,\\ldots,p$ in the Taylor-expansion of the discrete solution must match the corresponding terms of the exact solution, which in turn will lead to certain condition for $b_j, c_j$ and $a_{ij}$. \n",
    "\n",
    "Of course, this get quite cumbersome for higher order methods, and luckily there is a beautiful theory, will tells you how to do Taylor-expansion\n",
    "of the discrete and exact solution in term of derivatives of $f$ in very structured manner.\n",
    "See {cite}`HairerWanner1993`(Chapter II.2). \n",
    ":::"
   ]
  },
  {
   "cell_type": "markdown",
   "id": "persistent-toilet",
   "metadata": {
    "editable": true,
    "slideshow": {
     "slide_type": "slide"
    },
    "tags": []
   },
   "source": [
    ":::{exercise} Applying order conditions to Heun's method\n",
    ":label: ode:exe-order-cond-heun\n",
    "\n",
    "Apply the conditions to Heun's method, for which $s=2$ and the Butcher tableau is\n",
    "\n",
    "$$\n",
    "\\begin{array}{c|cc} \n",
    "c_1 & a_{11} & a_{12} \\\\ c_2 & a_{21} & a_{22} \\\\ \\hline & b_1 & b_2 \n",
    "\\end{array}\n",
    "=\n",
    "\\begin{array}{c|cc}\n",
    "0 & 0 & 0 \\\\ 1 & 1 & 0 \\\\ \\hline & \\frac{1}{2} & \\frac{1}{2} \n",
    "\\end{array}.\n",
    "$$\n",
    "\n",
    ":::"
   ]
  },
  {
   "cell_type": "markdown",
   "id": "hungry-dinner",
   "metadata": {
    "editable": true,
    "slideshow": {
     "slide_type": "slide"
    },
    "tags": []
   },
   "source": [
    ":::{solution} ode:exe-order-cond-heun\n",
    "\n",
    "The order conditions are:\n",
    "\n",
    "\\begin{align*}\n",
    "p&=1 & b_1 + b_2 &= \\frac{1}{2} + \\frac{1}{2}= 1 && \\text{OK} \\\\ \\\\ \\hline \\\\ \n",
    "p&=2 & b_1c_1 + b_2 c_2 &= \\frac{1}{2}\\cdot 0 + \\frac{1}{2}\\cdot 1 = \\frac{1}{2} && \\text{OK}\\\\  \\\\ \\hline \\\\ \n",
    "p&=3 & b_1c_1^2 + b_2c_2^2 &= \\frac{1}{2}\\cdot 0^2 + \\frac{1}{2}\\cdot 1^2 = \\frac{1}{2} \\not= \\frac{1}{3} && \\text{Not satisfied} \\\\ \n",
    " &   & b_1(a_{11}c_1+a_{12}c_2)+b_2(a_{21}c_1+a_{22}c_2) &= \\frac{1}{2}(0\\cdot0 + 0\\cdot 1) + \\frac{1}{2}(1\\cdot 0 + 0\\cdot 1) \\\\ \n",
    "      &&&= 0 \\not=\\frac{1}{6} && \\text{Not satisfied}\n",
    "\\end{align*}\n",
    "\n",
    "The method is of order 2.\n",
    ":::"
   ]
  },
  {
   "cell_type": "markdown",
   "id": "2eb925df-e7fe-45c9-914a-e1b248594636",
   "metadata": {
    "editable": true,
    "slideshow": {
     "slide_type": "slide"
    },
    "tags": []
   },
   "source": [
    ":::{exercise} Applying order conditions to the classical Runge-Kutta method\n",
    ":label: ode:exe-order-cond-class-runge-kutta\n",
    "\n",
    "In our numerical experiment earlier, we observed that\n",
    "classical 4-stage Runge-Kutta method defined by\n",
    "\n",
    "$$\n",
    "\\begin{array}{c|cccc}\n",
    "      0 & 0 & 0 & 0 & 0\\\\ \\frac{1}{2} &  \\frac{1}{2} & 0 & 0 & 0\\\\ \\frac{1}{2} & 0 & \\frac{1}{2} & 0 & 0\\\\ 1 &  0 & 0 & 1 & 0 \\\\ \\hline & \\frac{1}{6} & \\frac{1}{3} & \\frac{1}{3} & \\frac{1}{6}\n",
    "    \\end{array}\n",
    "$$\n",
    "\n",
    "had convergence order 4. Now use the order conditions to show, that this method indeed has **consistency order** 4.\n",
    "\n",
    "Apply the conditions to Heun's method, for which $s=2$ and the Butcher tableau is\n",
    "\n",
    ":::"
   ]
  },
  {
   "cell_type": "markdown",
   "id": "toxic-parker",
   "metadata": {
    "editable": true,
    "slideshow": {
     "slide_type": "slide"
    },
    "tags": []
   },
   "source": [
    ":::{prf:theorem} Convergence theorem for Runge-Kutta methods\n",
    ":label: thm:rk-convergence\n",
    "\n",
    "\n",
    "Given the IVP ${\\boldsymbol y}' = {\\boldsymbol f}(t, {\\boldsymbol y}), {\\boldsymbol y}(0) = {\\boldsymbol y}_0$.\n",
    "Assume $f \\in C^p$ and that a given Runge-Kutta method satisfies\n",
    "the order conditions\n",
    "from {prf:ref}`thm:rk-order-conditions`\n",
    "up to order $p$.\n",
    "Then the Runge-Kutta method is convergent of order $p$.\n",
    "\n",
    ":::\n",
    "\n",
    ":::{prf:proof}\n",
    "We only sketch the proof. First, the method has consistency order $p$ thanks to the fullfilment of the order condition, {prf:ref}`thm:rk-order-conditions`. Thus,\n",
    "we only need to show that the increment function $\\Phi$ satisfies a Lipschitz condition.\n",
    "This can be achieved by employing a similar \"bootstrapping\" argument we used when proved that the increment function associated with the Heun's method satisfies a Lipschitz condition.\n",
    ":::"
   ]
  }
 ],
 "metadata": {
  "celltoolbar": "Slideshow",
  "jupytext": {
   "formats": "ipynb,md:myst"
  },
  "kernelspec": {
   "display_name": "Python 3",
   "language": "python",
   "name": "python3"
  },
  "language_info": {
   "codemirror_mode": {
    "name": "ipython",
    "version": 3
   },
   "file_extension": ".py",
   "mimetype": "text/x-python",
   "name": "python",
   "nbconvert_exporter": "python",
   "pygments_lexer": "ipython3",
   "version": "3.11.9"
  }
 },
 "nbformat": 4,
 "nbformat_minor": 5
}
