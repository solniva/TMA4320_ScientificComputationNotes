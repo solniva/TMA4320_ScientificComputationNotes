{
 "cells": [
  {
   "cell_type": "markdown",
   "id": "tough-weather",
   "metadata": {
    "editable": true,
    "slideshow": {
     "slide_type": "slide"
    },
    "tags": []
   },
   "source": [
    "## Numerical solution of ordinary differential equations: Error estimation and step size control"
   ]
  },
  {
   "cell_type": "markdown",
   "id": "choice-combination",
   "metadata": {
    "slideshow": {
     "slide_type": "slide"
    }
   },
   "source": [
    "As always, we start by import some important Python modules."
   ]
  },
  {
   "cell_type": "code",
   "execution_count": null,
   "id": "close-knight",
   "metadata": {
    "slideshow": {
     "slide_type": "fragment"
    }
   },
   "outputs": [],
   "source": [
    "import numpy as np\n",
    "from numpy import pi\n",
    "from numpy.linalg import solve, norm    \n",
    "import matplotlib.pyplot as plt\n",
    "\n",
    "# Do a pretty print of the tables using panda\n",
    "import pandas as pd\n",
    "from IPython.display import display\n",
    "\n",
    "# Use a funny plotting style\n",
    "# plt.xkcd()\n",
    "newparams = {'figure.figsize': (6.0, 6.0), 'axes.grid': True,\n",
    "             'lines.markersize': 8, 'lines.linewidth': 2,\n",
    "             'font.size': 14}\n",
    "plt.rcParams.update(newparams)"
   ]
  },
  {
   "attachments": {},
   "cell_type": "markdown",
   "id": "08905a3b-71cb-4253-8130-8ccba9c62737",
   "metadata": {
    "editable": true,
    "slideshow": {
     "slide_type": "slide"
    },
    "tags": []
   },
   "source": [
    "This goal of this section is to develop Runge Kutta methods with\n",
    "automatic adaptive time-step selection.\n",
    "\n",
    "Adaptive time-step selection aims to\n",
    "dynamically adjust the step size during the numerical integration\n",
    "process to balance accuracy and computational efficiency. By\n",
    "increasing the step size when the solution varies slowly and\n",
    "decreasing it when the solution changes rapidly, adaptive methods\n",
    "ensure that the local error remains within a specified tolerance. This\n",
    "approach not only enhances the precision of the solution but also\n",
    "optimizes the computational resources, making it particularly valuable\n",
    "for solving complex and stiff ODEs where fixed step sizes may either\n",
    "fail to capture important dynamics or result in unnecessary\n",
    "computations.\n",
    "\n",
    "In this notebook, we will again focus **explicit** Runge-Kutta methods"
   ]
  },
  {
   "cell_type": "markdown",
   "id": "95af4420-8a05-44d8-bb5e-c751918a67ec",
   "metadata": {
    "editable": true,
    "slideshow": {
     "slide_type": "slide"
    },
    "tags": [
     "hide-cell"
    ]
   },
   "source": [
    ":::{admonition} TODO\n",
    ":class: danger dropdown\n",
    "Add solution of three-body problem as an motivational example.\n",
    "Will be done after the submission of project 2 as project 2 requires to implement an adaptive RK method from scratch.\n",
    ":::"
   ]
  },
  {
   "cell_type": "markdown",
   "id": "fallen-housing",
   "metadata": {
    "editable": true,
    "slideshow": {
     "slide_type": "slide"
    },
    "tags": []
   },
   "source": [
    "### Error estimation\n",
    "Given two methods, one of order $p$ and the other of order $p+1$ or higher. Assume we have\n",
    "reached a point $(t_n,\\mathbf{y}_n)$. One step forward with each of these methods can be written as"
   ]
  },
  {
   "cell_type": "markdown",
   "id": "smooth-banks",
   "metadata": {
    "editable": true,
    "slideshow": {
     "slide_type": "fragment"
    },
    "tags": []
   },
   "source": [
    "\\begin{align*}\n",
    "  \\mathbf{y}_{n+1} &= \\mathbf{y}_n + \\tau {\\boldsymbol \\Phi}(t_n, \\mathbf{y}_n; \\tau), && \\text{order $p$}, \\\\ \n",
    "  \\widehat{\\mathbf{y}}_{n+1} &= \\mathbf{y}_n + \\tau \\widehat{{\\boldsymbol \\Phi}}(t_n, \\mathbf{y}_n; \\tau), && \\text{order $\\widehat{p} = p+1$ or more}. \\\\ \n",
    "\\end{align*}"
   ]
  },
  {
   "cell_type": "markdown",
   "id": "abandoned-housing",
   "metadata": {
    "editable": true,
    "slideshow": {
     "slide_type": "fragment"
    },
    "tags": []
   },
   "source": [
    "Let $\\mathbf{y}(t_{n+1};t_n,\\mathbf{y}_n)$ be the exact solution of the ODE through $(t_n,\\mathbf{y}_n)$.\n",
    "We would like to find an estimate for **consistency error** or **the local error** $\\mathbf{l}_{n+1}$, that is, the error in one step starting from  $(t_n, \\mathbf{y}_n)$,"
   ]
  },
  {
   "cell_type": "markdown",
   "id": "electrical-explorer",
   "metadata": {
    "editable": true,
    "slideshow": {
     "slide_type": "fragment"
    },
    "tags": []
   },
   "source": [
    "$$\n",
    "\\mathbf{l}_{n+1} = \\mathbf{y}(t_{n+1};t_n,\\mathbf{y}_n) - \\mathbf{y}_{n+1}.\n",
    "$$"
   ]
  },
  {
   "cell_type": "markdown",
   "id": "fiscal-issue",
   "metadata": {
    "editable": true,
    "slideshow": {
     "slide_type": "slide"
    },
    "tags": []
   },
   "source": [
    "As we have already seen, the local error is determined by finding the power series in $\\tau$ for both the exact and numerical solutions. The local error is of order $p$ if the lowest order terms in the series, where the exact and numerical solutions differ, are of order $p+1$. Therefore, the local errors of the two methods are:"
   ]
  },
  {
   "cell_type": "markdown",
   "id": "featured-burlington",
   "metadata": {
    "editable": true,
    "slideshow": {
     "slide_type": "fragment"
    },
    "tags": []
   },
   "source": [
    "\\begin{align*}\n",
    "\\mathbf{y}(t_{n+1};t_n,\\mathbf{y}_n) - \\mathbf{y}_{n+1} &= {\\boldsymbol\\Psi}(t_n,y_n)\\tau^{p+1}  +\\dotsc, \\\\ \n",
    "\\mathbf{y}(t_{n+1};t_n,\\mathbf{y}_n) - \\widehat{\\mathbf{y}}_{n+1} &= \\widehat{{\\boldsymbol\\Psi}}(t_n,y_n)\\tau^{p+2} + \\dotsc,\n",
    "\\end{align*}"
   ]
  },
  {
   "cell_type": "markdown",
   "id": "laden-rotation",
   "metadata": {
    "editable": true,
    "slideshow": {
     "slide_type": "fragment"
    },
    "tags": []
   },
   "source": [
    "where $\\Psi(t_n,y_n)$ is a term consisting of method parameters and differentials of $\\mathbf{f}$ and\n",
    "$\\dotsc$ contains all the terms of the series of order $p+2$ or higher.\n",
    "Taking the difference gives"
   ]
  },
  {
   "cell_type": "markdown",
   "id": "stuffed-acoustic",
   "metadata": {
    "editable": true,
    "slideshow": {
     "slide_type": "fragment"
    },
    "tags": []
   },
   "source": [
    "$$\n",
    "\\widehat{\\mathbf{y}}_{n+1} - \\mathbf{y}_{n+1} = {\\boldsymbol\\Psi}(t_n,\\mathbf{y}_n)\\tau^{p+1} + \\ldots.\n",
    "$$"
   ]
  },
  {
   "cell_type": "markdown",
   "id": "latin-chorus",
   "metadata": {
    "editable": true,
    "slideshow": {
     "slide_type": "fragment"
    },
    "tags": []
   },
   "source": [
    "Assume now that $\\tau$ is small, such that the *principal error term* ${\\boldsymbol\\Psi(t_n,y_n)}\\tau^{p+1}$ dominates the error series. Then a reasonable approximation to the unknown local error $\\mathbf{l}_{n+1}$ is the *local error estimate* $\\mathbf{le}_{n+1}$:"
   ]
  },
  {
   "cell_type": "markdown",
   "id": "japanese-nancy",
   "metadata": {
    "editable": true,
    "slideshow": {
     "slide_type": "fragment"
    },
    "tags": []
   },
   "source": [
    "$$\n",
    "\\mathbf{le}_{n+1} = \\widehat{\\mathbf{y}}_{n+1} - \\mathbf{y}_{n+1} \\approx \\mathbf{y}(t_{n+1};t_n,\\mathbf{y}_n) - \\mathbf{y}_{n+1}.\n",
    "$$"
   ]
  },
  {
   "cell_type": "markdown",
   "id": "rising-harvest",
   "metadata": {
    "editable": true,
    "slideshow": {
     "slide_type": "slide"
    },
    "tags": []
   },
   "source": [
    "### Stepsize control\n",
    "The next step is to control the local error, that is, choose the step size so that $\\|\\mathbf{le}_{n+1}\\| \\leq \\text{Tol}$ for some given tolerance Tol, and for some chosen norm $\\|\\cdot\\|$.\n",
    "\n",
    "Essentially:\n",
    "Given $t_n, \\mathbf{y}_n$ and a step size $\\tau_n$.\n",
    "* Do one step with the method of choice, and find an error estimate $\\mathbf{le}_{n+1}$."
   ]
  },
  {
   "cell_type": "markdown",
   "id": "national-plastic",
   "metadata": {
    "editable": true,
    "slideshow": {
     "slide_type": "fragment"
    },
    "tags": []
   },
   "source": [
    "* if  $\\|\\mathbf{le}\\|_{n+1} < \\text{Tol}$\n",
    "    * Accept the solution $t_{n+1}, \\mathbf{y}_{n+1}$.\n",
    "    * If possible, increase the step size for the next step."
   ]
  },
  {
   "cell_type": "markdown",
   "id": "compact-parallel",
   "metadata": {
    "editable": true,
    "slideshow": {
     "slide_type": "fragment"
    },
    "tags": []
   },
   "source": [
    "* else\n",
    "    * Repeat the step from $(t_n,\\mathbf{y}_n)$ with a reduced step size $\\tau_{n}$."
   ]
  },
  {
   "cell_type": "markdown",
   "id": "consistent-bulletin",
   "metadata": {
    "editable": true,
    "slideshow": {
     "slide_type": "slide"
    },
    "tags": []
   },
   "source": [
    "In both cases, the step size will change. But how?\n",
    "From the discussion above, we have that"
   ]
  },
  {
   "cell_type": "markdown",
   "id": "systematic-preliminary",
   "metadata": {
    "editable": true,
    "slideshow": {
     "slide_type": "fragment"
    },
    "tags": []
   },
   "source": [
    "$$\n",
    "\\| \\mathbf{le}_{n+1} \\| \\approx D  \\tau_{n}^{p+1}.\n",
    "$$\n",
    "\n",
    "where $\\mathbf{le}_{n+1}$ is the error estimate we can compute, $D$ is\n",
    "some unknown quantity, which we assume almost constant from one step\n",
    "to the next."
   ]
  },
  {
   "cell_type": "markdown",
   "id": "expressed-friendly",
   "metadata": {
    "editable": true,
    "slideshow": {
     "slide_type": "fragment"
    },
    "tags": []
   },
   "source": [
    "What we want is a step size $\\tau_{new}$ such that\n",
    "\n",
    "$$\n",
    "\\text{Tol} \\approx D \\tau _{new}^{p+1}.\n",
    "$$"
   ]
  },
  {
   "cell_type": "markdown",
   "id": "incredible-uganda",
   "metadata": {
    "editable": true,
    "slideshow": {
     "slide_type": "skip"
    },
    "tags": []
   },
   "source": [
    "From these two approximations we get:\n",
    "\n",
    "$$\n",
    "\\frac{\\text{Tol}}{\\|\\mathbf{le}_{n+1}\\|} \\approx \\left(\\frac{\\tau _{new}}{\\tau _n}\\right)^{p+1}\n",
    "\\qquad \\Rightarrow \\qquad\n",
    "\\tau_{new} \\approx \\left( \\frac{\\text{Tol}}{\\|\\mathbf{le}_{n+1}\\|} \\right)^{\\frac{1}{p+1}} \\tau _{n}.\n",
    "$$"
   ]
  },
  {
   "cell_type": "markdown",
   "id": "concerned-planet",
   "metadata": {
    "editable": true,
    "slideshow": {
     "slide_type": "slide"
    },
    "tags": []
   },
   "source": [
    "That is, if the current step $\\tau_n$ was rejected, we try a new step $\\tau _{new}$\n",
    "with this approximation.\n",
    "However, it is still possible that this new step will be rejected as well.\n",
    "To avoid too many rejected steps, it is therefore common to be a bit restrictive when choosing the new\n",
    "step size, so the following is used in practice:"
   ]
  },
  {
   "cell_type": "markdown",
   "id": "surprising-minneapolis",
   "metadata": {
    "editable": true,
    "slideshow": {
     "slide_type": "fragment"
    },
    "tags": []
   },
   "source": [
    "$$\n",
    "\\tau _{new} = P\\cdot \\left( \\frac{\\text{Tol}}{\\|\\mathbf{le}_{n+1}\\|} \\right)^{\\frac{1}{p+1}} \\tau _{n}.\n",
    "$$\n",
    "\n",
    "where the *pessimist factor* $P<1$ is some constant, normally chosen between 0.5 and 0.95."
   ]
  },
  {
   "cell_type": "markdown",
   "id": "ranking-kernel",
   "metadata": {
    "editable": true,
    "slideshow": {
     "slide_type": "slide"
    },
    "tags": []
   },
   "source": [
    "### Implementation\n",
    "We have all the bits and pieces for constructing an adaptive ODE solver based on Euler's and Heuns's methods. There are still some practical aspects to consider:\n",
    "\n",
    "* The combination of the two methods, can be written as"
   ]
  },
  {
   "cell_type": "markdown",
   "id": "lightweight-disabled",
   "metadata": {
    "editable": true,
    "slideshow": {
     "slide_type": "slide"
    },
    "tags": []
   },
   "source": [
    "\\begin{align*}\n",
    "      \\mathbf{k}_1 &= \\mathbf{f}(t_n, \\mathbf{y}_n), \\\\ \n",
    "      \\mathbf{k}_2 &= \\mathbf{f}(t_n+\\tau, \\mathbf{y}_n+\\tau \\mathbf{k}_1), \\\\ \n",
    "      \\mathbf{y}_{n+1} &= \\mathbf{y}_n + \\tau \\mathbf{k}_1, && \\text{Euler} \\\\ \n",
    "      \\widehat{\\mathbf{y}}_{n+1} &= \\mathbf{y}_n + \\frac{\\tau}{2}(\\mathbf{k}_1 + \\mathbf{k}_2), && \\text{Heun} \\\\ \n",
    "      \\mathbf{le}_{n+1} &= \\|\\widehat{\\mathbf{y}}_{n+1} - \\mathbf{y}_{n+1}\\| = \\frac{\\tau}{2}\\|\\mathbf{k}_2-\\mathbf{k}_1 \\|.\n",
    "\\end{align*}"
   ]
  },
  {
   "cell_type": "markdown",
   "id": "bulgarian-pacific",
   "metadata": {
    "editable": true,
    "slideshow": {
     "slide_type": "slide"
    },
    "tags": []
   },
   "source": [
    "* Even if the error estimate is derived for the lower order method, in this case Euler's method, it is common to advance the solution with the higher order method, since the additional accuracy is for free."
   ]
  },
  {
   "cell_type": "markdown",
   "id": "smart-ridge",
   "metadata": {
    "slideshow": {
     "slide_type": "fragment"
    }
   },
   "source": [
    "* Adjust the last step to be able to terminate the solutions exactly in $T$."
   ]
  },
  {
   "cell_type": "markdown",
   "id": "negative-amount",
   "metadata": {
    "slideshow": {
     "slide_type": "fragment"
    }
   },
   "source": [
    "* To avoid infinite loops, add some stopping criteria. In the code below, there is a maximum number of allowed steps (rejected or accepted)."
   ]
  },
  {
   "cell_type": "markdown",
   "id": "paperback-performer",
   "metadata": {
    "editable": true,
    "slideshow": {
     "slide_type": "slide"
    },
    "tags": []
   },
   "source": [
    "A popular class of Runge - Kutta methods with an error estimate consists of so-called **embedded Runge - Kutta methods** or **Runge - Kutta pairs**, and\n",
    "the coefficients can be written in a Butcher tableau as follows"
   ]
  },
  {
   "cell_type": "markdown",
   "id": "linear-sender",
   "metadata": {
    "editable": true,
    "slideshow": {
     "slide_type": "fragment"
    },
    "tags": []
   },
   "source": [
    "$$\n",
    "\\begin{array}{c|ccccl}\n",
    "    c_1 & a_{11} & a_{12} & \\cdots & a_{1s} \\\\ \n",
    "    c_2 & a_{21} & a_{22} & \\cdots & a_{2s} \\\\ \n",
    "    \\vdots & \\vdots &&&\\vdots \\\\ \n",
    "    c_s & a_{s1} & a_{s2} & \\cdots & a_{ss} \\\\ \\hline\n",
    "        & b_1 & b_2 & \\cdots & b_s  & \\qquad\\text{Order $p$}\\\\ \\hline\n",
    "        & \\widehat{b}_1 & \\widehat{b_2} & \\cdots & \\widehat{b}_s  & \\qquad\\text{Order $\\widehat{p}= p+1$}\n",
    "   \\end{array}.\n",
    "$$"
   ]
  },
  {
   "cell_type": "markdown",
   "id": "1c9ba11b-250b-4df5-9f00-e7eb81368080",
   "metadata": {
    "editable": true,
    "slideshow": {
     "slide_type": "slide"
    },
    "tags": []
   },
   "source": [
    "A major advantage of such embedded RKMs is that we need to compute the\n",
    "the $s$ stage derivatives $k_i$ **only once** and can use them for **both RKM**!\n",
    "Remember that stage derivatives can be expensive to compute.\n",
    "\n",
    "The order difference between the two different methods is soley determine by the use of different weights $\\{b_i\\}_{i=1}^s$ and $\\{\\widehat{b}_i\\}_{i=1}^s$."
   ]
  },
  {
   "cell_type": "markdown",
   "id": "boolean-instruction",
   "metadata": {
    "editable": true,
    "slideshow": {
     "slide_type": "slide"
    },
    "tags": []
   },
   "source": [
    "Since\n",
    " * $\\mathbf{y}_{n+1} = \\mathbf{y}_n + \\tau_n\\sum_{i=1}^s b_i \\mathbf{k}_i$\n",
    "\n",
    " * $\\widehat{\\mathbf{y}}_{n+1} = \\mathbf{y}_n + \\tau_n\\sum_{i=1}^s \\widehat{b}_i \\mathbf{k}_i$\n",
    "\n",
    "the error estimate is simply given by"
   ]
  },
  {
   "cell_type": "markdown",
   "id": "human-russell",
   "metadata": {
    "editable": true,
    "slideshow": {
     "slide_type": "fragment"
    },
    "tags": []
   },
   "source": [
    "$$\n",
    "\\mathbf{le}_{n+1} = \\tau_n\\sum_{i=1}^s (\\widehat{b}_i - b_i)\\mathbf{k}_i.\n",
    "$$"
   ]
  },
  {
   "cell_type": "markdown",
   "id": "surgical-indicator",
   "metadata": {
    "editable": true,
    "slideshow": {
     "slide_type": "slide"
    },
    "tags": []
   },
   "source": [
    "Recalling Euler and Heun,\n",
    "\n",
    "$$\n",
    "\\begin{array}{ccccccc}\n",
    "    \\displaystyle\n",
    "    \\begin{array}{c|c}\n",
    "      0 & 0 \\\\ \\hline & 1\n",
    "    \\end{array}\n",
    "    & \\qquad  &\n",
    "    \\displaystyle\n",
    "    \\begin{array}{c|cc}\n",
    "      0 & 0 & 0\\\\ 1 & 1 &0 \\\\ \\hline & \\frac{1}{2} & \\frac{1}{2}\n",
    "    \\end{array}\n",
    "    \\\\ \n",
    "    \\text{Euler} && \\text{Heun}\n",
    "  \\end{array}\n",
    "$$"
   ]
  },
  {
   "cell_type": "markdown",
   "id": "iraqi-contributor",
   "metadata": {
    "editable": true,
    "slideshow": {
     "slide_type": "fragment"
    },
    "tags": []
   },
   "source": [
    "and the Heun-Euler pair can be written as\n",
    "\n",
    "$$\n",
    "\\begin{array}{c|cc} 0 & & \\\\ 1 & 1 &   \\\\ \\hline & 1 & 0 \\\\ \\hline \\displaystyle & \\frac{1}{2} &  \\frac{1}{2}\n",
    " \\end{array}\n",
    "$$"
   ]
  },
  {
   "cell_type": "markdown",
   "id": "adapted-privilege",
   "metadata": {
    "editable": true,
    "slideshow": {
     "slide_type": "slide"
    },
    "tags": []
   },
   "source": [
    "A particular mention deserves also the classical *4-stage Runge-Kutta method*\n",
    "from a previous notebook, which can be written as\n",
    "\n",
    "$$\n",
    "\\begin{array}{c|cccc}\n",
    "      0 & 0 & 0 & 0 & 0\\\\ \\frac{1}{2} &  \\frac{1}{2} & 0 & 0 & 0\\\\ \\frac{1}{2} & 0 & \\frac{1}{2} & 0 & 0\\\\ 1 &  0 & 0 & 1 & 0 \\\\ \\hline & \\frac{1}{6} & \\frac{1}{3} & \\frac{1}{3} & \\frac{1}{6}\n",
    "    \\end{array}\n",
    "$$"
   ]
  },
  {
   "cell_type": "markdown",
   "id": "cardiac-romantic",
   "metadata": {
    "editable": true,
    "slideshow": {
     "slide_type": "slide"
    },
    "tags": []
   },
   "source": [
    "See this [list of Runge - Kutta methods](https://en.wikipedia.org/wiki/List_of_Runge–Kutta_methods) for more.\n",
    "For the last one there exist also a embedded Runge-Kutta 4(3) variant\n",
    "due to **Fehlberg**:\n",
    "\n",
    "$$\n",
    "\\begin{array}{c|ccccc}\n",
    "      0 & 0 & 0 & 0 & 0 & 0\n",
    "      \\\\ \n",
    "      \\frac{1}{2} & \\frac{1}{2} & 0 & 0 & 0 & 0\n",
    "      \\\\ \n",
    "      \\frac{1}{2} & 0 & \\frac{1}{2} & 0 & 0 & 0\n",
    "      \\\\ \n",
    "      1 &  0 & 0 & 1 & 0 & 0\n",
    "      \\\\ \n",
    "      1 & \\frac{1}{6} & \\frac{1}{3} & \\frac{1}{3} & \\frac{1}{6} & 0\n",
    "      \\\\ \n",
    "      \\hline\n",
    "      & \\frac{1}{6} & \\frac{1}{3} & \\frac{1}{3} & 0 & \\frac{1}{6}\n",
    "      \\\\ \n",
    "     \\hline\n",
    "      & \\frac{1}{6} & \\frac{1}{3} & \\frac{1}{3} & \\frac{1}{6} & 0\n",
    "\\end{array}\n",
    "$$"
   ]
  },
  {
   "cell_type": "markdown",
   "id": "essential-institution",
   "metadata": {
    "editable": true,
    "slideshow": {
     "slide_type": "fragment"
    },
    "tags": []
   },
   "source": [
    "**Outlook.** In your homework/project assignment, you will be asked to implement automatic adaptive time step selection\n",
    "based on embedded Runge-Kutta methods. You can either develop those from scratch or start from the `ExplicitRungeKutta` class\n",
    "we presented earlier and incorporate code for error estimation and time step selection."
   ]
  }
 ],
 "metadata": {
  "celltoolbar": "Slideshow",
  "jupytext": {
   "formats": "ipynb,md:myst"
  },
  "kernelspec": {
   "display_name": "Python 3 (ipykernel)",
   "language": "python",
   "name": "python3"
  },
  "language_info": {
   "codemirror_mode": {
    "name": "ipython",
    "version": 3
   },
   "file_extension": ".py",
   "mimetype": "text/x-python",
   "name": "python",
   "nbconvert_exporter": "python",
   "pygments_lexer": "ipython3",
   "version": "3.13.2"
  }
 },
 "nbformat": 4,
 "nbformat_minor": 5
}
