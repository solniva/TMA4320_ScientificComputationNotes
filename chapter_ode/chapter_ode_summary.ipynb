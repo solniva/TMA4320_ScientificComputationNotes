{
 "cells": [
  {
   "cell_type": "markdown",
   "id": "861806ae",
   "metadata": {},
   "source": [
    "## Summary\n",
    "\n",
    "This chapter addresses the numerical solution of initial value\n",
    "problems (IVPs) for ordinary differential equations (ODEs), a\n",
    "cornerstone of scientific computing. It begins with motivating\n",
    "examples from population dynamics, epidemic modeling (SIR),\n",
    "predator-prey systems (Lotka–Volterra), and nonlinear oscillators (Van\n",
    "der Pol equation). The chapter then systematically introduces and\n",
    "analyzes various numerical methods for solving ODEs, with a\n",
    "progression from basic to more advanced techniques:"
   ]
  },
  {
   "cell_type": "markdown",
   "id": "5d72942c",
   "metadata": {},
   "source": [
    " * Section 4.1 – Motivation and Modeling\n",
    "\t* Scalar first-order ODEs and systems of ODEs.\n",
    "\t* Real-world examples such as exponential growth/decay, time-dependent coefficients, and the SIR and Lotka-Volterra models.\n",
    "\t* Rewriting higher-order ODEs as first-order systems."
   ]
  },
  {
   "cell_type": "markdown",
   "id": "fc1ca8d1",
   "metadata": {},
   "source": [
    "* Section 4.2 – Euler’s and Heun’s Methods\n",
    "\t* Derivation of Euler’s method from Taylor series and integral approximations.\n",
    "\t* Introduction of Heun’s method as a predictor-corrector scheme for improved accuracy.\n",
    "\t* Implementation details and example applications."
   ]
  },
  {
   "cell_type": "markdown",
   "id": "0f597791",
   "metadata": {},
   "source": [
    "* Section 4.3 – Error Analysis of One-Step Methods\n",
    "\t* Concepts of local truncation error and global error.\n",
    "\t* Orders of accuracy and consistency.\n",
    "\t* Lipschitz continuity and convergence proofs."
   ]
  },
  {
   "cell_type": "markdown",
   "id": "1041f394",
   "metadata": {},
   "source": [
    "* Section 4.4 – Higher Order Runge-Kutta Methods\n",
    "\t* General form of explicit Runge-Kutta methods.\n",
    "\t* Classical fourth-order RK4 method.\n",
    "\t* Trade-off between computational cost and accuracy."
   ]
  },
  {
   "cell_type": "markdown",
   "id": "3ed07cf4",
   "metadata": {},
   "source": [
    "* Section 4.5 – Adaptive Time Stepping and Error Estimation\n",
    "\t* Step size control using local error estimates.\n",
    "\t* Embedded Runge-Kutta pairs (e.g., Fehlberg).\n",
    "\t* Balancing stability, efficiency, and accuracy."
   ]
  },
  {
   "cell_type": "markdown",
   "id": "1f885ba4",
   "metadata": {},
   "source": [
    "* Section 4.6 – Stiff ODEs\n",
    "\t* Definition and examples of stiffness.\n",
    "\t* Stability regions and limitations of explicit methods.\n",
    "\t* Introduction to implicit methods for stiff problems (briefly, as a motivation for later courses).\n"
   ]
  },
  {
   "cell_type": "markdown",
   "id": "12b59255",
   "metadata": {},
   "source": [
    "* Section 4.7 – Mini Project: SIR Model Simulation\n",
    "\t* Full implementation of the SIR model using numerical ODE solvers.\n",
    "\t* Visual exploration of disease dynamics and parameter sensitivity.\n",
    "\t* Demonstration of how simple models can produce rich dynamic behavior."
   ]
  },
  {
   "cell_type": "markdown",
   "id": "6fb7913a",
   "metadata": {
    "vscode": {
     "languageId": "plaintext"
    }
   },
   "source": [
    "🎯 **Learning Outcomes for Chapter 4**\n",
    "\n",
    "By the end of this chapter, students will be able to:\n",
    "\n",
    "* Modeling and Understanding\n",
    "  * Have a basic understanding of how initial value problems (IVPs) for scalar and systems of ODEs can be used to model phenomena in biology, epidemiology, and physics.\n",
    "  * Convert higher-order differential equations into first-order systems.\n"
   ]
  },
  {
   "cell_type": "markdown",
   "id": "e5770d85",
   "metadata": {},
   "source": [
    "\n",
    "* Numerical Methods\n",
    "  * Derive and implement Euler’s method and Heun’s method, and explain their relation to Taylor expansion and quadrature rules.\n",
    "  * Derive and implement higher-order, explicit Runge-Kutta methods, including the classical fourth-order RK4 method.\n",
    "  * Understand formal descriptions of Runge-Kutta methods using stages, stage derivatives and Butcher tableaux "
   ]
  },
  {
   "cell_type": "markdown",
   "id": "6bd4fc49",
   "metadata": {},
   "source": [
    "\n",
    "* Error Analysis\n",
    "  * Know how to write one-step methods using increment functions\n",
    "  * Understand the concept of local truncation error, global error, consistency order and convergence order.\n",
    "  * Derive Lipschitz conditions for Runge-Kutta methods and understand their implications for\n",
    "  translating local consistency order into global convergence order.\n",
    "  * Derive the local truncation error and Lipschitz conditions for Euler’s method and Heun’s method\n",
    "  * Assess the accuracy, efficiency and convergence order of different one-step methods numerically through the method of manufactured solutions (EOC studies)"
   ]
  },
  {
   "cell_type": "markdown",
   "id": "d929e483",
   "metadata": {},
   "source": [
    "* Adaptive Methods\n",
    "  * Apply adaptive step size control using embedded Runge-Kutta pairs and local error estimators.\n",
    "  * Evaluate the trade-offs between step size, accuracy, and computational cost.\n",
    "\n",
    "* Stiffness and Stability\n",
    "  * Identify stiff ODE problems and explain why explicit methods may fail. \n",
    "  * Derive stability function and stability regions for explicit methods.\n",
    "    motivate the use of implicit methods in stiff contexts (conceptual level)."
   ]
  },
  {
   "cell_type": "markdown",
   "id": "192dc894",
   "metadata": {},
   "source": []
  }
 ],
 "metadata": {
  "language_info": {
   "name": "python"
  }
 },
 "nbformat": 4,
 "nbformat_minor": 5
}
