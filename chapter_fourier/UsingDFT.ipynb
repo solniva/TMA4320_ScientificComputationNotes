{
 "cells": [
  {
   "cell_type": "markdown",
   "metadata": {},
   "source": [
    "## Using the discrete Fourier transform"
   ]
  },
  {
   "cell_type": "markdown",
   "metadata": {},
   "source": [
    "### The fast Fourier transform (FFT)"
   ]
  },
  {
   "cell_type": "markdown",
   "metadata": {},
   "source": [
    "Recall that for a sequence $\\boldsymbol{f} = \\{f_0, f_1, \\ldots, f_{N-1}\\} \\in \\mathbb{C}^N$ \n",
    "of sampling points\n",
    "the  DFT can be written as\n",
    "$$ \\widehat{\\boldsymbol{f}} = \\mathbf{F}_N \\boldsymbol{f} $$\n",
    "with\n",
    "$\\widehat{\\boldsymbol{f}} = \\{\\widehat{f}_0, \\widehat{f}_1, \\ldots, \\widehat{f}_{N-1}\\} \\in \\mathbb{C}^N$ \n",
    "where $\\mathcal{F}_N$ is the (symmetric!) Fourier matrix with elements $F_{k,l} = \\omega_N^{-k l}$, i.e.\n",
    "$$\n",
    "\\mathbf{F}_N = \\frac{1}{N} \\begin{pmatrix}\n",
    "1 & 1 & 1 & \\cdots & 1 \\\\\n",
    "1 & \\omega_N^{-1} & \\omega_N^{-2} & \\cdots & \\omega_N^{-(N-1)} \\\\\n",
    "1 & \\omega_N^{-2} & \\omega_N^{-4} & \\cdots & \\omega_N^{-2(N-1)} \\\\\n",
    "\\vdots & \\vdots & \\vdots & \\ddots & \\vdots \\\\\n",
    "1 & \\omega_N^{-(N-1)} & \\omega_N^{-2(N-1)} & \\cdots & \\omega_N^{-(N-1)(N-1)}\n",
    "\\end{pmatrix}\n",
    "$$ (fou:eq:fourier_matrix)\n",
    "\n",
    "where $\\omega_N = e^{-2\\pi i/N}$ is the $N$-th root of unity."
   ]
  },
  {
   "cell_type": "markdown",
   "metadata": {},
   "source": [
    "Since a naive matrix-vector multiplication has complexity $\\mathcal{O}(N^2)$\n",
    "(*N* row* column multiplications with *N* additions/multiplication each),\n",
    "the direct computation of the DFT via its Fourier matrix becomes dramatically slow for large $N$."
   ]
  },
  {
   "cell_type": "markdown",
   "metadata": {},
   "source": [
    "Luckily, there are a lot of symmetries in the Fourier matrix that can be exploited to reduce the complexity to $\\mathcal{O}(N \\log N)$.\n",
    "The resulting algorithm is called the\n",
    "[Fast Fourier Transform](https://en.wikipedia.org/wiki/Fast_Fourier_transform) and\n",
    "is considered to be among the \n",
    "*[top 10 most important algorithms](https://nhigham.com/2016/03/29/the-top-10-algorithms-in-applied-mathematics)* in applied mathematics.\n",
    "\n",
    "While we do not have time to go into the details of the FFT algorithm, we will here reproduce (slightly modified) a\n",
    "nice explanation."
   ]
  },
  {
   "cell_type": "markdown",
   "metadata": {},
   "source": [
    "In particular if the number of data points $N$ is a power of 2.\n",
    "\n",
    "The basic idea behind the FFT is that the DFT may be implemented much more efficiently if the number of data points $N$ is a power of 2.\n",
    "To get an idea of how symmetries in the Fourier matrix can be exploited,  consider the case\n",
    "$N=2^{10}=1024$. \n",
    "In this case, the DFT matrix $\\mathbf{F}_{1024}$ may be written as\n",
    "\n",
    "$$\n",
    "\\mathbf{\\widehat{f}}=\\mathbf{F}_{1024} \\mathbf{f}=\\left[\\begin{array}{cc}\n",
    "\\mathbf{I}_{512} & \\mathbf{D}_{512} \\\\\n",
    "\\mathbf{I}_{512} & -\\mathbf{D}_{512}\n",
    "\\end{array}\\right]\\left[\\begin{array}{cc}\n",
    "\\mathbf{F}_{512} & \\mathbf{0} \\\\\n",
    "\\mathbf{0} & \\mathbf{F}_{512}\n",
    "\\end{array}\\right]\\left[\\begin{array}{c}\n",
    "\\mathbf{f}_{\\text {even }} \\\\\n",
    "\\mathbf{f}_{\\text {odd }}\n",
    "\\end{array}\\right]\n",
    "$$\n",
    "\n",
    "where $\\mathbf{f}_{\\text {even }}$ are the even index elements of $\\mathbf{f}, \\mathbf{f}_{\\text {odd }}$ are the odd index elements of $\\mathbf{f}, \\mathbf{I}_{512}$ is the $512 \\times 512$ identity matrix, and $\\mathbf{D}_{512}$ is given by\n",
    "\n",
    "$$\n",
    "\\mathbf{D}_{512}=\\left[\\begin{array}{ccccc}\n",
    "1 & 0 & 0 & \\cdots & 0 \\\\\n",
    "0 & \\omega_{512} & 0 & \\cdots & 0 \\\\\n",
    "0 & 0 & \\omega_{512}^{-2} & \\cdots & 0 \\\\\n",
    "\\vdots & \\vdots & \\vdots & \\ddots & \\vdots \\\\\n",
    "0 & 0 & 0 & \\cdots & \\omega_{512}^{-511}\n",
    "\\end{array}\\right]\n",
    "$$\n",
    "\n",
    "This expression can be derived from a careful accounting and\n",
    "reorganization of the terms in the DFT matrix."
   ]
  },
  {
   "cell_type": "markdown",
   "metadata": {},
   "source": [
    "If $N=2^p$, this process can be repeated, and $\\mathbf{F}_{512}$ can be represented by\n",
    "$\\mathbf{F}_{256}$, which can then be represented by $\\mathbf{F}_{128}\n",
    "\\rightarrow \\mathbf{F}_{64} \\rightarrow \\mathbf{F}_{32} \\rightarrow\n",
    "\\cdots$. If $N \\neq 2^p$, the vector can be padded/filled with zeros until it\n",
    "is a power of 2 . The FFT then involves an efficient interleaving of\n",
    "even and odd indices of sub-vectors of $\\mathbf{f}$, and the\n",
    "computation of several smaller $2 \\times 2$ DFT computations, with a total complexity of $\\mathcal{O}(N \\log N)$."
   ]
  },
  {
   "cell_type": "markdown",
   "metadata": {},
   "source": [
    "### Using the FFT in Python\n",
    "Now it is time to use the FFT in Python. \n",
    "We will use the [`fft` modules from the `scipy` library](https://docs.scipy.org/doc/scipy/tutorial/fft.html), which provides a fast implementation of the FFT algorithm.\n",
    "Available on [GitHub](https://github.com/dynamicslab/databook_python), specifically from the example [CH02_SEC02_2_Denoise.ipynb](https://github.com/dynamicslab/databook_python/blob/master/CH02/CH02_SEC02_2_Denoise.ipynb)"
   ]
  },
  {
   "cell_type": "code",
   "execution_count": null,
   "metadata": {},
   "outputs": [],
   "source": [
    "%matplotlib inline\n",
    "import numpy as np\n",
    "import matplotlib.pyplot as plt\n",
    "from scipy.fft import fft, ifft, fftfreq, fftshift\n",
    "import pandas as pd\n",
    "\n",
    "plt.rcParams['figure.figsize'] = [15, 5]\n"
   ]
  },
  {
   "cell_type": "code",
   "execution_count": null,
   "metadata": {},
   "outputs": [],
   "source": [
    "# Create a simple signal with two frequencies\n",
    "\n",
    "# Interval length\n",
    "L = 4*np.pi\n",
    "f_clean = lambda x : np.sin(2*np.pi/L*2*x) + np.cos(2*np.pi/L*5*x) # Sum of 2 frequencies\n"
   ]
  },
  {
   "cell_type": "code",
   "execution_count": null,
   "metadata": {},
   "outputs": [],
   "source": [
    "x = np.linspace(0, L, 1000)\n",
    "plt.plot(x, f_clean(x), label='f_clean')\n",
    "plt.xlabel(r'$x$')\n",
    "plt.ylabel(r'$f$')\n",
    "plt.title('Clean signal')\n",
    "plt.legend()\n",
    "plt.show()\n"
   ]
  },
  {
   "cell_type": "markdown",
   "metadata": {},
   "source": [
    "Next, we sample this signal using 20 sample points.\n",
    "\n",
    "When sampling an supposedly periodic signal over a given domain, you have to make\n",
    "sure to **exclude** the endpoint of the domain from the sampling points.\n",
    "This can be achieved by using the `endpoint=False` argument in the `np.linspace` function.\n",
    "Otherwise you will get rare artifacts in the Fourier transform as you basically sample the signal at the same point twice."
   ]
  },
  {
   "cell_type": "code",
   "execution_count": null,
   "metadata": {},
   "outputs": [],
   "source": [
    "# Sample the signal\n",
    "N = 20\n",
    "xs = np.linspace(0, L, N, endpoint=False)\n",
    "fcs = f_clean(xs)\n",
    "\n",
    "fcs_hat = fft(fcs)\n",
    "fig = plt.figure(figsize=(8, 6))\n",
    "axs = fig.subplots(2, 1)\n",
    "axs[0].stem(fcs_hat.real, label='real')\n",
    "axs[0].set_title('Real Part')\n",
    "axs[0].legend()\n",
    "\n",
    "axs[1].stem(fcs_hat.imag, label='imag')\n",
    "axs[1].set_title('Imaginary Part')\n",
    "axs[1].legend()\n",
    "plt.tight_layout()\n"
   ]
  },
  {
   "cell_type": "markdown",
   "metadata": {},
   "source": [
    "Ok, let's try to understand this plot a bit better.\n",
    "First, we need to recall the ordering of the FFT output as discussed in `sec:triginterp`:\n",
    "\n",
    "For $N = 2n +1 $ we have\n",
    "\n",
    "\\begin{align}\n",
    "[\\widehat{f}_0, \\widehat{f}_1, \\ldots, \\widehat{f}_{n}, \\widehat{f}_{-n}, \\ldots, \\widehat{f}_{-1}]\n",
    "\\end{align}\n",
    "while for  $N = 2n$ we have instead the order\n",
    "\\begin{align}\n",
    " [\\widehat{f}_0, \\widehat{f}_1, \\ldots, \\widehat{f}_{n-1}, \\widehat{f}_{-n}, \\ldots, \\widehat{f}_{-1}]\n",
    "\\end{align}\n",
    "Thus we need to shift the output of the FFT accordingly to get the correct ordering.\n",
    "This can be done using the [`fftshift` function](https://docs.scipy.org/doc/scipy/reference/generated/scipy.fft.fftshift.html#scipy.fft.fftshift) from the `scipy.fft` module."
   ]
  },
  {
   "cell_type": "code",
   "execution_count": null,
   "metadata": {},
   "outputs": [],
   "source": [
    "# Sample the signal\n",
    "N = 20\n",
    "xs = np.linspace(0, L, N, endpoint=False)\n",
    "fcs = f_clean(xs)\n",
    "\n",
    "fcs_hat_shift = fftshift(fcs_hat)\n",
    "fig = plt.figure(figsize=(8, 6))\n",
    "axs = fig.subplots(2, 1)\n",
    "axs[0].stem(fcs_hat_shift.real, label='real')\n",
    "axs[0].set_title('Real Part')\n",
    "axs[0].legend()\n",
    "\n",
    "axs[1].stem(fcs_hat_shift.imag, label='imag')\n",
    "axs[1].set_title('Imaginary Part')\n",
    "axs[1].legend()\n",
    "plt.tight_layout()\n"
   ]
  },
  {
   "cell_type": "markdown",
   "metadata": {},
   "source": [
    "This makes now almost sense :) but right now the $x$-axis is just the index of the array. It would be nice to adapt the $x$-axis to the frequency.\n",
    "We can easily obtain the relevant frequencies by using the [`fftfreq` function](https://docs.scipy.org/doc/scipy/reference/generated/scipy.fft.fftfreq.html#scipy.fft.fftfreq) from the `scipy.fft` module.\n",
    "\n",
    "The `fftfreq` function takes as input the number of sample points and the spacing between the sample points and returns the Discrete Fourier Transform sample frequencies.\n",
    "More precisely, it returns\n",
    "```python   \n",
    "f = [0, 1, ...,   N/2-1,     -N/2, ..., -1] / (d*N)   if N is even\n",
    "f = [0, 1, ..., (N-1)/2, -(N-1)/2, ..., -1] / (d*N)   if N is odd\n",
    "```\n",
    "So in order obtain the **sampling frequencies**, we need to multiply the output of `fftfreq` by the length `d*N` the the interval over which we sampled the signal:\n",
    "\n",
    "<font color=\"green\">`fftfreq` returnerer en array med frekvensverdier som tilsvarer de forskjellige komponentene i Fourier-transformen</font>"
   ]
  },
  {
   "cell_type": "code",
   "execution_count": null,
   "metadata": {},
   "outputs": [],
   "source": [
    "freqs = fftfreq(N) # Assumes a sampling width of d = 1  \n",
    "print(freqs)\n"
   ]
  },
  {
   "cell_type": "code",
   "execution_count": null,
   "metadata": {},
   "outputs": [],
   "source": [
    "freqs = fftfreq(N, d=1/N)\n",
    "print(freqs)\n",
    "# Equivalent to\n",
    "freqs = np.fft.fftfreq(N, d=L/N)*L\n",
    "print(freqs)\n"
   ]
  },
  {
   "cell_type": "markdown",
   "metadata": {},
   "source": [
    "This might not look exactly as the frequencies we expected for $N$ samples, does it?\n",
    "Note for the fundamental frequency $f_0$ is given by $f_0 = 2\\pi/L$ where $T$ is the total time spanned by the signal."
   ]
  },
  {
   "cell_type": "markdown",
   "metadata": {},
   "source": [
    "So know we can plot the signal and its Fourier transform in a single plot.\n",
    "But before we again have to shift the frequencies to the correct order."
   ]
  },
  {
   "cell_type": "code",
   "execution_count": null,
   "metadata": {},
   "outputs": [],
   "source": [
    "freqs_shift = fftshift(fftfreq(N, d=1/N))\n",
    "print(freqs_shift)\n"
   ]
  },
  {
   "cell_type": "code",
   "execution_count": null,
   "metadata": {},
   "outputs": [],
   "source": [
    "fig = plt.figure(figsize=(8, 6))\n",
    "axs = fig.subplots(2, 1)\n",
    "axs[0].stem(freqs_shift, fcs_hat_shift.real, label='real')\n",
    "axs[0].set_title('Real Part')\n",
    "axs[0].legend()\n",
    "\n",
    "axs[1].stem(freqs_shift, fcs_hat_shift.imag, label='imag')\n",
    "axs[1].set_title('Imaginary Part')\n",
    "axs[1].legend()\n",
    "plt.tight_layout()\n"
   ]
  },
  {
   "cell_type": "markdown",
   "metadata": {},
   "source": [
    "Note the hight of the peaks in the Fourier transform plot\n",
    "and recall that the the `fft` functions return the Fourier coefficients which are not normalized by the number of sample points. If we divide by $N$ we get the correct amplitudes of the Fourier coefficients, which should $1/2$ for\n",
    "a $\\cos(2\\pi k/L x)$ or $\\sin(2\\pi k/L x)$ type of signal."
   ]
  },
  {
   "cell_type": "markdown",
   "metadata": {},
   "source": [
    "### Aliasing and Nyquist frequency"
   ]
  },
  {
   "cell_type": "markdown",
   "metadata": {},
   "source": [
    "To the previous signal we add a high frequency component to the signal and sample it again \n",
    "with the same sampling rate as before."
   ]
  },
  {
   "cell_type": "code",
   "execution_count": null,
   "metadata": {},
   "outputs": [],
   "source": [
    "# For N = 20\n",
    "N=20\n",
    "f_alias = lambda x :  0.5*np.sin((2+20)*np.pi/L*2*x) + f_clean(x) \n",
    "\n",
    "plt.figure()\n",
    "plt.plot(x, f_alias(x), label='f_alias')\n",
    "plt.show()\n"
   ]
  },
  {
   "cell_type": "code",
   "execution_count": null,
   "metadata": {},
   "outputs": [],
   "source": [
    "f_alias_shift = fftshift(fft(f_alias(xs)))\n",
    "\n",
    "fig = plt.figure(figsize=(8, 6))\n",
    "axs = fig.subplots(2, 1)\n",
    "axs[0].stem(freqs_shift, f_alias_shift.real, label='real')\n",
    "axs[0].set_title('Real Part')\n",
    "axs[0].legend()\n",
    "\n",
    "axs[1].stem(freqs_shift, f_alias_shift.imag, label='imag')\n",
    "axs[1].set_title('Imaginary Part')\n",
    "axs[1].legend()\n",
    "plt.tight_layout()\n"
   ]
  },
  {
   "cell_type": "markdown",
   "metadata": {},
   "source": [
    "We note that we get the same frequencies as for the original clean signal, but the amplitude for the imaginary part is different, namely 1.5 of the original signal.\n",
    "The reason for that boils down to the \n",
    "previously stated orthogonality properties of the trigonometric functions\n",
    "with respect to the discrete inner product:\n",
    "\n",
    "$$\n",
    "\\langle \\omega^l, \\omega^m \\rangle_N \n",
    "=\n",
    "\\begin{cases}\n",
    "1 & \\text{if } (l-m)/N \\in \\mathbb{Z}, \\\\\n",
    "0 & \\text{else.}\n",
    "\\end{cases}\n",
    "$$\n",
    "\n",
    "In particular that means, that $\\omega^l$ and $\\omega^{l+N}$  cannot be distinguished for a sampling number of $N$. \n",
    "In other words, $\\omega^{l+N}$ is an **alias** of $\\omega^l$.\n",
    "This is known as **aliasing** and is a common problem in signal processing.\n",
    "\n",
    "In our concrete example, the function\n",
    "$\\sin(2\\pi/L 2x)$ and\n",
    "and\n",
    "$0.5\\sin((2+20)\\pi/L 2x)$ were indistinguishable for the sampling rate of $N=20$\n",
    "and thus they appear as the same frequency in the Fourier transform\n",
    "with the amplitudes added.\n",
    "\n",
    "It can be shown that for signals with a maximal frequency of $p$, aliasing\n",
    "can be avoided if the sampling rate $> 2p$. This is called the\n",
    "**Nyquist frequency**.\n",
    "\n",
    "So let's increase the sampling rate to $N=2\\cdot 22+1 = 45$ and sample the signal again."
   ]
  },
  {
   "cell_type": "code",
   "execution_count": null,
   "metadata": {},
   "outputs": [],
   "source": [
    "# Sample the signal\n",
    "N = 45\n",
    "xs = np.linspace(0, L, N, endpoint=False)\n",
    "f_alias_shift = fftshift(fft(f_alias(xs)))\n",
    "freqs_shift = fftshift(fftfreq(N, d=1/N))\n",
    "\n",
    "fig = plt.figure(figsize=(8, 6))\n",
    "axs = fig.subplots(2, 1)\n",
    "axs[0].stem(freqs_shift, f_alias_shift.real, label='real')\n",
    "axs[0].set_title('Real Part')\n",
    "axs[0].legend()\n",
    "\n",
    "axs[1].stem(freqs_shift, f_alias_shift.imag, label='imag')\n",
    "axs[1].set_title('Imaginary Part')\n",
    "axs[1].legend()\n",
    "plt.tight_layout()\n"
   ]
  }
 ],
 "metadata": {
  "kernelspec": {
   "display_name": "Python 3",
   "language": "python",
   "name": "python3"
  },
  "language_info": {
   "codemirror_mode": {
    "name": "ipython",
    "version": 3
   },
   "file_extension": ".py",
   "mimetype": "text/x-python",
   "name": "python",
   "nbconvert_exporter": "python",
   "pygments_lexer": "ipython3",
   "version": "3.11.9"
  }
 },
 "nbformat": 4,
 "nbformat_minor": 2
}
