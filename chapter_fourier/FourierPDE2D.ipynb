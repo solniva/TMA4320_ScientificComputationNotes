{
 "cells": [
  {
   "cell_type": "markdown",
   "metadata": {},
   "source": [
    "## Solving PDEs with the Fourier spectral method in 2D\n",
    "\n",
    "We will discuss the Fourier spectral method for solving PDEs and focus on the 2D Poisson equation and the heat equation."
   ]
  },
  {
   "cell_type": "markdown",
   "metadata": {},
   "source": [
    "\n",
    "### Fourier techniques in 2D\n",
    "As in the one-dimensional, we can perform a Fourier expansion of the solution $u(x, y)$, where the \n",
    "Fourier coefficients in 2D are simply given by computing 1D Fourier coefficients in each direction.\n",
    "\\begin{align}\n",
    "\\hat{u}(k_x, k_y) &= \\frac{1}{L_x L_y} \\int_0^{L_x} \\int_0^{L_y} u(x, y) \n",
    "                     e^{-i 2\\pi k_x/L_x x} e^{-i2\\pi k_y/L_y y} \\;\\mathrm{d}x \\;\\mathrm{d}y \n",
    "                     \\\\\n",
    "              &= \\frac{1}{L_x L_y} \\int_0^{L_x} \\int_0^{L_y} u(x, y) \n",
    "                     e^{-i 2\\pi (k_x/L_x, k_y/L_y)\\cdot(x,y)} \\;\\mathrm{d}x \\;\\mathrm{d}y \n",
    "            \\\\\n",
    "                &= \\frac{1}{|\\Omega|} \\int_{\\Omega} u(\\mathbf{x}) \n",
    "                     e^{-i 2\\pi \\mathbf{k} \\cdot\\mathbf{x}} \\;\\mathrm{d}\\mathbf{x} \n",
    "\\end{align}\n",
    "with $\\mathbf{x} = (x, y)$ and $\\mathbf{k} = (k_x/L_x, k_y/L_y)$.\n",
    "\n",
    "Being a bit in rush :), we simply summarize here that one can basically develop many of the Fourier techniques we discussed for the 1D case\n",
    "in the 2D case, just simply applying all the relevant concepts to each spatial direction separately.\n",
    "\n",
    "For example, the formal 2D Fourier series of a function $f(x, y)$ is given by\n",
    "\\begin{align}\n",
    "u(x, y) &\\sim \\sum_{k_x = -\\infty}^{\\infty} \\sum_{k_y = -\\infty}^{\\infty} \\hat{u}(k_x, k_y) e^{i 2\\pi (k_x x/L_x + k_y y/L_y)}\n",
    "\\\\\n",
    "&= \\sum_{\\mathbf{k} \\in \\mathbb{Z}^2} \\hat{u}(\\mathbf{k}) e^{i 2\\pi \\mathbf{k} \\cdot \\mathbf{x}}\n",
    "\\end{align}\n",
    "where the 2D Fourier coefficients are defined as above.\n",
    "\n",
    "As in the 1D case, we can then derive the following identities for derivatives of periodic functions and their corresponding Fourier coefficients:\n",
    "\n",
    "\n",
    "\\begin{align}\n",
    "(\\partial_x u(x, y))^{\\wedge}(k_x, k_y) &= - i 2\\pi k_x/L_x \\widehat{f}(k_x, k_y)\n",
    "\\\\\n",
    "(\\partial_y u(x, y))^{\\wedge}(k_x, k_y) &= - i 2\\pi k_y/L_y \\widehat{f}(k_x, k_y)\n",
    "\\\\\n",
    "(\\partial_{xx} u(x, y))^{\\wedge}(k_x, k_y) &= -(2\\pi k_x/L_x)^2 \\widehat{f}(k_x, k_y)\n",
    "\\\\\n",
    "(\\partial_{yy} u(x, y))^{\\wedge}(k_x, k_y) &= -(2\\pi k_y/L_y)^2 \\widehat{f}(k_x, k_y)\n",
    "\\\\\n",
    "(\\Delta u(x, y))^{\\wedge}(k_x, k_y) &= -(2\\pi k_x/L_x)^2 \\widehat{f}(k_x, k_y) - (2\\pi k_y/L_y)^2 \\widehat{f}(k_x, k_y)\n",
    "\\end{align}\n",
    "\n",
    "Due to the appearance of the factors $2\\pi/L_x$ and $2\\pi/L_x$ it also very common to ease the notation\n",
    "by defining the wavenumber vector $\\mathbf{\\tilde{k}}$ as\n",
    "\\begin{align}\n",
    "\\mathbf{\\tilde{k}} = (\\tilde{k}_x, \\tilde{k}_y) = 2\\pi (k_x/L_x, k_y/L_y).\n",
    "\\end{align}\n",
    "This way, the Laplacian in Fourier space becomes simply\n",
    "\n",
    "$$\n",
    "(\\Delta u)^{\\wedge}(k_x, k_y) = - |\\mathbf{\\tilde{k}}|^2 \\hat{u}(\\mathbf{k}).\n",
    "$$\n",
    "\n",
    "Let's use this now to solve the Poisson equation in 2D.\n"
   ]
  },
  {
   "cell_type": "markdown",
   "metadata": {},
   "source": [
    "(ssec:fou:2dpoisson)=\n",
    "### 2D Poisson equation\n",
    "Let's consider the 2D Poisson equation is given by\n",
    "\n",
    "$$\n",
    "-\\Delta u(x,y) = -(\\partial_{xx} + \\partial_{yy}) u(x, y) = f(x, y)\n",
    "$$\n",
    "\n",
    "on a domain $\\Omega = [0, L_x) \\times [0, L_y)$ supplemented with periodic boundary conditions. \n",
    "\n",
    "To solve this equation on a continuous level, we can do a Fourier expansion of the solution $u(x, y)$ and the right-hand side $f(x, y)$, and then solve for the Fourier coefficients, exactly as you did in the 1D case back in the Matte 4K course.\n",
    "Then the Fourier coefficients of the solution are given by\n",
    "\n",
    "$$\n",
    "\\hat{u}(\\mathbf{k}) = \\frac{\\hat{f}(\\mathbf{{k}})}{|\\mathbf{\\tilde{k}}|^2}\n",
    "$$\n",
    "\n",
    "Note that this can only be done if the wavenumber vector $\\mathbf{\\tilde{k}}$ is not zero, i.e., $\\mathbf{\\tilde{k}} \\neq 0$.\n",
    "But observe that the  Fourier coefficients for $(k_x, k_y) = (0, 0)$ \n",
    "\n",
    "$$\n",
    "\\widehat{u}(\\mathbf{0}) = \\frac{1}{|\\Omega|} \\int_{\\Omega} u(x, y) \\;\\mathrm{d}x \\;\\mathrm{d}y\n",
    "$$\n",
    "\n",
    "is simply the **mean value** of the solution $u(x, y)$ over the domain $\\Omega$.\n",
    "The division by $0$ \"problem\" is directly related to the fact that there is a ambiguity in the solution of the Poisson equation, since the Laplacian of a constant (and thus periodic!) function is zero, and therefore for any solution $u$ the function $u + c$ is also a solution,\n",
    "and thus the solution is only determined up to a constant. \n",
    "To eliminate this ambiguity, the convention is to prescribe the mean value of the solution, \n",
    "for instance to  zero, i.e., by requiring  $\\int_{\\Omega} u(x, y) \\;\\mathrm{d}x \\;\\mathrm{d}y = 0$.\n",
    "This will then uniquely determine the zero mode $\\widehat{u}(\\mathbf{0})$.\n",
    "\n",
    "Note that this is not a problem if you e.g. want to solve the Poisson problem with a lower order term, i.e., if you have a Poisson equation of the form\n",
    "\n",
    "$$\n",
    "-\\Delta u + c u = f.\n",
    "$$\n",
    "\n",
    "for some constant $c>0$, since then the solution on the Fourier side is given by\n",
    "\n",
    "$$\n",
    "\\hat{u}(\\mathbf{k}) = \\frac{\\hat{f}(\\mathbf{{k}})}{(c+|\\mathbf{\\tilde{k}}|^2)}\n",
    "$$\n",
    "\n",
    "This make sense, because in this case, adding a non-zero constant function to $u$ will change the right-hand side of the Poisson equation and thus the solution is unique."
   ]
  },
  {
   "cell_type": "markdown",
   "metadata": {},
   "source": [
    "\n",
    "We will now exploit these formulas  and ideas numerically, and solve the Poisson equation numerically by using the (2 dimensional) fast fourier transform (FFT) to approximate the Fourier coefficients of the right-hand side $f(x, y)$, divide then by the norm of the wavenumber vector, and then use the inverse FFT to compute the solution $u(x, y)$. This is the so-called **Fourier spectral method**.\n",
    "Le't see how this works in the following code."
   ]
  },
  {
   "cell_type": "code",
   "execution_count": null,
   "metadata": {},
   "outputs": [],
   "source": [
    "# %matplotlib widget\n",
    "%matplotlib inline\n",
    "import numpy as np\n",
    "import matplotlib.pyplot as plt\n",
    "from scipy.fft import fft, fft2, ifft, ifft2, fftfreq, fftshift\n",
    "import pandas as pd"
   ]
  },
  {
   "cell_type": "markdown",
   "metadata": {},
   "source": [
    "First, we consider a periodic function $u(x, y)$ on the domain $\\Omega = [0, 2\\pi) \\times [0, 2\\pi)$\n",
    "for which we can easily compute the corresponding right-hand side $f(x, y)$.\n",
    "\n",
    "Let's use the following function\n",
    "\n",
    "$$\n",
    "u(x, y) = \\sin(x)\\cos(2y)\n",
    "$$\n",
    "\n",
    "We can easily compute the right-hand side $f(x, y)$ by inserting this function into the Poisson equation\n",
    "and obtaining\n",
    "\n",
    "$$\n",
    "- \\Delta u(x, y) = -(\\partial_{xx} + \\partial_{yy}) u(x, y)\n",
    "= 5\\sin(x)\\cos(2y)\n",
    "$$\n",
    "\n",
    "We could also say the the given $u$ is an eigenfunction of the Laplacian with eigenvalue $-5$.\n",
    "Let's start by plotting the function $u(x, y)$ and the right-hand side $f(x, y)$.\n",
    "\n",
    "Here, we need some constructs from the `numpy` and `matplotlib` libraries."
   ]
  },
  {
   "cell_type": "code",
   "execution_count": null,
   "metadata": {},
   "outputs": [],
   "source": [
    "# Define the domain\n",
    "Lx, Ly = 2*np.pi, 2*np.pi\n",
    "\n",
    "# Define 1d samplings for x and y directions\n",
    "# Nx, Ny = 32, 32\n",
    "Nx, Ny = 3, 4\n",
    "x = np.linspace(-Lx/2, Lx/2, Nx, endpoint=False)\n",
    "y = np.linspace(-Ly/2, Ly/2, Ny, endpoint=False)\n",
    "\n",
    "# Generate a 2d sampling grid to be evaluate functions of x and y\n",
    "X, Y = np.meshgrid(x, y)\n",
    "# X, Y = np.meshgrid(x, y, sparse=True)\n",
    "print(f\"X = {X}\")\n",
    "print(f\"Y = {Y}\")"
   ]
  },
  {
   "cell_type": "code",
   "execution_count": null,
   "metadata": {},
   "outputs": [],
   "source": [
    "# We can also define a sparse 2d sampling grid\n",
    "X, Y = np.meshgrid(x, y, sparse=True)\n",
    "print(f\"X = {X}\")\n",
    "print(f\"Y = {Y}\")"
   ]
  },
  {
   "cell_type": "markdown",
   "metadata": {},
   "source": [
    "Now that we have understood how the `meshgrid` arrays look like, let's use a finer mesh."
   ]
  },
  {
   "cell_type": "code",
   "execution_count": null,
   "metadata": {},
   "outputs": [],
   "source": [
    "Nx, Ny = 32, 32\n",
    "x = np.linspace(-Lx/2, Lx/2, Nx, endpoint=False)\n",
    "y = np.linspace(-Ly/2, Ly/2, Ny, endpoint=False)\n",
    "\n",
    "# Generate a 2d sampling grid to be evaluate functions of x and y\n",
    "X, Y = np.meshgrid(x, y, sparse=True)\n",
    "\n",
    "# Define the solution\n",
    "def u_ex(x, y):\n",
    "    return np.sin(x)*np.cos(2*y)\n",
    "\n",
    "# Evaluate the exact solution on the grid\n",
    "U_ex = u_ex(X, Y)\n",
    "\n",
    "# Plot the exact solution as surface plot\n",
    "fig = plt.figure(figsize=(8, 8))\n",
    "ax = fig.add_subplot(111, projection='3d')\n",
    "surf = ax.plot_surface(X, Y, U_ex, cmap='viridis', antialiased=True)\n",
    "fig.colorbar(surf, shrink=0.6)\n",
    "ax.set_xlabel('X')\n",
    "ax.set_ylabel('Y')\n",
    "ax.set_zlabel(r'$U_\\mathrm{ex}$')\n",
    "plt.show()\n"
   ]
  },
  {
   "cell_type": "markdown",
   "metadata": {},
   "source": [
    "Let'a also plot the right-hand side $f(x, y)$."
   ]
  },
  {
   "cell_type": "code",
   "execution_count": null,
   "metadata": {},
   "outputs": [],
   "source": [
    "# Define the solution\n",
    "def f(x, y):\n",
    "    return 5*np.sin(x)*np.cos(2*y)\n",
    "\n",
    "# Evaluate the exact solution on the grid\n",
    "F = f(X, Y)\n",
    "\n",
    "# Plot the exact solution as surface plot\n",
    "fig = plt.figure(figsize=(8, 8))\n",
    "ax = fig.add_subplot(111, projection='3d')\n",
    "surf = ax.plot_surface(X, Y, F, cmap='viridis', antialiased=True)\n",
    "fig.colorbar(surf, shrink=0.6)\n",
    "ax.set_xlabel('X')\n",
    "ax.set_ylabel('Y')\n",
    "ax.set_zlabel(r'$F$')\n",
    "plt.show()"
   ]
  },
  {
   "cell_type": "markdown",
   "metadata": {},
   "source": [
    "Now we write a tiny function consisting of basically 10 lines of which computes the solution $u(x, y)$ **on the Fourier side** by using the formula\n",
    "\n",
    "$$\n",
    "\\hat{u}(\\mathbf{k}) = \\frac{\\hat{f}(\\mathbf{{k}})}{|\\mathbf{\\tilde{k}}|^2}.\n",
    "$$\n"
   ]
  },
  {
   "cell_type": "code",
   "execution_count": null,
   "metadata": {},
   "outputs": [],
   "source": [
    "def solve_poisson(F, Lx, Ly, Nx, Ny):\n",
    " \n",
    "    # Compute the FFT of the right-hand side using the 2D FFT\n",
    "    F_hat = fft2(F)\n",
    "    \n",
    "    # Compute wave number grid\n",
    "    kx = fftfreq(Nx, d=Lx/Nx)*2*np.pi\n",
    "    ky = fftfreq(Ny, d=Ly/Ny)*2*np.pi\n",
    "    KX, KY = np.meshgrid(kx, ky, sparse=True)\n",
    "\n",
    "    # Compute the Poisson operator in Fourier space\n",
    "    K2 = KX**2 + KY**2\n",
    "    \n",
    "    # Just modified to avoid division by zero\n",
    "    # We set the zero frequency component to 0 explicitly below\n",
    "    K2[0, 0] = 1\n",
    "    \n",
    "    # Solve the Poisson equation in Fourier space\n",
    "    U_hat = F_hat / K2\n",
    "    \n",
    "    # Set the zero frequency component to zero\n",
    "    # This corresponds to setting the average value of the solution to zero\n",
    "    U_hat[0, 0] = 0\n",
    "    \n",
    "    # Compute the inverse 2D FFT to get the solution\n",
    "    return U_hat"
   ]
  },
  {
   "cell_type": "markdown",
   "metadata": {},
   "source": [
    "Let's apply this function and plot the exact solution $U_{\\mathrm{ex}}(x, y)$, the numerical solution and the error $U - U_{\\mathrm{ex}}$."
   ]
  },
  {
   "cell_type": "code",
   "execution_count": null,
   "metadata": {},
   "outputs": [],
   "source": [
    "U_hat = solve_poisson(F, Lx, Ly, Nx, Ny)\n",
    "U = ifft2(U_hat).real\n",
    "\n",
    "# Plot the solution\n",
    "fig = plt.figure(figsize=(15, 5))\n",
    "ax = fig.add_subplot(131, projection='3d')\n",
    "surf = ax.plot_surface(X, Y, U_ex, cmap='viridis', antialiased=True)\n",
    "fig.colorbar(surf, shrink=0.6)\n",
    "ax.set_xlabel('X')\n",
    "ax.set_ylabel('Y')\n",
    "ax.set_zlabel(r'$U_\\mathrm{ex}$')\n",
    "\n",
    "ax = fig.add_subplot(132, projection='3d')\n",
    "surf = ax.plot_surface(X, Y,  U, cmap='viridis')\n",
    "fig.colorbar(surf, shrink=0.6)\n",
    "ax.set_xlabel('X')\n",
    "ax.set_ylabel('Y')\n",
    "ax.set_zlabel(r'$U(X, Y)$')\n",
    "\n",
    "U_err = U - U_ex\n",
    "print(f\"Error norm: {np.linalg.norm(U_err)}\")\n",
    "ax = fig.add_subplot(133, projection='3d')\n",
    "surf = ax.plot_surface(X, Y,  U_err, cmap='viridis')\n",
    "fig.colorbar(surf, shrink=0.6)\n",
    "ax.set_xlabel('X')\n",
    "ax.set_ylabel('Y')\n",
    "ax.set_zlabel(r'$U-U_{\\mathrm{ex}}$')\n",
    "plt.show()"
   ]
  },
  {
   "cell_type": "markdown",
   "metadata": {},
   "source": [
    "Let's try a more complicated manufactured solution. Since computing the rhs is tedious and error-prone,\n",
    "we will use the sympy library to compute the rhs. We will\n",
    "pass the exact solution as string, the following function will then compute the rhs for us,\n",
    "and return the exact solution and the rhs as ```numpy``` compatible functions."
   ]
  },
  {
   "cell_type": "code",
   "execution_count": null,
   "metadata": {},
   "outputs": [],
   "source": [
    "# Exact solution and its -Laplacian\n",
    "def manufacture_solution_poisson(u_str):\n",
    "    \"\"\"\n",
    "    Generate the exact solution and its corresponding right-hand side for the Poisson equation.\n",
    "\n",
    "    This function takes a string representation of the exact solution `u(x, y)` and computes\n",
    "    its Laplacian to generate the corresponding right-hand side `f(x, y)` for the Poisson equation.\n",
    "    The function returns `u(x, y)` and `f(x, y)` as `numpy`-compatible callable functions.\n",
    "\n",
    "    Parameters:\n",
    "        u_str (str): A string representation of the exact solution `u(x, y)`.\n",
    "\n",
    "    Returns:\n",
    "        tuple: A tuple containing two functions:\n",
    "            - u (function): The exact solution `u(x, y)` as a `numpy`-compatible function.\n",
    "            - f (function): The right-hand side `f(x, y)` as a `numpy`-compatible function.\n",
    "    \"\"\"\n",
    "    import sympy as sy\n",
    "    from sympy import sin, cos, exp\n",
    "    x, y = sy.symbols('x y')\n",
    "    u_sy = eval(u_str)\n",
    "    laplace = lambda u: sy.diff(u, x, x) + sy.diff(u, y, y)\n",
    "    f_sy = -sy.simplify(laplace(u_sy))\n",
    "    print(f'u = {u_sy}')\n",
    "    print(f'f = {f_sy}')\n",
    "    u = sy.lambdify((x, y), u_str, modules='numpy')\n",
    "    f = sy.lambdify((x, y), f_sy, modules='numpy')\n",
    "    return u, f\n",
    "\n",
    "# u_ex_str = 'sin(x)*cos(2*y)'\n",
    "u_ex_str = 'exp(sin(x)) + cos(2*y)'\n",
    "u_ex, f = manufacture_solution_poisson(u_ex_str)"
   ]
  },
  {
   "cell_type": "markdown",
   "metadata": {},
   "source": [
    "Let's solve the Poisson equation with the new manufactured solution."
   ]
  },
  {
   "cell_type": "code",
   "execution_count": null,
   "metadata": {},
   "outputs": [],
   "source": [
    "# Example usage\n",
    "Lx, Ly = 2*np.pi, 2*np.pi\n",
    "# Nx, Ny = 10,10,\n",
    "Nx, Ny = 32, 32\n",
    "x = np.linspace(-Lx/2, Lx/2, Nx, endpoint=False)\n",
    "y = np.linspace(-Ly/2, Ly/2, Ny, endpoint=False)\n",
    "\n",
    "# Generate a 2d sampling grid to be evaluate functions of x and y\n",
    "X, Y = np.meshgrid(x, y, sparse=True)\n",
    "\n",
    "F = f(X, Y)\n",
    "U_hat = solve_poisson(F, Lx, Ly, Nx, Ny)\n",
    "U = ifft2(U_hat).real\n",
    "# Re-adjust solution to same mean value as exact solution\n",
    "# Only necessary for comparison with manufactured solution\n",
    "# which does not have zero mean\n",
    "U_ex = u_ex(X, Y)\n",
    "U += np.mean(U_ex)\n",
    "\n",
    "U_err = U - U_ex \n",
    "err = np.linalg.norm(U_err, np.inf)\n",
    "print(f'Error: {err}')"
   ]
  },
  {
   "cell_type": "markdown",
   "metadata": {},
   "source": [
    "And let's plot the exact solution, the numerical solution and the error."
   ]
  },
  {
   "cell_type": "code",
   "execution_count": null,
   "metadata": {},
   "outputs": [],
   "source": [
    "# Plot the solution\n",
    "fig = plt.figure(figsize=(15, 5))\n",
    "ax = fig.add_subplot(131, projection='3d')\n",
    "surf = ax.plot_surface(X, Y, U_ex, cmap='viridis', antialiased=True)\n",
    "fig.colorbar(surf, shrink=0.6)\n",
    "ax.set_xlabel('X')\n",
    "ax.set_ylabel('Y')\n",
    "ax.set_zlabel(r'$U_\\mathrm{ex}$')\n",
    "\n",
    "ax = fig.add_subplot(132, projection='3d')\n",
    "surf = ax.plot_surface(X, Y,  U, cmap='viridis')\n",
    "fig.colorbar(surf, shrink=0.6)\n",
    "ax.set_xlabel('X')\n",
    "ax.set_ylabel('Y')\n",
    "ax.set_zlabel(r'$U(X, Y)$')\n",
    "\n",
    "ax = fig.add_subplot(133, projection='3d')\n",
    "surf = ax.plot_surface(X, Y,  U_err, cmap='viridis')\n",
    "fig.colorbar(surf, shrink=0.6)\n",
    "ax.set_xlabel('X')\n",
    "ax.set_ylabel('Y')\n",
    "ax.set_zlabel(r'$U-U_{\\mathrm{ex}}$')\n",
    "plt.show()"
   ]
  },
  {
   "cell_type": "markdown",
   "metadata": {},
   "source": [
    "A last thing: Since the 3D surface plots are rather slow, there are not really suitable when visualizing solutions on fine grids or a lot of snapshots.\n",
    "You can use the `imshow_plot_u` function from our homecooked little wrapper module `project_tools` to plot the solution as a 2D image:  "
   ]
  },
  {
   "cell_type": "code",
   "execution_count": null,
   "metadata": {},
   "outputs": [],
   "source": [
    "import os\n",
    "import os.path\n",
    "import sys\n",
    "# Add path to project_tools.py to Python's search path\n",
    "project_tools_path = os.path.join(os.getcwd(), '../project_3_2025')\n",
    "if project_tools_path not in sys.path:\n",
    "    sys.path.append(project_tools_path)\n",
    "import project_tools as pot"
   ]
  },
  {
   "cell_type": "code",
   "execution_count": null,
   "metadata": {},
   "outputs": [],
   "source": [
    "pot.imshow_plot_u(U, Lx, Ly, cblabel=r'$U(X, Y)$')"
   ]
  }
 ],
 "metadata": {
  "jupytext": {
   "formats": "ipynb,md:myst"
  },
  "kernelspec": {
   "display_name": "tma4320_scientific_computation-vlMPykwy",
   "language": "python",
   "name": "python3"
  },
  "language_info": {
   "codemirror_mode": {
    "name": "ipython",
    "version": 3
   },
   "file_extension": ".py",
   "mimetype": "text/x-python",
   "name": "python",
   "nbconvert_exporter": "python",
   "pygments_lexer": "ipython3",
   "version": "3.13.2"
  }
 },
 "nbformat": 4,
 "nbformat_minor": 2
}
