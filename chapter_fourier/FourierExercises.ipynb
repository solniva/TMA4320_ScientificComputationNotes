{
 "cells": [
  {
   "cell_type": "markdown",
   "metadata": {},
   "source": [
    "## Exercises on the discrete Fourier transform"
   ]
  },
  {
   "cell_type": "markdown",
   "metadata": {},
   "source": [
    ":::{exercise} \n",
    ":label: fou:ex:parseval\n",
    "\n",
    "Consider two periodic functions $f(x)$ and $g(x)$ with period $L=2$ and their truncated Fourier series $f_N(x)$ and $g_N(x)$. \n",
    "The errors $E_N$ between each function and its trigonometric approximation can be computed using Parseval's identity,\n",
    "   \n",
    "\\begin{align*}\n",
    "    E_N = \\int_{-1}^{1} f^2(x)\\,\\mathrm{d}x - 2 \\sum_{k=-N}^N |c_k|^2\\, .\n",
    "\\end{align*}\n",
    "\n",
    "a) Let $f(x) = \\mathrm{e}^{-x}$ for $x \\in [-1,1)$ and consider its periodic extension with period $L=2$. \n",
    "   Find on the Fourier coefficients of $f(x)$, calculate the error $E_N$ for $N=2$, $4$ and $8$.\n",
    "\n",
    "b) Now, do the same for $g(x) = \\mathrm{e}^{-|x|}$.\n",
    "\n",
    "c) Why is the error so much larger when approximating $f(x)$ than in the case of $g(x)$?\n",
    "\n",
    ":::"
   ]
  },
  {
   "cell_type": "markdown",
   "metadata": {},
   "source": [
    ":::{solution} fou:ex:parseval\n",
    "\n",
    "a) \n",
    "We first find the Fourier coefficients, \n",
    "\\begin{align}\n",
    "    c_k = \\frac{1}{2}\\int_{-1}^{1} e^{-(1 + i k \\pi) x} \\, dx =  \\frac{(-1)^k  \\sinh(1)}{1+ik\\pi},\n",
    "\\end{align}\n",
    "and then integrate\n",
    "\\begin{align*}\n",
    "    \\int_{-1}^{1} f^2(x)\\mathrm{d}x =  \\int_{-1}^{1} e^{-2x} \\mathrm{d}x = \\frac{e^{2}-e^{-2}}{2} = \\sinh(2),\n",
    "\\end{align*}\n",
    "Then we get an expression for the error, \n",
    "\\begin{align*}\n",
    "    E_N = \\sinh(2) - 2 \\sum_{k=-N}^N  \\frac{\\sinh^2(1)}{(1+ik\\pi)^2} = \\sinh(2) - \\sum_{k=-N}^N \\frac{2\\sinh^2(1)}{1+k^2\\pi^2}.\n",
    "\\end{align*}\n",
    "Inserting values for N: $E_2=0.22, E_4=0.123, E_8=0.066$\n",
    "\n",
    "b) \n",
    "Now, we find the Fourier coefficients for $g(x)$\n",
    "\\begin{align*}\n",
    "    c_k &= \\frac{1}{2}\\int_{-1}^{1}\\mathrm{e}^{-|x|}\\mathrm{e}^{-ik\\pi x}\\, \\mathrm{d}x = \\frac{1}{1+k^2\\pi^2} \\left(  1 - \\mathrm{e}^{-1}  (-1)^k \\right).\n",
    "\\end{align*}\n",
    "\n",
    "As in a), we need to compute the integral of g(x) squared\n",
    "\\begin{align*}\n",
    "    \\int_{-1}^{1} g^2(x)\\mathrm{d}x =  \\int_{-1}^{1} e^{-2|x|} \\mathrm{d}x = 1-e^{-2},\n",
    "\\end{align*}\n",
    "\n",
    "\\begin{align*}\n",
    "    E_N = 1-e^{-2}   - 2\\sum_{k=-N}^N \\left( \\frac{1}{1+k^2\\pi^2} \\left(  1 - \\mathrm{e}^{-1}  (-1)^k \\right) \\right)^2.\n",
    "\\end{align*}\n",
    "\n",
    "Inserting values for N gives: $E_2=1.19e-3, E_4=2e-4, E_8=2.8e-5$\n",
    "\n",
    "c) $g(x)$ is smoother than $f(x)$ and the Fourier series for $g(x)$ are therefor a better approximation.\n",
    "\n",
    ":::"
   ]
  },
  {
   "cell_type": "markdown",
   "metadata": {},
   "source": [
    ":::{exercise} \n",
    ":label: fou:ex:dft-hand\n",
    "\n",
    "a) Use DFT (by hand) to find the coefficients $c_k$ for the trigonometric polynomial which interpolates the following datapoints \n",
    "\n",
    "| t          | 0   | 0.25 | 0.5  | 0.75 |\n",
    "|------------|-----|------|------|------|\n",
    "| Datapoint  | 1+i | i    | -1-i | -i   |\n",
    "\n",
    "b) Plot (using Python) the real and imaginary parts of corresponding interpolation polynomial $Q_k(t) = \\frac{1}{n} \\sum^{n-1}_{k=0} c_k e^{2\\pi i k t} $, together with the datapoints.\n",
    "\n",
    ":::"
   ]
  },
  {
   "cell_type": "markdown",
   "metadata": {},
   "source": [
    ":::{solution-start} fou:ex:dft-hand\n",
    ":::\n",
    "\n",
    "We have four datapoints,  and recall the definition of $ \\omega_N^{-1} = e^{-2\\pi i / n} = e^{-i\\pi/2} = -i $, use this in the Fourier matrix,\n",
    "\n",
    "\\begin{align}\n",
    "F_4 = \n",
    "\\dfrac{1}{4}\n",
    "\\begin{pmatrix}\n",
    "1 & 1 & 1 & 1 \\\\\n",
    "1 & \\omega_N^{-1} & \\omega_N^{-2} & \\omega_N^{-3} \\\\\n",
    "1 & \\omega_N^{-2} & \\omega_N^{-4} & \\omega_N^{-6} \\\\\n",
    "1 & \\omega_N^{-3} & \\omega_N^{-6} & \\omega_N^{-9} \\\\\n",
    "\\end{pmatrix}\n",
    "=\n",
    "\\dfrac{1}{4}\n",
    "\\begin{pmatrix}\n",
    "1 &  1 &  1 &  1 \\\\\n",
    "1 & -i & -1 &  i \\\\\n",
    "1 & -1 &  1 & -1 \\\\\n",
    "1 &  i & -1 & -i \\\\\n",
    "\\end{pmatrix}\n",
    "\\end{align}\n",
    "We can then multiply the matrix with the vector of datapoints and get the coefficients,\n",
    "\\begin{align}\n",
    "  c_k = \\dfrac{1}{4} F_4 D_4 = \\dfrac{1}{4}[0 , 4 + 2i, 0, 2i].\n",
    "\\end{align}"
   ]
  },
  {
   "cell_type": "code",
   "execution_count": null,
   "metadata": {},
   "outputs": [],
   "source": [
    "import numpy as np\n",
    "import matplotlib.pyplot as plt\n",
    "\n",
    "N = 4 \n",
    "datapoints = np.array([1+1j,1j,-1-1j,-1j])\n",
    "t = np.array([0,0.25,0.5,0.75])\n",
    "c_k = 1/N*np.array([0,4 + 2j,0,2j]) #found by matrix multiplication as above\n",
    "\n",
    "x = np.linspace(0,1,10000)\n",
    "\n",
    "#build the interpolation polynomial\n",
    "S_N = c_k[0]\n",
    "for i in range(1,N):\n",
    "    S_N += c_k[i]*np.exp(2j*np.pi*x*i)\n",
    "    \n",
    "\n",
    "plt.plot(x, S_N.real)\n",
    "plt.plot(t, datapoints.real,marker='o', linestyle='')\n",
    "plt.show()\n",
    "\n",
    "plt.plot(x, S_N.imag)\n",
    "plt.plot(t, datapoints.imag,marker='o', linestyle='')\n",
    "plt.show()\n",
    "\n"
   ]
  },
  {
   "cell_type": "markdown",
   "metadata": {},
   "source": [
    ":::{solution-end}\n",
    ":::"
   ]
  },
  {
   "cell_type": "markdown",
   "metadata": {},
   "source": [
    ":::{exercise}\n",
    ":label: fou:ex:dft-comp\n",
    "\n",
    "In this task we use the datapoints given in the codeblock below \n",
    "\n",
    "a) Interpolate using DFT, this time using numpy/scipy to find the coefficients. Plot the corresponding trigonometric interpolation polynomial $Q_{10}$, and check that it interpolates the datapoints.  \n",
    "\n",
    "b) Using the Euler formula, and fact that all datapoints are real-valued, we have the following formula to rewrite $Q_{10}$,\n",
    "\\begin{align*}\n",
    " P_n(t) = \\frac{1}{n} \\sum^{n-1}_{k=0} a_k \\cos(2\\pi i k t) - b_k \\sin(2\\pi i k t), \n",
    "\\end{align*}\n",
    "where $ c_k = a_k + i b_k$.  Plot $P_{10}$ and check that it is the same as $Q_{10}$. \n",
    "\n",
    "c) Try plotting \n",
    "\n",
    "\n",
    "\\begin{align*}\n",
    "\\tilde{P}_{10} = \\frac{a_0}{n} + \\frac{2}{n} \\sum^{n/2-1}_{k=0} (a_k \\cos(2\\pi i k t) - b_k \\sin(2\\pi i k t)) + \\frac{a_{n/2}}{n}\\cos(\\pi i t) \n",
    "\\end{align*} \n",
    "\n",
    "Explain why $\\tilde{P}_{10}$ also interpolates the same datapoints, with only half of the Fourier terms\n",
    "\n",
    ":::"
   ]
  },
  {
   "cell_type": "markdown",
   "metadata": {},
   "source": [
    ":::{solution-start} fou:ex:dft-comp\n",
    ":::"
   ]
  },
  {
   "cell_type": "code",
   "execution_count": null,
   "metadata": {},
   "outputs": [],
   "source": [
    "datapoints=np.array([ 1.0, 1.40680225, 1.30007351, 0.73203952, -0.06123174, -0.75, -1.03680225, -0.77007351, -0.00203952, 1.03123174])\n",
    "t = np.array([0. , 0.1, 0.2, 0.3, 0.4, 0.5, 0.6, 0.7, 0.8, 0.9])"
   ]
  },
  {
   "cell_type": "code",
   "execution_count": null,
   "metadata": {},
   "outputs": [],
   "source": [
    "N = 10\n",
    "x = np.linspace(0,1,10000)  \n",
    "dft = np.fft.fft(datapoints)\n",
    "\n",
    "Q_N = dft[0]*1/N\n",
    "for i in range(1,N):\n",
    "    Q_N += 1/(N)*dft[i]*np.exp(2j*np.pi*x*i)\n",
    "    \n",
    "\n",
    "plt.plot(x, Q_N.real,label=\"Q_10\")\n",
    "plt.plot(t, datapoints,marker='o', linestyle='')\n",
    "plt.legend()\n",
    "plt.show()"
   ]
  },
  {
   "cell_type": "code",
   "execution_count": null,
   "metadata": {},
   "outputs": [],
   "source": [
    "P_N = dft[0].real*1/N#*np.exp(x*1j*0)\n",
    "for i in range(1,N):\n",
    "    P_N += 1/(N)*(dft[i].real*np.cos(i*2*np.pi*x) - dft[i].imag*np.sin(i*2*np.pi*x))\n",
    "    \n",
    "\n",
    "plt.plot(x, P_N.real, label='P_10')\n",
    "plt.plot(x, Q_N.real,label=\"Q_10\")\n",
    "plt.legend()\n",
    "plt.show()"
   ]
  },
  {
   "cell_type": "code",
   "execution_count": null,
   "metadata": {},
   "outputs": [],
   "source": [
    "P_N2 = dft[0].real*1/N#*np.exp(x*1j*0)\n",
    "for i in range(1,int(N/2)):\n",
    "    P_N2+= 2/(N)*(dft[i].real*np.cos(i*2*np.pi*x) - dft[i].imag*np.sin(i*2*np.pi*x))\n",
    "P_N2 += 1/(N)*dft[int(N/2)].real*np.cos(N*np.pi*x)\n",
    "\n",
    "plt.plot(x, P_N2.real, label='With half')\n",
    "plt.plot(x, Q_N.real,label=\"Q_10\")\n",
    "plt.plot(t, datapoints,marker='o', linestyle='')\n",
    "#plt.plot(x, func(x).real)\n",
    "plt.legend()\n",
    "plt.show()"
   ]
  },
  {
   "cell_type": "markdown",
   "metadata": {},
   "source": [
    "If we have real-valued datapoints $x_k$, and do a DFT to get $c_k$, we have that $c_0$ is real valued, and $c_{n-k} = \\bar{c}_k$ (you can print out the dft above and check). Using also the trigonometric identities $\\cos(2(n-k)\\pi t) = \\cos(2k\\pi t), \\sin(2(n-k)\\pi t) = -\\sin(2k\\pi t) $, we will get the formula above (for an even number datapoints, a similar exists of odd number of datapoints). "
   ]
  },
  {
   "cell_type": "markdown",
   "metadata": {},
   "source": [
    ":::{solution-end}\n",
    ":::"
   ]
  }
 ],
 "metadata": {
  "kernelspec": {
   "display_name": "tma4320_scientific_computation-vlMPykwy",
   "language": "python",
   "name": "python3"
  },
  "language_info": {
   "codemirror_mode": {
    "name": "ipython",
    "version": 3
   },
   "file_extension": ".py",
   "mimetype": "text/x-python",
   "name": "python",
   "nbconvert_exporter": "python",
   "pygments_lexer": "ipython3",
   "version": "3.13.2"
  }
 },
 "nbformat": 4,
 "nbformat_minor": 4
}
