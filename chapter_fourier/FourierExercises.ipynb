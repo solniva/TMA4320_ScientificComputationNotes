{
 "cells": [
  {
   "cell_type": "markdown",
   "metadata": {},
   "source": [
    "## Exercises on the discrete Fourier transform"
   ]
  },
  {
   "cell_type": "markdown",
   "metadata": {},
   "source": [
    "Oppgave:\n",
    "\n",
    "Consider two periodic functions $f(x)$ and $g(x)$ with period $L=2$ and their truncated Fourier series $f_N(x)$ and $g_N(x)$. \n",
    "The errors $E_N$ between each function and its trigonometric approximation can be computed using Parseval's identity,\n",
    "   \n",
    "\\begin{align*}\n",
    "    E_N = \\int_{-1}^{1} f^2(x)\\,\\mathrm{d}x - 2 \\sum_{k=-N}^N |c_k|^2\\, .\n",
    "\\end{align*}\n",
    "\n",
    "a) Let $f(x) = e^{-x}$ for $x \\in [-1,1)$ and consider its periodic extension with period $L=2$. \n",
    "   Find the Fourier coefficients of $f(x)$, calculate the error $E_N$ for $N=2$, $4$ and $8$.\n",
    "\n",
    "\\begin{align*}\n",
    "c_k &= \\frac{1}{L} \\int_{-L/2}^{L/2} f(x) e^{-i2\\pi kx/L} dx \\\\\n",
    "&= \\frac{1}{2} \\int_{-1}^1 e^{-x} e^{-i\\pi k x} dx \\\\\n",
    "&= \\frac{1}{2} \\int_{-1}^1 e^{-(1 + i\\pi k)x} dx \\\\\n",
    "&= \\frac{(-1)^k  \\sinh(1)}{1+ik\\pi}\n",
    "\\end{align*}\n",
    "\n",
    "\\begin{align*}\n",
    "\\int_{-1}^{1} f^2(x) \\, dx &= \\int_{-1}^{1} e^{-2x} dx & \\\\\n",
    "&= \\left[-\\frac{e^{-2x}}{2}\\right]_{-1}^1\\\\ \n",
    "&= \\frac{e^2-e^{-2}}{2} \\\\\n",
    "&= \\sinh(2)\n",
    "\\end{align*}\n",
    "\n",
    "\\begin{align*}\n",
    "    E_N &= \\int_{-1}^{1} f^2(x)\\,\\mathrm{d}x - 2 \\sum_{k=-N}^N |c_k|^2 \\\\\n",
    "    &= \\sinh(2) - 2 \\sum_{k=-N}^N |\\frac{(-1)^k  \\sinh(1)}{1+ik\\pi}|^2\n",
    "\\end{align*}\n",
    "\n",
    "$$\n",
    "\\Rightarrow E_2 =0.22, E_4=0.123, E_8=0.066\n",
    "$$"
   ]
  },
  {
   "cell_type": "markdown",
   "metadata": {},
   "source": [
    "\n",
    "b) Now, do the same for $g(x) = \\mathrm{e}^{-|x|}$.\n",
    "\n",
    "Now, we find the Fourier coefficients for $g(x)$\n",
    "\\begin{align*}\n",
    "    c_k &= \\frac{1}{2}\\int_{-1}^{1}\\mathrm{e}^{-|x|}\\mathrm{e}^{-ik\\pi x}\\, \\mathrm{d}x = \\frac{1}{1+k^2\\pi^2} \\left(  1 - \\mathrm{e}^{-1}  (-1)^k \\right).\n",
    "\\end{align*}\n",
    "\n",
    "As in a), we need to compute the integral of g(x) squared\n",
    "\\begin{align*}\n",
    "    \\int_{-1}^{1} g^2(x)\\mathrm{d}x =  \\int_{-1}^{1} e^{-2|x|} \\mathrm{d}x = 1-e^{-2},\n",
    "\\end{align*}\n",
    "\n",
    "\\begin{align*}\n",
    "    E_N = 1-e^{-2}   - 2\\sum_{k=-N}^N \\left( \\frac{1}{1+k^2\\pi^2} \\left(  1 - \\mathrm{e}^{-1}  (-1)^k \\right) \\right)^2.\n",
    "\\end{align*}\n",
    "\n",
    "Inserting values for N gives: $E_2=1.19\\cdot 10^{-3}, E_4=2\\cdot 10^{-4}, E_8=2.8 \\cdot 10^{-5}$"
   ]
  },
  {
   "cell_type": "markdown",
   "metadata": {},
   "source": [
    "c) Why is the error so much larger when approximating $f(x)$ than in the case of $g(x)$?\n",
    "\n",
    "$g(x)$ is smoother than $f(x)$ and the Fourier series for $g(x)$ are therefore a better approximation."
   ]
  },
  {
   "cell_type": "markdown",
   "metadata": {},
   "source": [
    "Oppgave:\n",
    "\n",
    "<font color=red>\n",
    "\n",
    "a) Use DFT (by hand) to find the coefficients $c_k$ for the trigonometric polynomial which interpolates the following datapoints \n",
    "\n",
    "| t          | 0   | 0.25 | 0.5  | 0.75 |\n",
    "|------------|-----|------|------|------|\n",
    "| Datapoint  | 1+i | i    | -1-i | -i   |\n",
    "\n",
    "</font>\n",
    "\n",
    "b) Plot (using Python) the real and imaginary parts of corresponding interpolation polynomial $Q_k(t) = \\frac{1}{n} \\sum^{n-1}_{k=0} c_k e^{2\\pi i k t} $, together with the datapoints."
   ]
  },
  {
   "cell_type": "code",
   "execution_count": null,
   "metadata": {},
   "outputs": [
    {
     "ename": "AttributeError",
     "evalue": "'Figure' object has no attribute 'figsize'",
     "output_type": "error",
     "traceback": [
      "\u001b[1;31m---------------------------------------------------------------------------\u001b[0m",
      "\u001b[1;31mAttributeError\u001b[0m                            Traceback (most recent call last)",
      "Cell \u001b[1;32mIn[15], line 10\u001b[0m\n\u001b[0;32m      7\u001b[0m datapoints_imag \u001b[38;5;241m=\u001b[39m [data\u001b[38;5;241m.\u001b[39mimag \u001b[38;5;28;01mfor\u001b[39;00m data \u001b[38;5;129;01min\u001b[39;00m datapoints]\n\u001b[0;32m      9\u001b[0m fig, (ax1, ax2) \u001b[38;5;241m=\u001b[39m plt\u001b[38;5;241m.\u001b[39msubplots(\u001b[38;5;241m1\u001b[39m, \u001b[38;5;241m2\u001b[39m)\n\u001b[1;32m---> 10\u001b[0m \u001b[43mfig\u001b[49m\u001b[38;5;241;43m.\u001b[39;49m\u001b[43mfigsize\u001b[49m(\u001b[38;5;241m10\u001b[39m,\u001b[38;5;241m6\u001b[39m)\n\u001b[0;32m     11\u001b[0m ax1\u001b[38;5;241m.\u001b[39mplot(t,datapoints_real)\n\u001b[0;32m     12\u001b[0m ax2\u001b[38;5;241m.\u001b[39mplot(t,datapoints_imag)\n",
      "\u001b[1;31mAttributeError\u001b[0m: 'Figure' object has no attribute 'figsize'"
     ]
    },
    {
     "data": {
      "image/png": "[encoded data removed]",
      "text/plain": [
       "<Figure size 640x480 with 2 Axes>"
      ]
     },
     "metadata": {},
     "output_type": "display_data"
    }
   ],
   "source": [
    "import numpy as np\n",
    "import matplotlib.pyplot as plt\n",
    "\n",
    "t = [0, 0.25, 0.5, 0.75]\n",
    "datapoints = [1+1j, 1j, -1-1j, -1j]\n",
    "datapoints_real = [data.real for data in datapoints]\n",
    "datapoints_imag = [data.imag for data in datapoints]\n",
    "\n",
    "fig, (ax1, ax2) = plt.subplots(1, 2)\n",
    "fig.figsize(1)\n",
    "ax1.plot(t,datapoints_real)\n",
    "ax2.plot(t,datapoints_imag)\n",
    "plt.show()"
   ]
  },
  {
   "cell_type": "markdown",
   "metadata": {},
   "source": [
    ":::{solution-start} fou:ex:dft-hand\n",
    ":::\n",
    "\n",
    "We have four datapoints,  and recall the definition of $ \\omega_N^{-1} = e^{-2\\pi i / n} = e^{-i\\pi/2} = -i $, use this in the Fourier matrix,\n",
    "\n",
    "\\begin{align}\n",
    "F_4 = \n",
    "\\dfrac{1}{4}\n",
    "\\begin{pmatrix}\n",
    "1 & 1 & 1 & 1 \\\\\n",
    "1 & \\omega_N^{-1} & \\omega_N^{-2} & \\omega_N^{-3} \\\\\n",
    "1 & \\omega_N^{-2} & \\omega_N^{-4} & \\omega_N^{-6} \\\\\n",
    "1 & \\omega_N^{-3} & \\omega_N^{-6} & \\omega_N^{-9} \\\\\n",
    "\\end{pmatrix}\n",
    "=\n",
    "\\dfrac{1}{4}\n",
    "\\begin{pmatrix}\n",
    "1 &  1 &  1 &  1 \\\\\n",
    "1 & -i & -1 &  i \\\\\n",
    "1 & -1 &  1 & -1 \\\\\n",
    "1 &  i & -1 & -i \\\\\n",
    "\\end{pmatrix}\n",
    "\\end{align}\n",
    "We can then multiply the matrix with the vector of datapoints and get the coefficients,\n",
    "\\begin{align}\n",
    "  c_k = \\dfrac{1}{4} F_4 D_4 = \\dfrac{1}{4}[0 , 4 + 2i, 0, 2i].\n",
    "\\end{align}"
   ]
  },
  {
   "cell_type": "code",
   "execution_count": null,
   "metadata": {},
   "outputs": [],
   "source": [
    "import numpy as np\n",
    "import matplotlib.pyplot as plt\n",
    "\n",
    "N = 4 \n",
    "datapoints = np.array([1+1j,1j,-1-1j,-1j])\n",
    "t = np.array([0,0.25,0.5,0.75])\n",
    "c_k = 1/N*np.array([0,4 + 2j,0,2j]) #found by matrix multiplication as above\n",
    "\n",
    "x = np.linspace(0,1,10000)\n",
    "\n",
    "#build the interpolation polynomial\n",
    "S_N = c_k[0]\n",
    "for i in range(1,N):\n",
    "    S_N += c_k[i]*np.exp(2j*np.pi*x*i)\n",
    "    \n",
    "\n",
    "plt.plot(x, S_N.real)\n",
    "plt.plot(t, datapoints.real,marker='o', linestyle='')\n",
    "plt.show()\n",
    "\n",
    "plt.plot(x, S_N.imag)\n",
    "plt.plot(t, datapoints.imag,marker='o', linestyle='')\n",
    "plt.show()\n",
    "\n"
   ]
  },
  {
   "cell_type": "markdown",
   "metadata": {},
   "source": [
    ":::{exercise}\n",
    ":label: fou:ex:dft-comp\n",
    "\n",
    "In this task we use the datapoints given in the codeblock below \n",
    "\n",
    "a) Interpolate using DFT, this time using numpy/scipy to find the coefficients. Plot the corresponding trigonometric interpolation polynomial $Q_{10}$, and check that it interpolates the datapoints.  \n",
    "\n",
    "b) Using the Euler formula, and fact that all datapoints are real-valued, we have the following formula to rewrite $Q_{10}$,\n",
    "\\begin{align*}\n",
    " P_n(t) = \\frac{1}{n} \\sum^{n-1}_{k=0} a_k \\cos(2\\pi i k t) - b_k \\sin(2\\pi i k t), \n",
    "\\end{align*}\n",
    "where $ c_k = a_k + i b_k$.  Plot $P_{10}$ and check that it is the same as $Q_{10}$. \n",
    "\n",
    "c) Try plotting \n",
    "\n",
    "\n",
    "\\begin{align*}\n",
    "\\tilde{P}_{10} = \\frac{a_0}{n} + \\frac{2}{n} \\sum^{n/2-1}_{k=0} (a_k \\cos(2\\pi i k t) - b_k \\sin(2\\pi i k t)) + \\frac{a_{n/2}}{n}\\cos(\\pi i t) \n",
    "\\end{align*} \n",
    "\n",
    "Explain why $\\tilde{P}_{10}$ also interpolates the same datapoints, with only half of the Fourier terms\n",
    "\n",
    ":::"
   ]
  },
  {
   "cell_type": "markdown",
   "metadata": {},
   "source": [
    ":::{solution-start} fou:ex:dft-comp\n",
    ":::"
   ]
  },
  {
   "cell_type": "code",
   "execution_count": null,
   "metadata": {},
   "outputs": [],
   "source": [
    "datapoints=np.array([ 1.0, 1.40680225, 1.30007351, 0.73203952, -0.06123174, -0.75, -1.03680225, -0.77007351, -0.00203952, 1.03123174])\n",
    "t = np.array([0. , 0.1, 0.2, 0.3, 0.4, 0.5, 0.6, 0.7, 0.8, 0.9])"
   ]
  },
  {
   "cell_type": "code",
   "execution_count": null,
   "metadata": {},
   "outputs": [],
   "source": [
    "N = 10\n",
    "x = np.linspace(0,1,10000)  \n",
    "dft = np.fft.fft(datapoints)\n",
    "\n",
    "Q_N = dft[0]*1/N\n",
    "for i in range(1,N):\n",
    "    Q_N += 1/(N)*dft[i]*np.exp(2j*np.pi*x*i)\n",
    "    \n",
    "\n",
    "plt.plot(x, Q_N.real,label=\"Q_10\")\n",
    "plt.plot(t, datapoints,marker='o', linestyle='')\n",
    "plt.legend()\n",
    "plt.show()"
   ]
  },
  {
   "cell_type": "code",
   "execution_count": null,
   "metadata": {},
   "outputs": [],
   "source": [
    "P_N = dft[0].real*1/N#*np.exp(x*1j*0)\n",
    "for i in range(1,N):\n",
    "    P_N += 1/(N)*(dft[i].real*np.cos(i*2*np.pi*x) - dft[i].imag*np.sin(i*2*np.pi*x))\n",
    "    \n",
    "\n",
    "plt.plot(x, P_N.real, label='P_10')\n",
    "plt.plot(x, Q_N.real,label=\"Q_10\")\n",
    "plt.legend()\n",
    "plt.show()"
   ]
  },
  {
   "cell_type": "code",
   "execution_count": null,
   "metadata": {},
   "outputs": [],
   "source": [
    "P_N2 = dft[0].real*1/N#*np.exp(x*1j*0)\n",
    "for i in range(1,int(N/2)):\n",
    "    P_N2+= 2/(N)*(dft[i].real*np.cos(i*2*np.pi*x) - dft[i].imag*np.sin(i*2*np.pi*x))\n",
    "P_N2 += 1/(N)*dft[int(N/2)].real*np.cos(N*np.pi*x)\n",
    "\n",
    "plt.plot(x, P_N2.real, label='With half')\n",
    "plt.plot(x, Q_N.real,label=\"Q_10\")\n",
    "plt.plot(t, datapoints,marker='o', linestyle='')\n",
    "#plt.plot(x, func(x).real)\n",
    "plt.legend()\n",
    "plt.show()"
   ]
  },
  {
   "cell_type": "markdown",
   "metadata": {},
   "source": [
    "If we have real-valued datapoints $x_k$, and do a DFT to get $c_k$, we have that $c_0$ is real valued, and $c_{n-k} = \\bar{c}_k$ (you can print out the dft above and check). Using also the trigonometric identities $\\cos(2(n-k)\\pi t) = \\cos(2k\\pi t), \\sin(2(n-k)\\pi t) = -\\sin(2k\\pi t) $, we will get the formula above (for an even number datapoints, a similar exists of odd number of datapoints). "
   ]
  },
  {
   "cell_type": "markdown",
   "metadata": {},
   "source": [
    ":::{solution-end}\n",
    ":::"
   ]
  }
 ],
 "metadata": {
  "kernelspec": {
   "display_name": "Python 3",
   "language": "python",
   "name": "python3"
  },
  "language_info": {
   "codemirror_mode": {
    "name": "ipython",
    "version": 3
   },
   "file_extension": ".py",
   "mimetype": "text/x-python",
   "name": "python",
   "nbconvert_exporter": "python",
   "pygments_lexer": "ipython3",
   "version": "3.11.9"
  }
 },
 "nbformat": 4,
 "nbformat_minor": 4
}
