{
 "cells": [
  {
   "cell_type": "markdown",
   "metadata": {},
   "source": [
    "# The Discrete Fourier Transform and its applications"
   ]
  },
  {
   "cell_type": "markdown",
   "metadata": {},
   "source": [
    "## Motivation\n",
    "\n",
    "The discrete Fourier transform and its efficient implementation in form of the \n",
    "so-called [Fast Fourier Transform](https://en.wikipedia.org/wiki/Fast_Fourier_transform)\n",
    "is considered to be among the \n",
    "*[top 10 most important algorithms](https://nhigham.com/2016/03/29/the-top-10-algorithms-in-applied-mathematics)* in applied mathematics."
   ]
  },
  {
   "cell_type": "markdown",
   "metadata": {},
   "source": [
    "In this module we will have its foundation and briefly discuss applications to topics\n",
    "such a signal analysis, image processing/denoising, \n",
    "and the solution of partial differential equations. "
   ]
  },
  {
   "cell_type": "markdown",
   "metadata": {},
   "source": [
    "![Electrocardiogramm](Ecg_example.jpg)\n",
    "**Example of an (healthy) electrocardiagraphy.**"
   ]
  },
  {
   "cell_type": "markdown",
   "metadata": {},
   "source": [
    "![Moonlanding](moonlanding_noise.png)\n",
    "**Famous noisy image of the moon landing.**"
   ]
  },
  {
   "cell_type": "markdown",
   "metadata": {},
   "source": [
    "![Cahn-Hilliard](pde-cahn-hilliard.png)\n",
    "**Snapshot of the Cahn-Hilliard equation modeling phase separation.**"
   ]
  },
  {
   "cell_type": "markdown",
   "metadata": {},
   "source": [
    "## Preliminaries\n",
    "\n",
    "First we recall some fundamental concepts, ideas and identities from  [Matte 4K](https://wiki.math.ntnu.no/tma4120/2024h/tempoplan), see in particular\n",
    "week 35 - week 38. "
   ]
  },
  {
   "cell_type": "markdown",
   "metadata": {},
   "source": [
    "### Complex numbers\n",
    "\n",
    "[Complex numbers] \n",
    ": $z = a + bi$ where $a$ and $b$ are real numbers and $i = \\sqrt{-1}$ is the imaginary unit.\n",
    "We write $\\Re(z) = a$ and $\\Im(z) = b$ for the real and imaginary part of $z$.\n",
    " \n",
    "[Complex conjugate] \n",
    ": of $z$ is $\\bar{z} = a - bi$.\n",
    "\n",
    "[Euler's formula] \n",
    ": $e^{i\\theta} = \\cos \\theta + i\\sin\\theta$.\n",
    "\n",
    "[Polar form] \n",
    ": $z = x + iy = r e^{i\\theta}$ where $r = |z| = \\sqrt{x^2+y^2}$ is the **magnitude** and $\\theta = \\arg z = \\arctan(y/x)$\n",
    "is the  **argument** or **phase**.\n",
    "\n",
    "[n-th roots of unity]\n",
    ": For given $n$, the $N$-th roots of unity are the solutions to the equation $z^n = 1$. There are $n$ distinct roots which are given by\n",
    "$$\n",
    "\\omega_N^k = e^{2\\pi i k/N} \\quad \\text{for } k = 0, 1, \\ldots, N-1.\n",
    "$$ (four:eq:unityroots)\n",
    "\n",
    ":::{prf:observation}\n",
    "We have the following easily verifiable properties of the roots of unity for $k,l \\in \\mathbb{Z}$:\n",
    "$$\n",
    "(\\omega_N^{k})^l = \\omega_N^{lk} = (\\omega_N^l)^k, \n",
    "\\qquad \n",
    "\\omega_N^{k+l} = \\omega_N^k\\omega_N^l,\n",
    "\\qquad\n",
    "\\overline{\\omega_N^k} = \\omega_N^{-k},\n",
    "\\qquad \n",
    "\\omega_N^{k+N} = \\omega_N^k.\n",
    "$$\n",
    ":::"
   ]
  },
  {
   "cell_type": "code",
   "execution_count": null,
   "metadata": {
    "editable": true,
    "slideshow": {
     "slide_type": ""
    },
    "tags": [
     "hide-input"
    ]
   },
   "outputs": [],
   "source": [
    "import matplotlib.pyplot as plt\n",
    "import numpy as np\n",
    "\n",
    "def plot_complex_unity_roots(n):\n",
    "    # Calculate the roots\n",
    "    roots = [np.exp(2j * np.pi * k / n) for k in range(n)]\n",
    "    \n",
    "    # Extract real and imaginary parts\n",
    "    real_parts = [root.real for root in roots]\n",
    "    imag_parts = [root.imag for root in roots]\n",
    "    \n",
    "    # Plot the unit circle\n",
    "    circle = plt.Circle((0, 0), 1, color='black', fill=False, linestyle='-', linewidth=2)\n",
    "    \n",
    "    fig, ax = plt.subplots()\n",
    "    ax.add_artist(circle)\n",
    "    \n",
    "    # Plot the roots\n",
    "    ax.scatter(real_parts, imag_parts, color='red')\n",
    "    \n",
    "    # Add grid\n",
    "    ax.grid(True)\n",
    "    \n",
    "    # Add labels to the roots\n",
    "    for k, (real, imag) in enumerate(zip(real_parts, imag_parts)):\n",
    "        # Draw a line from the origin to the root\n",
    "        ax.plot([0, real], [0, imag], color='blue', linestyle='--')\n",
    "        label = f'$e^{{2\\\\pi i {k}/{n}}}$'\n",
    "        # Move the label just outside the circle\n",
    "        ax.text(real * 1.25, imag * 1.25, label, fontsize=12, ha='center', va='center')\n",
    "    \n",
    "    # Set equal aspect ratio\n",
    "    ax.set_aspect('equal')\n",
    "    \n",
    "    # Set limits\n",
    "    ax.set_xlim(-1.5, 1.5)\n",
    "    ax.set_ylim(-1.5, 1.5)\n",
    "    \n",
    "    # Add labels\n",
    "    ax.set_xlabel('Real Part')\n",
    "    ax.set_ylabel('Imaginary Part')\n",
    "    ax.set_title(f'The {n} complex unity roots on the unit circle')\n",
    "    \n",
    "    plt.show()\n",
    "\n",
    "# Example usage\n",
    "plot_complex_unity_roots(7)"
   ]
  },
  {
   "cell_type": "code",
   "execution_count": null,
   "metadata": {},
   "outputs": [],
   "source": [
    "# TODO: Present operation of complex numbers in Python\n",
    "z1 = complex(1,2)\n",
    "print(z1)\n",
    "z2 = 1 + 2j\n",
    "print(z2)"
   ]
  },
  {
   "cell_type": "markdown",
   "metadata": {},
   "source": [
    "### Complex inner product spaces and orthogonal systems\n",
    "\n",
    ":::{prf:definition} Complex inner product space\n",
    ":labeled: fou:def:inner\n",
    "\n",
    "Let  $V$ be a complex vector space. An inner product on $V$ is a function $\\langle \\cdot, \\cdot \\rangle : V \\times V \\to \\mathbb{C}$ that satisfies the following properties for all $f,g,h \\in V$ and all $\\alpha,\\beta \\in \\mathbb{C}$:\n",
    "\n",
    "1. **Linearity in the first argument:**\n",
    "$$\n",
    "\\langle \\alpha f + \\beta g, h \\rangle = \\alpha \\langle f,h \\rangle + \\beta \\langle g,h \\rangle.\n",
    "$$\n",
    "\n",
    "2. **Conjugate symmetry:**\n",
    "$$\n",
    "\\langle f,g \\rangle = \\overline{\\langle g,f \\rangle}.\n",
    "$$\n",
    "\n",
    "3. **Positive definiteness:**\n",
    "$$\n",
    "\\langle f,f \\rangle \\geq 0,\n",
    "$$\n",
    "with equality if and only if $f = 0$.\n",
    "\n",
    "As with all inner product spaces, a norm by\n",
    "\n",
    "$$\n",
    "\\|f\\| = \\sqrt{\\langle f,f \\rangle}.\n",
    "$$ (fou:eq:def:norm)\n",
    "\n",
    "and we have the Cauchy-Schwarz inequality\n",
    "\n",
    "$$\n",
    "|\\langle f,g \\rangle| \\leqslant \\|f\\| \\|g\\|.\n",
    "$$ (fou:eq:cauchy)\n",
    "\n",
    ":::\n",
    "\n",
    "For an inner product space, the Cauchy-Schwarz inequality holds\n",
    "$$ \n",
    "|\\langle f,g \\rangle| \\leqslant \\|f\\| \\|g\\| \n",
    "$$\n",
    "and equality holds if and only if $f$ and $g$ are linearly dependent.\n",
    "\n",
    ":::{prf:definition} Orthogonal system\n",
    ":labeled: fou:def:ortho-syst \n",
    "\n",
    "A sequences/family $\\{\\phi_n\\}_{n\\in \\mathbb{N}}$ of non-zero vectors $\\phi_n$ in a complex inner product space $V$ is said to be **orthogonal** if \n",
    "$$\n",
    "\\langle \\phi_n, \\phi_m \\rangle = 0, \\quad n \\neq m.\n",
    "$$\n",
    "\n",
    "If in addition $\\|\\phi_n\\| = 1$ for all $n$, then the system is said to be **orthonormal**.\n",
    "\n",
    ":::"
   ]
  },
  {
   "cell_type": "markdown",
   "metadata": {},
   "source": [
    "For a given interval $[a,b]$, we define the set of square-integrable, possibly complex-valued function $L^2(I)$ by \n",
    "\n",
    "$$\n",
    "L^2(I) = \\left\\{ f: I \\to \\mathbb{C} \\mid \\int_I |f(x)|^2 dx < \\infty \\right\\}.\n",
    "$$ (fou:eq:def:L2)\n",
    "\n",
    "Here, the interval $I$ can be either finite, semi-infinite or infinite, i.e., the end point choices $a = -\\infty$ and/or $b=\\infty$ are allowed.\n",
    "\n",
    "For $f,g \\in L^2(I)$, an inner product is defined by\n",
    "\n",
    "$$\n",
    "\\langle f,g \\rangle = \\int_I f(x) \\bar{g}(x) dx.\n",
    "$$ (fou:eq:def:inner)\n",
    "\n",
    "From hereon, we think of $L^2(I)$ as a inner product space equipped with the inner product defined by {eq}`fou:eq:def:inner`."
   ]
  },
  {
   "cell_type": "markdown",
   "metadata": {},
   "source": [
    "Set $[a,b] = [-\\pi, \\pi]$. We have the following orthogonal systems in $L^2([-\\pi,\\pi])$.\n",
    "\n",
    ":::{prf:example}  \n",
    ":label: four:exa:ortho-complex\n",
    "\n",
    "The set of functions $\\{e^{inx}\\}_{n \\in \\mathbb{Z}}$ is an orthogonal system in $L^2([-\\pi,\\pi])$.\n",
    "Correspondingly, the set $\\{e^{inx}/\\sqrt{2\\pi}\\}_{n \\in \\mathbb{Z}}$ is an orthonormal system in $L^2([-\\pi,\\pi])$.\n",
    "\n",
    "The set of functions \n",
    "\n",
    "$$\n",
    "\\{e^{inx}\\}_{n \\in \\mathbb{Z}} \\quad \\text{and} \\quad \\{e^{inx}/\\sqrt{2\\pi}\\}_{n \\in \\mathbb{Z}}\n",
    "$$ are orthogonal and orthonormal system in $L^2([-\\pi,\\pi])$, respectively.\n",
    "\n",
    ":::"
   ]
  },
  {
   "cell_type": "markdown",
   "metadata": {},
   "source": [
    ":::{prf:example}  \n",
    ":label: four:exa:ortho-real\n",
    "\n",
    "The set of functions \n",
    "$$\n",
    "\\{1\\} \\cup \\{\\cos(nx)\\}_{n=1}^\\infty \\cup \\{\\sin(nx)\\}_{n=1}^\\infty \\quad \\text{and} \\quad \\{1/\\sqrt{2\\pi}\\} \\cup \\{\\cos(nx)/\\sqrt{\\pi}\\}_{n=1}^\\infty \\cup \\{\\sin(nx)/\\sqrt{\\pi}\\}_{n=1}^\\infty\n",
    "$$ \n",
    "are orthogonal and orthonormal systems in $L^2([-\\pi,\\pi])$, respectively.\n",
    "\n",
    ":::"
   ]
  },
  {
   "cell_type": "markdown",
   "metadata": {},
   "source": [
    "## Fouries series\n",
    "\n",
    "Let's consider a periodic function $f(x)$ with period $2\\pi$, i.e., $f(x+2\\pi) = f(x)$ for all $x$.\n",
    "Then the formal **complex** Fourier series of $f(x)$ is given by\n",
    "\n",
    "$$\n",
    "f(x) = \\sum_{k=-\\infty}^{\\infty} c_k e^{i k x}\n",
    "$$ (fou:eq:fourier-series)\n",
    "\n",
    "where $\\{c_k\\}_{k\\in\\mathbb{Z}}$ are the Fourier coefficients given by\n",
    "\n",
    "$$\n",
    "c_k = \\frac{1}{2\\pi} \\int_{-\\pi}^{\\pi} f(x) e^{-i k x} \\, d\\mathrm{x}\n",
    "$$ (fou:eq:fourier-coeff)"
   ]
  },
  {
   "cell_type": "markdown",
   "metadata": {},
   "source": [
    "We denote by $S_N(f,x)$ the $N$-th partial sum of the Fourier series of $f(x)$, i.e.,\n",
    "\n",
    "$$\n",
    "S_N(f,x) = \\sum_{k=-N}^{N} c_k e^{i k x}.\n",
    "$$ (fou:eq:fourier-partial)"
   ]
  },
  {
   "cell_type": "markdown",
   "metadata": {},
   "source": [
    "We recall that $S_N(f,x)$ can we rewritten in terms of $\\sin$ and $\\cos$ functions:\n",
    "\n",
    "$$\n",
    "\\sum_{k=-n}^{n} c_k e^{i k x} = \\dfrac{a_0}{2} + \\sum_{k=1}^{N} a_k \\cos(kx) + b_k \\sin(kx),\n",
    "$$ (fou:eq:fourier-partial-real)\n",
    "\n",
    "where   \n",
    "\n",
    "$$ \n",
    "a_0 = 2 c_0, \\quad a_k = c_k + c_{-k}, \\quad b_k = i(c_k - c_{-k}).\n",
    "$$"
   ]
  },
  {
   "cell_type": "markdown",
   "metadata": {},
   "source": [
    "We set $L^2_p([-\\pi,\\pi])$ to be the set of periodic functions with period $2\\pi$ \n",
    "which are square-integrable over some (and thus any) interval $[a, a+2\\pi]$ of length $2\\pi$."
   ]
  }
 ],
 "metadata": {
  "jupytext": {
   "formats": "ipynb,md:myst"
  },
  "kernelspec": {
   "display_name": "tma4320_scientific_computation-vlMPykwy",
   "language": "python",
   "name": "python3"
  },
  "language_info": {
   "codemirror_mode": {
    "name": "ipython",
    "version": 3
   },
   "file_extension": ".py",
   "mimetype": "text/x-python",
   "name": "python",
   "nbconvert_exporter": "python",
   "pygments_lexer": "ipython3",
   "version": "3.13.2"
  }
 },
 "nbformat": 4,
 "nbformat_minor": 4
}
