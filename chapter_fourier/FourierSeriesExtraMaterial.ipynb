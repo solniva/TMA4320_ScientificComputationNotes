{
 "cells": [
  {
   "cell_type": "markdown",
   "metadata": {
    "editable": true,
    "slideshow": {
     "slide_type": "slide"
    },
    "tags": []
   },
   "source": [
    "# Fourier series: supplemental material"
   ]
  },
  {
   "cell_type": "markdown",
   "metadata": {
    "editable": true,
    "slideshow": {
     "slide_type": "slide"
    },
    "tags": []
   },
   "source": [
    "We need some boilerplate code for arrays, plotting and nice widgets."
   ]
  },
  {
   "cell_type": "code",
   "execution_count": null,
   "metadata": {
    "editable": true,
    "slideshow": {
     "slide_type": "fragment"
    },
    "tags": []
   },
   "outputs": [],
   "source": [
    "import numpy as np \n",
    "import matplotlib.pyplot as plt\n",
    "import ipywidgets as widgets\n",
    "from ipywidgets import interact"
   ]
  },
  {
   "cell_type": "code",
   "execution_count": null,
   "metadata": {
    "editable": true,
    "slideshow": {
     "slide_type": "fragment"
    },
    "tags": []
   },
   "outputs": [],
   "source": [
    "%matplotlib inline\n",
    "# %matplotlib widget\n",
    "\n",
    "plt.rcParams['figure.figsize'] = [10, 5]"
   ]
  },
  {
   "cell_type": "markdown",
   "metadata": {
    "editable": true,
    "slideshow": {
     "slide_type": "slide"
    },
    "tags": []
   },
   "source": [
    "## Examples of Fourier series\n",
    "\n",
    "First we define some plotting functions which will visualize\n",
    "the $N$-th partial sum for a given function $f$. The examples below show how to use it."
   ]
  },
  {
   "cell_type": "code",
   "execution_count": null,
   "metadata": {
    "editable": true,
    "slideshow": {
     "slide_type": "fragment"
    },
    "tags": []
   },
   "outputs": [],
   "source": [
    "def plot_partial_sum(f, x, S_N, N, title=\"\"):\n",
    "    y = f(x)\n",
    "    s_N = S_N(x, N)\n",
    "    plt.figure()\n",
    "    plt.plot(x, y, label=\"$f$\")\n",
    "    plt.plot(x, s_N, label=\"$S_N$\")\n",
    "    plt.title(title)\n",
    "    plt.legend()\n",
    "    plt.xlabel(\"x\")\n",
    "    plt.ylabel(\"$S_N(x)$\")\n",
    "    plt.show()"
   ]
  },
  {
   "cell_type": "markdown",
   "metadata": {
    "editable": true,
    "slideshow": {
     "slide_type": "slide"
    },
    "tags": []
   },
   "source": [
    "### Example 1: $f(x) = |x|$\n",
    "\n",
    "In Assignment 3, you will show that $N$-th partial sum of the trigonometric series for the function\n",
    "$f(x) = |x|$ is \n",
    "\n",
    "$$\n",
    "S_N(f)(x)\n",
    "=\n",
    "\\dfrac{\\pi}{2}\n",
    "+\\sum_{n=1}^N \\dfrac{2}{\\pi n^2}\n",
    "\\left(\n",
    "-1 + (-1)^n\n",
    "\\right)\n",
    "\\cos(nx)\n",
    "$$"
   ]
  },
  {
   "cell_type": "code",
   "execution_count": null,
   "metadata": {
    "editable": true,
    "slideshow": {
     "slide_type": "slide"
    },
    "tags": []
   },
   "outputs": [],
   "source": [
    "x1 = np.linspace(-1.0*np.pi, 1.0*np.pi, 1000) # Interval\n",
    "f1 = lambda  x : np.abs(x)  # Define f\n",
    "\n",
    "# Define partial sum\n",
    "def S_N_ex1(x, N):\n",
    "    s = np.pi/2.*np.ones_like(x)\n",
    "    for n in range(1,N+1):\n",
    "        s += 2/(np.pi * n**2)*(-1 + (-1)**n)*np.cos(n*x)\n",
    "    return s\n",
    "\n",
    "title = \"$f(x) = |x|$\"\n",
    "\n",
    "# Define a helper function\n",
    "pps = lambda N: plot_partial_sum(f1, x1, S_N_ex1, N, title)"
   ]
  },
  {
   "cell_type": "code",
   "execution_count": null,
   "metadata": {
    "editable": true,
    "slideshow": {
     "slide_type": "slide"
    },
    "tags": []
   },
   "outputs": [],
   "source": [
    "slider = widgets.IntSlider(min = 0,\n",
    "                           max = 20,\n",
    "                           step = 1,\n",
    "                           description=\"Order N\",\n",
    "                           value = 0)\n",
    "interact(pps, N=slider)"
   ]
  },
  {
   "cell_type": "markdown",
   "metadata": {
    "editable": true,
    "slideshow": {
     "slide_type": "slide"
    },
    "tags": []
   },
   "source": [
    "### Example 2: $f(x) = x$\n",
    "\n",
    "In Assignment 3, you will show that $N$-th partial sum of the trigonometric series for the function\n",
    "$f(x) = x$ is\n",
    "\n",
    "$$\n",
    "S_N(f)(x)\n",
    "=\n",
    "\\sum_{n=1}^N \\dfrac{2}{n}\n",
    "(-1)^{n+1}\n",
    "\\sin(nx)\n",
    "$$"
   ]
  },
  {
   "cell_type": "code",
   "execution_count": null,
   "metadata": {
    "editable": true,
    "slideshow": {
     "slide_type": "slide"
    },
    "tags": []
   },
   "outputs": [],
   "source": [
    "# Interval\n",
    "x2 = np.linspace(-3*np.pi, 3*np.pi, 1000)\n",
    "\n",
    "# Define f\n",
    "f2 = lambda  x : np.piecewise(x, \n",
    "                             [abs(x + 2*np.pi) < np.pi,\n",
    "                              abs(x) < np.pi,\n",
    "                              abs(x - 2*np.pi) < np.pi],\n",
    "                             [lambda x: x + 2*np.pi, \n",
    "                              lambda x: x,\n",
    "                              lambda x: x - 2*np.pi])\n",
    "\n",
    "\n",
    "# Define partial sum\n",
    "def S_N_ex2(x, N):\n",
    "    s = np.pi/2.*np.zeros_like(x)\n",
    "    for n in range(1,N+1):\n",
    "        s += 2./n*(-1)**(n+1)*np.sin(n*x)\n",
    "    return s\n",
    "\n",
    "title = \"$f(x) = x$\"\n",
    "\n",
    "# Define a helper function\n",
    "pps2 = lambda N: plot_partial_sum(f2, x2, S_N_ex2, N, title)"
   ]
  },
  {
   "cell_type": "code",
   "execution_count": null,
   "metadata": {
    "editable": true,
    "slideshow": {
     "slide_type": "slide"
    },
    "tags": []
   },
   "outputs": [],
   "source": [
    "slider2 = widgets.IntSlider(min = 0,\n",
    "                           max = 20,\n",
    "                           step = 1,\n",
    "                           description=\"Order N\",\n",
    "                           value = 0)\n",
    "interact(pps2, N=slider2)"
   ]
  },
  {
   "cell_type": "markdown",
   "metadata": {
    "editable": true,
    "slideshow": {
     "slide_type": "slide"
    },
    "tags": []
   },
   "source": [
    "### Example 3\n",
    "The function $f$ is given \n",
    "\\begin{equation*}\n",
    "f(x) = \n",
    "\\left\\{\n",
    "\\begin{array}{rl}\n",
    " 1 &\\text{ if } 0 < x < \\pi, \\\\\n",
    "-1 &\\text{ if } -\\pi < x < 0\n",
    "\\end{array}\n",
    "\\right.\n",
    "\\end{equation*}\n",
    "\n",
    "It Fourier series is\n",
    "\\begin{equation*}\n",
    "f \\sim\n",
    "\\sum_{n=1}^\\infty \\dfrac{2}{\\pi n}\n",
    "\\left(\n",
    "1 + (-1)^{n+1}\n",
    "\\right)\n",
    "\\sin(nx)\n",
    "\\end{equation*}"
   ]
  },
  {
   "cell_type": "code",
   "execution_count": null,
   "metadata": {
    "editable": true,
    "slideshow": {
     "slide_type": "slide"
    },
    "tags": []
   },
   "outputs": [],
   "source": [
    "# Interval\n",
    "x3 = np.linspace(-3*np.pi, 3*np.pi, 1000)\n",
    "\n",
    "from numpy import heaviside as u\n",
    "from numpy import pi\n",
    "\n",
    "# Define f\n",
    "f3 = lambda x :  -1*u(x+3*pi,0)+2*u(x+2*pi,0) -2*u(x+pi,0)+ 2*u(x,0) - 2*u(x-pi,0) + 2*u(x-2*pi,0)\n",
    "\n",
    "# Define partial sum\n",
    "def S_N_ex3(x, N):\n",
    "    s = np.pi/2.*np.zeros_like(x)\n",
    "    for n in range(1,N+1):\n",
    "        s += 2./(np.pi*n)*(1 + (-1)**(n+1))*np.sin(n*x)\n",
    "    return s\n",
    "\n",
    "title = r\"$f(x)=-\\chi_{(-\\pi,0)} + \\chi_{(0,\\pi)}$\"\n",
    "\n",
    "# Define a helper function\n",
    "pps3 = lambda N: plot_partial_sum(f3, x3, S_N_ex3, N, title)"
   ]
  },
  {
   "cell_type": "code",
   "execution_count": null,
   "metadata": {
    "editable": true,
    "slideshow": {
     "slide_type": "slide"
    },
    "tags": []
   },
   "outputs": [],
   "source": [
    "slider3 = widgets.IntSlider(min = 0,\n",
    "                           max = 20,\n",
    "                           step = 1,\n",
    "                           description=\"Order N\",\n",
    "                           value = 0)\n",
    "interact(pps3, N=slider3)"
   ]
  },
  {
   "cell_type": "markdown",
   "metadata": {
    "editable": true,
    "slideshow": {
     "slide_type": "slide"
    },
    "tags": []
   },
   "source": [
    "## The Dirichlet kernel\n",
    "\n",
    "We plot the Dirichlet Kernel $D_N(x)$ for various $N$:"
   ]
  },
  {
   "cell_type": "code",
   "execution_count": null,
   "metadata": {
    "editable": true,
    "slideshow": {
     "slide_type": "slide"
    },
    "tags": []
   },
   "outputs": [],
   "source": [
    "# Note that there is a (removable) singularity at x = 0.\n",
    "D_N = lambda x, N: np.sin((N+0.5)*x)/np.sin(0.5*x)\n",
    "\n",
    "def plot_dirichlet_kernel(N):\n",
    "    x = np.linspace(-np.pi, np.pi, 10000)\n",
    "    y = D_N(x, N)\n",
    "    plt.plot(x, y)\n",
    "    plt.title(\"Dirichlet kernel $D_N$ for various $N$\")\n",
    "    plt.xlabel(\"x\")\n",
    "    plt.ylabel(\"$D_N(x)$\")\n",
    "    plt.show()\n"
   ]
  },
  {
   "cell_type": "code",
   "execution_count": null,
   "metadata": {
    "editable": true,
    "slideshow": {
     "slide_type": "slide"
    },
    "tags": []
   },
   "outputs": [],
   "source": [
    "slider4 = widgets.IntSlider(min = 0, max = 10, step = 1, description=\"Order N\", value = 1)\n",
    "\n",
    "interact(plot_dirichlet_kernel, N=slider4)"
   ]
  },
  {
   "cell_type": "code",
   "execution_count": null,
   "metadata": {
    "editable": true,
    "slideshow": {
     "slide_type": "slide"
    },
    "tags": []
   },
   "outputs": [],
   "source": [
    "slider5 = widgets.IntSlider(min = 5, max = 100, step = 5, description=\"Order N\", value = 5)\n",
    "\n",
    "interact(plot_dirichlet_kernel, N=slider5)"
   ]
  },
  {
   "cell_type": "code",
   "execution_count": null,
   "metadata": {
    "editable": true,
    "scrolled": true,
    "slideshow": {
     "slide_type": "slide"
    },
    "tags": []
   },
   "outputs": [],
   "source": [
    "for N in [3, 10, 20]:\n",
    "    x = np.linspace(-np.pi, np.pi, 10000)\n",
    "    y = D_N(x, N)\n",
    "    plt.plot(x, y, label=\"N = {}\".format(N))\n",
    "    \n",
    "plt.title(\"Dirichlet kernel $D_N$ for various $N$\")\n",
    "plt.xlabel(\"$x$\")\n",
    "plt.ylabel(\"$D_N(x)$\")\n",
    "plt.legend()\n",
    "plt.show()    "
   ]
  }
 ],
 "metadata": {
  "kernelspec": {
   "display_name": "tma4320_scientific_computation-vlMPykwy",
   "language": "python",
   "name": "python3"
  },
  "language_info": {
   "codemirror_mode": {
    "name": "ipython",
    "version": 3
   },
   "file_extension": ".py",
   "mimetype": "text/x-python",
   "name": "python",
   "nbconvert_exporter": "python",
   "pygments_lexer": "ipython3",
   "version": "3.13.2"
  }
 },
 "nbformat": 4,
 "nbformat_minor": 4
}
