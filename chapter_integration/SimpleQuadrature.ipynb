{
 "cells": [
  {
   "attachments": {},
   "cell_type": "markdown",
   "metadata": {
    "editable": true,
    "slideshow": {
     "slide_type": "slide"
    },
    "tags": []
   },
   "source": [
    "# Numerical integration: Interpolatory quadrature rules\n",
    "\n",
    "As usual we start by importing the some standard boilerplate code."
   ]
  },
  {
   "cell_type": "code",
   "execution_count": 1,
   "metadata": {
    "editable": true,
    "slideshow": {
     "slide_type": "slide"
    },
    "tags": []
   },
   "outputs": [],
   "source": [
    "%matplotlib inline\n",
    "\n",
    "import numpy as np\n",
    "from numpy import pi\n",
    "from math import sqrt\n",
    "from numpy.linalg import solve, norm    # Solve linear systems and compute norms\n",
    "import matplotlib.pyplot as plt\n",
    "import matplotlib.cm as cm\n",
    "\n",
    "newparams = {'figure.figsize': (10.0, 10.0), \n",
    "             'axes.grid': True,\n",
    "             'lines.markersize': 8, \n",
    "             'lines.linewidth': 2,\n",
    "             'font.size': 14}\n",
    "plt.rcParams.update(newparams)\n"
   ]
  },
  {
   "cell_type": "markdown",
   "metadata": {
    "editable": true,
    "slideshow": {
     "slide_type": "slide"
    },
    "tags": []
   },
   "source": [
    "## Introduction\n",
    "Imagine you want to compute the finite integral\n",
    "\n",
    "$$\n",
    "I[f](a,b) = \\int_a^b f(x) {\\,\\mathrm{d}x}.\n",
    "$$\n",
    "\n",
    "The \"usual\" way is to find a primitive function $F$\n",
    "(also known as the indefinite integral of $f$)\n",
    "satisfying $F'(x) = f(x)$ and then to compute\n",
    "\n",
    "$$\n",
    "\\int_a^b f(x) {\\,\\mathrm{d}x} = F(b) - F(a).\n",
    "$$"
   ]
  },
  {
   "cell_type": "markdown",
   "metadata": {
    "editable": true,
    "slideshow": {
     "slide_type": "slide"
    },
    "tags": []
   },
   "source": [
    "While there are many analytical integration techniques and extensive\n",
    "tables to determine definite integral for many integrands,\n",
    "more often than not it may not feasible or possible to compute the\n",
    "integral. For instance, what about\n",
    "\n",
    "$$\n",
    "f(x) = \\dfrac{\\log(2 + \\sin(1/2 - \\sqrt(x))^6)}{\\log(\\pi + \\arctan(\\sqrt{1-\\exp(-2x-\\sin(x)))}}?\n",
    "$$\n",
    "\n",
    "Finding the corresponding primitive is highly likely a hopeless\n",
    "endeavor. And sometimes even innocent looking functions\n",
    "like $e^{-x^2}$ for which there is not primitive functions which\n",
    "can expressed as a composition of standard functions such\n",
    "as $\\sin, \\cos.$ etc."
   ]
  },
  {
   "cell_type": "markdown",
   "metadata": {
    "editable": true,
    "slideshow": {
     "slide_type": "slide"
    },
    "tags": []
   },
   "source": [
    "A **numerical quadrature** or a **quadrature rule** is a formula for\n",
    "approximating such definite integrals $I[f](a,b)$.  Quadrature rules\n",
    "are usually of the form\n",
    "\n",
    "<font color=LightSkyBlue>\n",
    "\n",
    "$$\n",
    "Q[f](a,b) = \\sum_{i=0}^n w_i f(x_i),\n",
    "$$\n",
    "\n",
    "</font>\n",
    "\n",
    "where $x_i$, $w_i$ for $i=0,1,\\dotsc,n$ are respectively the *nodes/points*\n",
    "and the *weights* of the quadrature rule."
   ]
  },
  {
   "cell_type": "markdown",
   "metadata": {
    "editable": true,
    "slideshow": {
     "slide_type": "slide"
    },
    "tags": []
   },
   "source": [
    "To emphasize that a quadrature rule is defined by some given quadrature points\n",
    "$\\{x_i\\}_{i=0}^n$ and weights $\\{w_i\\}_{i=0}^n$, we sometimes might write\n",
    "\n",
    "$$\n",
    "Q[f](\n",
    "\\{x_i\\}_{i=0}^n,\\{w_i\\}_{i=0}^n\n",
    ") = \\sum_{i=0}^n w_i f(x_i).\n",
    "$$\n",
    "\n",
    "\n",
    "If the function $f$ is given from the context, we will for simplicity\n",
    "denote the integral and the quadrature simply as $I(a,b)$ and\n",
    "$Q(a,b)$."
   ]
  },
  {
   "cell_type": "markdown",
   "metadata": {
    "editable": true,
    "slideshow": {
     "slide_type": "slide"
    },
    "tags": []
   },
   "source": [
    "The [trapezoidal rule, the midpoint rule and Simpson's rule](https://wiki.math.ntnu.no/tma4100/tema/numerics?&#numerisk_integrasjon)\n",
    "known from previous courses are all examples of numerical quadratures,\n",
    "and we quickly review them here, in addition to the very simple (and less accurate) left and right endpoint rules."
   ]
  },
  {
   "cell_type": "code",
   "execution_count": 2,
   "metadata": {
    "editable": true,
    "slideshow": {
     "slide_type": "slide"
    },
    "tags": []
   },
   "outputs": [],
   "source": [
    "colors = plt.get_cmap(\"Pastel1\").colors\n",
    "\n",
    "def plot_qr_examples():\n",
    "    f = lambda x : np.exp(x)\n",
    "    fig, axs = plt.subplots(2,2)\n",
    "    fig.set_figheight(8)\n",
    "    # fig.set_figwidth(8)\n",
    "    fig.set_figwidth(fig.get_size_inches()[0]*1.5)\n",
    "    #axs[0].add_axes([0.1, 0.2, 0.8, 0.7])\n",
    "    a, b = -0.5,0.5\n",
    "    l, r = -1.0, 1.0\n",
    "    x_a = np.linspace(a, b, 100)\n",
    "\n",
    "    for raxs in axs:\n",
    "        for ax in raxs:\n",
    "            ax.set_xlim(l, r)\n",
    "            x = np.linspace(l, r, 100)\n",
    "            ax.plot(x, f(x), \"k--\", label=\"$f(x)$\")\n",
    "            ax.fill_between(x_a, f(x_a), alpha=0.1, color='k')\n",
    "            ax.xaxis.set_ticks_position('bottom')\n",
    "            ax.set_xticks([a,b])\n",
    "            ax.set_xticklabels([\"$a$\", \"$b$\"])\n",
    "            ax.set_yticks([])\n",
    "            ax.legend(loc=\"upper center\")\n",
    "\n",
    "    # Left endpoint rule\n",
    "    axs[0,0].bar(a, f(a), b-a, align='edge', color=colors[0])\n",
    "    axs[0,0].plot(a,f(a), 'ko', markersize=\"12\")\n",
    "    axs[0,0].set_title(\"Left endpoint rule\")\n",
    "    axs[0,0].annotate('$f(a)$', \n",
    "             xy=(a, f(a)), xytext=(-10, 10), \n",
    "             textcoords=\"offset points\")\n",
    "\n",
    "    # Right endpoint rule\n",
    "    axs[0,1].bar(a, f(b), b-a, align='edge',  color=colors[1])\n",
    "    axs[0,1].plot(b,f(b), 'ko', markersize=\"15\")\n",
    "    axs[0,1].set_title(\"Right endpoint rule\")\n",
    "    axs[0,1].annotate('$f(b)$', \n",
    "             xy=(b, f(b)), xytext=(-10, 10), \n",
    "             textcoords=\"offset points\")\n",
    "    # Midpoint rule\n",
    "    axs[1,0].bar(a, f((a+b)/2), b-a, align='edge', color=colors[2])\n",
    "    axs[1,0].plot((a+b)/2,f((a+b)/2), 'ko', markersize=\"15\")\n",
    "    axs[1,0].set_title(\"Midpoint rule\")\n",
    "    axs[1,0].annotate('$f((a+b)/2))$', \n",
    "             xy=((a+b)/2, f((a+b)/2)), xytext=(-10, 10), \n",
    "             textcoords=\"offset points\")\n",
    "\n",
    "    # Trapezoidal rule\n",
    "    axs[1,1].set_title(\"Trapezoidal rule\")\n",
    "    axs[1,1].fill_between([a,b], [f(a), f(b)], alpha=0.8, color=colors[4])\n",
    "    axs[1,1].plot([a,b],f([a,b]), 'ko', markersize=\"15\")\n",
    "    axs[1,1].annotate('$f(a)$', \n",
    "             xy=(a, f(a)), xytext=(-10, 10), \n",
    "             textcoords=\"offset points\")\n",
    "    axs[1,1].annotate('$f(b)$', \n",
    "             xy=(b, f(b)), xytext=(-10, 10), \n",
    "             textcoords=\"offset points\")\n",
    "    axs[1,1].annotate('$f(b)$', \n",
    "             xy=(b, f(b)), xytext=(-10, 10), \n",
    "             textcoords=\"offset points\")\n",
    "    "
   ]
  },
  {
   "cell_type": "code",
   "execution_count": 3,
   "metadata": {
    "editable": true,
    "slideshow": {
     "slide_type": "slide"
    },
    "tags": []
   },
   "outputs": [
    {
     "data": {
      "image/png": "[encoded data removed]",
      "text/plain": [
       "<Figure size 1500x800 with 4 Axes>"
      ]
     },
     "metadata": {},
     "output_type": "display_data"
    }
   ],
   "source": [
    "plot_qr_examples()\n"
   ]
  },
  {
   "cell_type": "markdown",
   "metadata": {
    "editable": true,
    "slideshow": {
     "slide_type": "slide"
    },
    "tags": []
   },
   "source": [
    "* **Left and right endpoint rule** are among the simplest possible quadrature rule defined by\n",
    "\n",
    "$$\n",
    "QL[f](a,b) := f(a)(b-a) \\quad \\text{and } \\quad QR[f](a,b) := f(b)(b-a)\n",
    "$$\n",
    "\n",
    "respectively. The (single) quadrature point for $QL[\\cdot]$ and $QR[\\cdot]$ is given by $x_0 = a$ and $x_0 = b$ respectively, and both use the corresponding\n",
    "weight $w_0 = b-a$."
   ]
  },
  {
   "cell_type": "markdown",
   "metadata": {
    "slideshow": {
     "slide_type": "slide"
    }
   },
   "source": [
    "* **Midpoint rule** is the quadrature rule defined by\n",
    "\n",
    "$$\n",
    "Q[f](a,b) := (b-a) f\\left(\\frac{a+b}{2}\\right).\n",
    "$$\n",
    "\n",
    "The node is given by the midpoint, $x_0 = \\tfrac{a+b}{2}$ with the corresponding\n",
    "weight $w_0 = b-a$.\n",
    "\n",
    "$$\n",
    "Q[f](a,b) = w_0 f(x_0)\n",
    "$$"
   ]
  },
  {
   "cell_type": "markdown",
   "metadata": {
    "editable": true,
    "slideshow": {
     "slide_type": "slide"
    },
    "tags": []
   },
   "source": [
    "* **Trapezoidal rule** is given by\n",
    "\n",
    "$$\n",
    "Q[f](a,b) := (b-a)\\left(\\frac{f(a)+f(b)}{2}\\right)\n",
    "$$\n",
    "\n",
    "<font color = green>\n",
    "\n",
    "$ = \\frac{b-a}{2} (f(a) + f(b)) $\n",
    "\n",
    "</font>\n",
    "\n",
    "and thus the nodes are defined by $x_0 = a$, $x_1 = b$ with corresponding\n",
    "weights $w_0 = w_1 = \\tfrac{b-a}{2}$."
   ]
  },
  {
   "cell_type": "markdown",
   "metadata": {
    "editable": true,
    "slideshow": {
     "slide_type": "slide"
    },
    "tags": []
   },
   "source": [
    "* Finally, **Simpson's rule** which you know from Matte 1, is defined as follows:\n",
    "\n",
    "$$\n",
    "Q[f](a,b)=\\frac{b-a}{6}\\left( f(a)+4f\\left( \\frac{a+b}{2}\\right) + f(b)\\right),\n",
    "$$\n",
    "\n",
    "which we identify as quadrature rule with 3 points $x_0 = a, x_1 = \\tfrac{a+b}{2},\n",
    "x_2 = b$ and corresponding weights $w_0 = w_2 = \\tfrac{b-a}{6}$ and $w_1 = \\tfrac{4(b-a)}{6}$."
   ]
  },
  {
   "cell_type": "markdown",
   "metadata": {
    "editable": true,
    "slideshow": {
     "slide_type": "slide"
    },
    "tags": []
   },
   "source": [
    "In this note we will see how quadrature rules can be constructed from\n",
    "integration of interpolation polynomials.  We will demonstrate how to\n",
    "do error analysis and how to find error estimates."
   ]
  },
  {
   "cell_type": "markdown",
   "metadata": {
    "editable": true,
    "slideshow": {
     "slide_type": "slide"
    },
    "tags": []
   },
   "source": [
    "## Quadrature based on polynomial interpolation.\n",
    "This section relies on the content of the note on polynomial\n",
    "interpolation, in particular the section on Lagrange polynomials."
   ]
  },
  {
   "cell_type": "markdown",
   "metadata": {
    "editable": true,
    "slideshow": {
     "slide_type": "slide"
    },
    "tags": []
   },
   "source": [
    "Choose $n+1$ distinct nodes $x_i$, $i=0,\\dotsc,n$ in the interval $[a,b]$, and let $p_n(x)$ be the interpolation polynomial satisfying\n",
    "the interpolation condition\n",
    "\n",
    "$$\n",
    "p_n(x_i) = f(x_i), \\qquad i=0,1,\\ldots n.\n",
    "$$"
   ]
  },
  {
   "cell_type": "markdown",
   "metadata": {
    "editable": true,
    "slideshow": {
     "slide_type": "slide"
    },
    "tags": []
   },
   "source": [
    "We will then use $\\int_a^b p_n(x){\\,\\mathrm{d}x}$ as an approximation to $\\int_a^b\n",
    "f(x){\\,\\mathrm{d}x}$. By using the Lagrange form of the polynomial\n",
    "\n",
    "$$\n",
    "p_n(x) = \\sum_{i=0}^n f(x_i) \\ell_i(x)\n",
    "$$\n",
    "\n",
    "with the cardinal functions $\\ell_i(x)$ given by\n",
    "\n",
    "$$\n",
    "\\ell_i(x) = \\prod_{j=0,j\\not=i}^n \\frac{x-x_j}{x_i-x_j},\n",
    "$$"
   ]
  },
  {
   "cell_type": "markdown",
   "metadata": {
    "editable": true,
    "slideshow": {
     "slide_type": "fragment"
    },
    "tags": []
   },
   "source": [
    "the following quadrature formula is obtained\n",
    "\n",
    "\\begin{align*}\n",
    "I[f](a, b)\n",
    "\\approx\n",
    "Q[f](a,b) &= \\int_a^b p_n(x){\\,\\mathrm{d}x}\n",
    "  \\\\\n",
    "  &= \\sum_{i=0}^n f(x_i) \\int_a^b \\ell_i(x) {\\,\\mathrm{d}x} \n",
    "  = \\sum_{i=0}^n w_i f(x_i) = Q(a,b),\n",
    "\\end{align*}\n",
    "\n",
    "where the weights in the quadrature are simply the integral of the\n",
    "cardinal functions over the interval\n",
    "\n",
    "$$\n",
    "w_i =\\int_a^b \\ell_i(x) {\\,\\mathrm{d}x} \\quad \\text{for } i = 0, \\ldots, n.\n",
    "$$"
   ]
  },
  {
   "cell_type": "markdown",
   "metadata": {
    "slideshow": {
     "slide_type": "slide"
    }
   },
   "source": [
    "Let us derive three schemes for integration over the interval $[0,1]$,\n",
    "which we will finally apply to the integral\n",
    "\n",
    "$$\n",
    "I(0,1) = \\int_0^1 \\cos\\left(\\frac{\\pi}{2}x\\right) = \\frac{2}{\\pi} = 0.636619\\dotsc.\n",
    "$$"
   ]
  },
  {
   "cell_type": "markdown",
   "metadata": {
    "jp-MarkdownHeadingCollapsed": true,
    "slideshow": {
     "slide_type": "slide"
    }
   },
   "source": [
    "Eksempel - The trapezoidal rule revisited:\n",
    "\n",
    "Let $x_0=0$ and $x_1=1$. The cardinal functions and thus the weights are given by\n",
    "\n",
    "\\begin{align*}\n",
    "\\ell_0(x) &= 1-x, & w_0 &= \\int_0^1(1-x){\\,\\mathrm{d}x} = 1/2  \\\\ \n",
    "\\ell_1(x) &= x,   & w_1 &= \\int_0^1 x{\\,\\mathrm{d}x} = 1/2\n",
    "\\end{align*}\n",
    "\n",
    "\n",
    "and the corresponding quadrature rule is the trapezoidal rule (usually\n",
    "denoted by $T$) with $[a,b] = [0,1]$:\n",
    "\n",
    "$$\n",
    "\\mathrm{T}[f](0,1) = \\frac{1}{2} \\left[ f(0) + f(1) \\right].\n",
    "$$"
   ]
  },
  {
   "cell_type": "markdown",
   "metadata": {
    "slideshow": {
     "slide_type": "slide"
    }
   },
   "source": [
    "Eksempel - Gauß-Legendre quadrature for $n=2$:\n",
    "\n",
    "Let $x_0=1/2 + \\sqrt{3}/6$ and $x_1 = 1/2 - \\sqrt{3}/6$. Then\n",
    "\n",
    "\\begin{align*}\n",
    "\\ell_0(x) &= -\\sqrt{3}x + \\frac{1+\\sqrt{3}}{2}, & w_0 &= \\int_0^1 \\ell_0(x){\\,\\mathrm{d}x}=  1/2,  \\\\ \n",
    "\\ell_1(x) &=  \\sqrt{3}x + \\frac{1-\\sqrt{3}}{2}, & w_1 &= \\int_0^1 \\ell_1(x){\\,\\mathrm{d}x} = 1/2.\n",
    "\\end{align*}\n",
    "\n",
    "The quadrature rule is\n",
    "\n",
    "$$\n",
    "\\mathrm{GL}[f](0,1) = \\frac{1}{2}\\left[f\\left(\\frac{1}{2}-\\frac{\\sqrt{3}}{6}\\right) + \n",
    "f\\left(\\frac{1}{2}+\\frac{\\sqrt{3}}{6}\\right) \\right].\n",
    "$$"
   ]
  },
  {
   "cell_type": "markdown",
   "metadata": {
    "slideshow": {
     "slide_type": "slide"
    }
   },
   "source": [
    "Eksempel - Simpson's rule revisited:\n",
    "\n",
    "We construct Simpson's rule on the interval $[0,1]$ by choosing\n",
    "the nodes $x_0=0$, $x_1=0.5$ and $x_2=1$. \n",
    "The corresponding cardinal\n",
    "functions are\n",
    "\n",
    "$$\n",
    "\\ell_0 = 2(x - 0.5)(x-1)\n",
    "\\qquad\n",
    "\\ell_1(x) = 4x(1-x)\n",
    "\\qquad\n",
    "\\ell_2(x) = 2x(x-0.5)\n",
    "$$\n",
    "\n",
    "which gives the weights\n",
    "\n",
    "$$\n",
    "w_0 = \\int_{0}^1 \\ell_0(x){\\,\\mathrm{d}x} = \\frac{1}{6}, \\qquad\n",
    "w_1 = \\int_{0}^1 \\ell_1(x){\\,\\mathrm{d}x} = \\frac{4}{6}, \\qquad\n",
    "w_2 = \\int_{0}^1 \\ell_2(x){\\,\\mathrm{d}x} = \\frac{1}{6}\n",
    "$$\n",
    "\n",
    "such that\n",
    "\n",
    "$$\n",
    "% \\int_{0}^1 f(x) {\\,\\mathrm{d}x} \\approx \\int_{0}^1 p_2(x) {\\,\\mathrm{d}x}\n",
    "%=\n",
    "\\mathrm{S}[F](0,1)\n",
    ":= \\sum_{i=0}^2 w_i f(x_i) = \\frac{1}{6} \\left[\\; f(0) + 4 f(0.5) + f(1) \\; \\right].\n",
    "$$"
   ]
  },
  {
   "cell_type": "markdown",
   "metadata": {
    "slideshow": {
     "slide_type": "slide"
    }
   },
   "source": [
    "Oppgave - Accuracy of some quadrature rules:\n",
    "\n",
    "Use the `QR` function below to compute an approximate value of integral for $f(x)= \\cos\\left(\\frac{\\pi}{2}x\\right)$\n",
    "\n",
    "$$\n",
    "I[f](0,1) = \\int_0^1 \\cos\\left(\\frac{\\pi}{2}x\\right) = \\frac{2}{\\pi} = 0.636619\\dotsc.\n",
    "$$\n",
    "\n",
    "using the quadrature rules just revised.\n",
    "Tabulate the corresponding quadrature errors $I[f](0,1) - Q[f](0,1)$."
   ]
  },
  {
   "cell_type": "markdown",
   "metadata": {},
   "source": [
    "<font color=green>\n",
    "\n",
    "### Implementation\n",
    "\n",
    "</font>"
   ]
  },
  {
   "cell_type": "code",
   "execution_count": 4,
   "metadata": {
    "editable": true,
    "slideshow": {
     "slide_type": "slide"
    },
    "tags": []
   },
   "outputs": [],
   "source": [
    "def QR(f, xq, wq):\n",
    "    \"\"\" Computes an approximation of the integral f\n",
    "    for a given quadrature rule.\n",
    "    \n",
    "    Input:\n",
    "        f:  integrand\n",
    "        xq: list of quadrature nodes\n",
    "        wq: list of quadrature weights\n",
    "    \"\"\"\n",
    "    n = len(xq)\n",
    "    if (n != len(wq)):\n",
    "        raise RuntimeError(\"Error: Need same number of quadrature nodes and weights!\")\n",
    "    return np.array(wq)@f(np.array(xq))\n"
   ]
  },
  {
   "cell_type": "code",
   "execution_count": 14,
   "metadata": {
    "slideshow": {
     "slide_type": "slide"
    }
   },
   "outputs": [
    {
     "name": "stdout",
     "output_type": "stream",
     "text": [
      "I[f] = 6.3661977237e-01\n",
      "\n",
      "\n",
      "Trapezoidal rule:\n",
      "Q[f] = 0.5\n",
      "I[f] - Q[f] = 1.3661977237e-01\n",
      "\n",
      "\n",
      "Gauß-Legendre rule:\n",
      "Q[f] = 0.6356474078605917\n",
      "I[f] - Q[f] = 9.7236450699e-04\n",
      "\n",
      "\n",
      "Simpson's rule:\n",
      "Q[f] = 0.6380711874576983\n",
      "I[f] - Q[f] = -1.4514150901e-03\n",
      "\n",
      "\n"
     ]
    }
   ],
   "source": [
    "# Define function\n",
    "def f(x):\n",
    "    return np.cos(np.pi/2 * x)\n",
    "\n",
    "# Exact integral\n",
    "int_f = 2/pi\n",
    "\n",
    "print(\"I[f] = {:.10e}\".format(int_f))\n",
    "print(\"\\n\")\n",
    "\n",
    "# Trapezoidal rule\n",
    "xq = [0, 1]\n",
    "wq = [1/2, 1/2]\n",
    "\n",
    "qr_f = QR(f, xq, wq)\n",
    "print(\"Trapezoidal rule:\")\n",
    "print(\"Q[f] = {}\".format(qr_f))\n",
    "print(\"I[f] - Q[f] = {:.10e}\".format(int_f - qr_f))\n",
    "print(\"\\n\")\n",
    "\n",
    "# Gauß-Legendre rule\n",
    "xq = [1/2 + sqrt(3)/6, 1/2 - sqrt(3)/6]\n",
    "wq = [1/2, 1/2]\n",
    "\n",
    "qr_f = QR(f, xq, wq)\n",
    "print(\"Gauß-Legendre rule:\")\n",
    "print(\"Q[f] = {}\".format(qr_f))\n",
    "print(\"I[f] - Q[f] = {:.10e}\".format(int_f - qr_f))\n",
    "print(\"\\n\")\n",
    "\n",
    "# Simpson's rule\n",
    "xq = [0, 1/2, 1]\n",
    "wq = [1/6, 4/6, 1/6]\n",
    "\n",
    "qr_f = QR(f, xq, wq)\n",
    "print(\"Simpson's rule:\")\n",
    "print(\"Q[f] = {}\".format(qr_f))\n",
    "print(\"I[f] - Q[f] = {:.10e}\".format(int_f - qr_f))\n",
    "print(\"\\n\")\n"
   ]
  },
  {
   "cell_type": "markdown",
   "metadata": {
    "slideshow": {
     "slide_type": "slide"
    }
   },
   "source": [
    "We observe that with the same number of quadrature points,\n",
    "the Gauß-Legendre quadrature gives a much more accurate answer\n",
    "then the trapezoidal rule. So the choice of nodes clearly matters.\n",
    "Simpon's rule gives very similar results\n",
    "to Gauß-Legendre quadrature, but it uses 3 instead of 2 quadrature nodes.\n",
    "The quadrature rules which based on polynomial interpolation\n",
    "and *equidistributed quadrature nodes* go under the\n",
    "name **Newton Cotes formulas** (see below)."
   ]
  },
  {
   "cell_type": "markdown",
   "metadata": {
    "editable": true,
    "slideshow": {
     "slide_type": "slide"
    },
    "tags": []
   },
   "source": [
    "## Degree of exactness and an estimate of the quadrature error\n",
    "Motivated by the previous examples, we now take a closer look at how to\n",
    "assess the quality of a method. We start with the following definition."
   ]
  },
  {
   "cell_type": "markdown",
   "metadata": {
    "editable": true,
    "slideshow": {
     "slide_type": "slide"
    },
    "tags": []
   },
   "source": [
    "Definisjon - The degree of exactness (presisjonsgrad):\n",
    "\n",
    "<font color = Orchid>\n",
    "\n",
    "A numerical quadrature has degree of exactness $d$ if $Q[p](a,b) =\n",
    "I[p](a,b)$ for all $p \\in \\mathbb{P}_d$ and there is at least one\n",
    "$p\\in \\mathbb{P}_{d+1}$ such that $Q[p](a,b) \\not= I[p](a,b)$.\n",
    "\n",
    "</font>"
   ]
  },
  {
   "cell_type": "markdown",
   "metadata": {
    "editable": true,
    "slideshow": {
     "slide_type": "slide"
    },
    "tags": []
   },
   "source": [
    "Since both integrals and quadratures are linear in the integrand $f$,\n",
    "the degree of exactness is $d$ if\n",
    "\n",
    "\\begin{align*}\n",
    "I[x^j](a,b) &= Q[x^j](a,b), \\qquad j=0,1,\\dotsc, d, \\\\ \n",
    "I[x^{d+1}](a,b) &\\not= Q[x^{d+1}](a,b).\n",
    "\\end{align*}"
   ]
  },
  {
   "cell_type": "markdown",
   "metadata": {
    "slideshow": {
     "slide_type": "slide"
    }
   },
   "source": [
    "<font color=Orchid>All quadratures constructed from Lagrange interpolation polynomials in\n",
    "$n+1$ distinct nodes will automatically have a degree of exactness of **at least** $n$.</font>\n",
    "This follows immediately from the fact the interpolation polynomial\n",
    "$p_n \\in \\mathbb{P}_n$ of any polynomial $q \\in \\mathbb{P}_n$ is just the original\n",
    "polynomial $q$ itself. But sometimes the degree of exactness can be even higher\n",
    "as the next exercise shows!"
   ]
  },
  {
   "cell_type": "markdown",
   "metadata": {
    "slideshow": {
     "slide_type": "slide"
    }
   },
   "source": [
    "Oppgave - Degree of exactness for some quadrature rules:\n",
    "\n",
    "* What is the degree of exactness for the left and right endpoint rule from `exa-known-qr-rules`?\n",
    "\n",
    "* What is the degree of exactness for the trapezoidal and midpoint rule from `exa-known-qr-rules`?\n",
    "\n",
    "* What is the degree of exactness for Gauß-Legendre quadrature for 2 points from `exa:gauss-legend-quad`?\n",
    "\n",
    "* What is the degree of exactness for Simpson's rule from `exa-simpson-rule`?"
   ]
  },
  {
   "cell_type": "markdown",
   "metadata": {
    "editable": true,
    "slideshow": {
     "slide_type": "slide"
    },
    "tags": []
   },
   "source": [
    "We test the degree of exactness for each of theses quadratures by\n",
    "  * computing the exact integral $I[x^n](0,1) = \\int_0^1 x^n dx$ for let's say $n=0,1,2,3,4$\n",
    "  * computing the corresponding numerical integral $Q[x^n](0,1)$ using the given quadrature rule.\n",
    "  * look at the difference $I[x^n](0,1) - Q[x^n](0,1)$ for each of the quadrature rules.\n",
    "  \n",
    "You can start from the code outline below."
   ]
  },
  {
   "cell_type": "markdown",
   "metadata": {
    "editable": true,
    "slideshow": {
     "slide_type": "slide"
    },
    "tags": []
   },
   "source": [
    "$$\n",
    "EL[f](0, 1) = 1 \\cdot f(0), \\quad ER[f](0, 1) = 1 \\cdot f(1),\n",
    "$$\n",
    "\n",
    "$$\n",
    "M[f](0,1)= 1 \\cdot f(\\tfrac{1}{2}), \\quad T[f](0,1) = \\frac{1}{2} \\left[f(0) + f(1) \\right].\n",
    "$$\n",
    "\n",
    "$$\n",
    "GL(0,1) = \\frac{1}{2}\\left[f\\left(\\frac{1}{2}-\\frac{\\sqrt{3}}{6}\\right) + \n",
    "f\\left(\\frac{1}{2}+\\frac{\\sqrt{3}}{6}\\right) \\right],\n",
    "\\quad S(0,1) = \\frac{1}{6} \\left[f(0) + 4 f(0.5) + f(1) \\right].\n",
    "$$"
   ]
  },
  {
   "cell_type": "code",
   "execution_count": 19,
   "metadata": {
    "editable": true,
    "slideshow": {
     "slide_type": "slide"
    },
    "tags": []
   },
   "outputs": [
    {
     "name": "stdout",
     "output_type": "stream",
     "text": [
      "===========================================\n",
      "Testing degree of exactness for n = 0\n",
      "-------------------------------------------\n",
      "Testing left endpoint rule\n",
      "Q[f] = 1\n",
      "I[f] - Q[f] = 0.0000000000000000e+00\n",
      "-------------------------------------------\n",
      "Testing right endpoint rule\n",
      "Q[f] = 1\n",
      "I[f] - Q[f] = 0.0000000000000000e+00\n",
      "-------------------------------------------\n",
      "Testing trapezoidal rule\n",
      "Q[f] = 1.0\n",
      "I[f] - Q[f] = 0.0000000000000000e+00\n",
      "-------------------------------------------\n",
      "Testing midpoint rule\n",
      "Q[f] = 1.0\n",
      "I[f] - Q[f] = 0.0000000000000000e+00\n",
      "-------------------------------------------\n",
      "Testing Gauß-Legendre rule\n",
      "Q[f] = 1.0\n",
      "I[f] - Q[f] = 0.0000000000000000e+00\n",
      "-------------------------------------------\n",
      "Testing Simpson's rule\n",
      "Q[f] = 0.9999999999999999\n",
      "I[f] - Q[f] = 1.1102230246251565e-16\n",
      "===========================================\n",
      "Testing degree of exactness for n = 1\n",
      "-------------------------------------------\n",
      "Testing left endpoint rule\n",
      "Q[f] = 0\n",
      "I[f] - Q[f] = 5.0000000000000000e-01\n",
      "-------------------------------------------\n",
      "Testing right endpoint rule\n",
      "Q[f] = 1\n",
      "I[f] - Q[f] = -5.0000000000000000e-01\n",
      "-------------------------------------------\n",
      "Testing trapezoidal rule\n",
      "Q[f] = 0.5\n",
      "I[f] - Q[f] = 0.0000000000000000e+00\n",
      "-------------------------------------------\n",
      "Testing midpoint rule\n",
      "Q[f] = 0.5\n",
      "I[f] - Q[f] = 0.0000000000000000e+00\n",
      "-------------------------------------------\n",
      "Testing Gauß-Legendre rule\n",
      "Q[f] = 0.5\n",
      "I[f] - Q[f] = 0.0000000000000000e+00\n",
      "-------------------------------------------\n",
      "Testing Simpson's rule\n",
      "Q[f] = 0.5\n",
      "I[f] - Q[f] = 0.0000000000000000e+00\n",
      "===========================================\n",
      "Testing degree of exactness for n = 2\n",
      "-------------------------------------------\n",
      "Testing left endpoint rule\n",
      "Q[f] = 0\n",
      "I[f] - Q[f] = 3.3333333333333331e-01\n",
      "-------------------------------------------\n",
      "Testing right endpoint rule\n",
      "Q[f] = 1\n",
      "I[f] - Q[f] = -6.6666666666666674e-01\n",
      "-------------------------------------------\n",
      "Testing trapezoidal rule\n",
      "Q[f] = 0.5\n",
      "I[f] - Q[f] = -1.6666666666666669e-01\n",
      "-------------------------------------------\n",
      "Testing midpoint rule\n",
      "Q[f] = 0.25\n",
      "I[f] - Q[f] = 8.3333333333333315e-02\n",
      "-------------------------------------------\n",
      "Testing Gauß-Legendre rule\n",
      "Q[f] = 0.33333333333333337\n",
      "I[f] - Q[f] = -5.5511151231257827e-17\n",
      "-------------------------------------------\n",
      "Testing Simpson's rule\n",
      "Q[f] = 0.3333333333333333\n",
      "I[f] - Q[f] = 0.0000000000000000e+00\n",
      "===========================================\n",
      "Testing degree of exactness for n = 3\n",
      "-------------------------------------------\n",
      "Testing left endpoint rule\n",
      "Q[f] = 0\n",
      "I[f] - Q[f] = 2.5000000000000000e-01\n",
      "-------------------------------------------\n",
      "Testing right endpoint rule\n",
      "Q[f] = 1\n",
      "I[f] - Q[f] = -7.5000000000000000e-01\n",
      "-------------------------------------------\n",
      "Testing trapezoidal rule\n",
      "Q[f] = 0.5\n",
      "I[f] - Q[f] = -2.5000000000000000e-01\n",
      "-------------------------------------------\n",
      "Testing midpoint rule\n",
      "Q[f] = 0.125\n",
      "I[f] - Q[f] = 1.2500000000000000e-01\n",
      "-------------------------------------------\n",
      "Testing Gauß-Legendre rule\n",
      "Q[f] = 0.24999999999999997\n",
      "I[f] - Q[f] = 2.7755575615628914e-17\n",
      "-------------------------------------------\n",
      "Testing Simpson's rule\n",
      "Q[f] = 0.25\n",
      "I[f] - Q[f] = 0.0000000000000000e+00\n",
      "===========================================\n",
      "Testing degree of exactness for n = 4\n",
      "-------------------------------------------\n",
      "Testing left endpoint rule\n",
      "Q[f] = 0\n",
      "I[f] - Q[f] = 2.0000000000000001e-01\n",
      "-------------------------------------------\n",
      "Testing right endpoint rule\n",
      "Q[f] = 1\n",
      "I[f] - Q[f] = -8.0000000000000004e-01\n",
      "-------------------------------------------\n",
      "Testing trapezoidal rule\n",
      "Q[f] = 0.5\n",
      "I[f] - Q[f] = -2.9999999999999999e-01\n",
      "-------------------------------------------\n",
      "Testing midpoint rule\n",
      "Q[f] = 0.0625\n",
      "I[f] - Q[f] = 1.3750000000000001e-01\n",
      "-------------------------------------------\n",
      "Testing Gauß-Legendre rule\n",
      "Q[f] = 0.19444444444444445\n",
      "I[f] - Q[f] = 5.5555555555555636e-03\n",
      "-------------------------------------------\n",
      "Testing Simpson's rule\n",
      "Q[f] = 0.20833333333333331\n",
      "I[f] - Q[f] = -8.3333333333333037e-03\n"
     ]
    }
   ],
   "source": [
    "from collections import namedtuple\n",
    "qr_tuple = namedtuple(\"qr_tuple\", [\"name\", \"xq\", \"wq\"])\n",
    "\n",
    "quadrature_rules =  [\n",
    "    qr_tuple(name = \"left endpoint rule\", xq=[0], wq=[1]), \n",
    "    qr_tuple(name = \"right endpoint rule\", xq=[1], wq=[1]),\n",
    "    qr_tuple(name = \"trapezoidal rule\", xq=[0, 1], wq=[1/2, 1/2]),\n",
    "    qr_tuple(name = \"midpoint rule\", xq=[1/2], wq=[1]),\n",
    "    qr_tuple(name = \"Gauß-Legendre rule\", xq=[1/2 + sqrt(3)/6, 1/2 - sqrt(3)/6], wq=[1/2, 1/2]),\n",
    "    qr_tuple(name = \"Simpson's rule\", xq=[0, 1/2, 1], wq=[1/6, 4/6, 1/6])\n",
    "]\n",
    "\n",
    "# n defines maximal monomial powers you want to test\n",
    "for n in range(5):\n",
    "    \n",
    "    print(\"===========================================\")\n",
    "    print(f\"Testing degree of exactness for n = {n}\")\n",
    "\n",
    "    # Define function\n",
    "    def f(x):\n",
    "        return x**n\n",
    "\n",
    "    # Exact integral\n",
    "    int_f = 1./(n+1)\n",
    "\n",
    "    for qr in quadrature_rules:\n",
    "        print(\"-------------------------------------------\")\n",
    "        print(f\"Testing {qr.name}\")\n",
    "\n",
    "        qr_f = QR(f, qr.xq, qr.wq)\n",
    "        print(f\"Q[f] = {qr_f}\")\n",
    "        print(f\"I[f] - Q[f] = {int_f - qr_f:.16e}\")\n"
   ]
  },
  {
   "cell_type": "markdown",
   "metadata": {},
   "source": [
    "Left endpoint rule: d = 0\n",
    "\n",
    "Right endpoint rule: d = 0\n",
    "\n",
    "Trapezoidal rule: d = 1\n",
    "\n",
    "Midpoint rule: d = 1\n",
    "\n",
    "Gauß-Legendre rule: d = 3 (feilen på 2.7755575615628914e-17 er numerisk avrundingsfeil, er i praksis 0)\n",
    "\n",
    "Simpson's rule: d = 3"
   ]
  },
  {
   "cell_type": "markdown",
   "metadata": {
    "editable": true,
    "slideshow": {
     "slide_type": "slide"
    },
    "tags": []
   },
   "source": [
    "## Estimates for the quadrature error"
   ]
  },
  {
   "attachments": {},
   "cell_type": "markdown",
   "metadata": {
    "slideshow": {
     "slide_type": "slide"
    }
   },
   "source": [
    "Teorem - Error estimate for quadrature rule with degree of exactness $n$:\n",
    "\n",
    "Assume that $f \\in C^{n+1}(a,b)$ and\n",
    "let $Q[\\cdot](\\{x_i\\}_{i=0}^n, \\{w_i\\}_{i=0}^n)$\n",
    "be a quadrature rule which has degree of exactness\n",
    "$n$.\n",
    "Then the quadrature error  $|I[f]-Q[f]|$ can be estimated by\n",
    "\n",
    "<font color=LightSkyBlue>\n",
    "\n",
    "$$\n",
    "|I[f]-Q[f]| \\leqslant \\frac{M}{(n+1)!}\\int_a^b \\prod_{i=0}^n |x-x_i|{\\,\\mathrm{d}x}\n",
    "$$\n",
    "\n",
    "</font>\n",
    "\n",
    "where $M=\\max_{\\xi \\in [a,b]} |f^{n+1}(\\xi)|$."
   ]
  },
  {
   "attachments": {},
   "cell_type": "markdown",
   "metadata": {
    "slideshow": {
     "slide_type": "slide"
    }
   },
   "source": [
    "Bevis:\n",
    "Let $p_n \\in \\mathbb{P}_n$ be the interpolation polynomial satisfying\n",
    "$p_n(x_i) = f(x_i)$ for $i=0,\\ldots,n$.\n",
    "Thanks to the error estimate for the interpolation error, we know that\n",
    "\n",
    "$$\n",
    "f(x)-p_n(x)=\\frac{f^{n+1}(\\xi(x))}{(n+1)!}\\prod_{k=0}^{n}(x-x_{k}).\n",
    "$$\n",
    "\n",
    "for some $\\xi(x) \\in (a,b)$.\n",
    "Since $Q(a,b)$ has degree of exactness $n$ we have $I[p_n] = Q[p_n] = Q[f]$\n",
    "and thus\n",
    "\n",
    "\n",
    "\\begin{align*}\n",
    "|I[f]-Q[f]|\n",
    "=\n",
    "|I[f]-I[p_n]|\n",
    "&\\leqslant\n",
    "\\int_a^b\n",
    "|f(x)-p_n(x)| {\\,\\mathrm{d}x}\n",
    "\\\\ \n",
    "&=\n",
    "\\int_a^b\n",
    "\\Biggl|\n",
    "\\frac{f^{n+1}(\\xi(x))}{(n+1)!}\\prod_{k=0}^{n}(x-x_{k})\n",
    "\\Biggr| {\\,\\mathrm{d}x}\n",
    "\\\\\n",
    "&\\leqslant\n",
    "\\frac{M}{(n+1)!}\n",
    "\\int_a^b\n",
    "\\prod_{k=0}^{n}|(x-x_{k})|\n",
    "{\\,\\mathrm{d}x},\n",
    "\\end{align*}\n",
    "\n",
    "which concludes the proof."
   ]
  },
  {
   "cell_type": "markdown",
   "metadata": {
    "editable": true,
    "slideshow": {
     "slide_type": "slide"
    },
    "tags": []
   },
   "source": [
    "The advantage of the previous theorem is\n",
    "that it is easy to prove.\n",
    "On downside is that the provided estimate can be rather\n",
    "crude, and often sharper estimates can be established.\n",
    "We give two examples here of some sharper estimates\n",
    "(but without proof)."
   ]
  },
  {
   "cell_type": "markdown",
   "metadata": {
    "editable": true,
    "slideshow": {
     "slide_type": "slide"
    },
    "tags": []
   },
   "source": [
    "Teorem - Error estimate for the trapezoidal rule:\n",
    "\n",
    "For the trapezoidal rule, there is a $\\xi \\in (a,b)$ such that\n",
    "\n",
    "<font color=LightSkyBlue>\n",
    "\n",
    "$$\n",
    "I[f]-Q[f]=\\frac{(b-a)^3}{12}f''(\\xi).\n",
    "$$\n",
    "\n",
    "</font>"
   ]
  },
  {
   "cell_type": "markdown",
   "metadata": {
    "editable": true,
    "slideshow": {
     "slide_type": "slide"
    },
    "tags": []
   },
   "source": [
    "Teorem - Error estimate for Simpson's rule:\n",
    "\n",
    "For Simpson's rule, there is a $\\xi \\in (a,b)$ such that\n",
    "\n",
    "<font color=LightSkyBlue>\n",
    "\n",
    "$$\n",
    "I[f]-Q[f]=-\\frac{(b-a)^5}{2880} f^4(\\xi).\n",
    "$$\n",
    "\n",
    "</font>"
   ]
  },
  {
   "cell_type": "markdown",
   "metadata": {
    "editable": true,
    "slideshow": {
     "slide_type": "slide"
    },
    "tags": []
   },
   "source": [
    "## Newton-Cotes formulas\n",
    "\n",
    "We have already seen that *given* $n+1$ distinct but\n",
    "otherwise arbitrary quadrature\n",
    "nodes $\\{x_i\\}_{i=0}^n \\subset [a,b]$, we can construct\n",
    "a quadrature rule\n",
    "$\n",
    "\\mathrm{Q}[\\cdot](\\{x_i\\}_{i=0}^{n+1},\\{w_i\\}_{i=0}^{n+1})\n",
    "$\n",
    "based on polynomial interpolation\n",
    "which has degree of exactness equals to $n$.\n",
    "\n",
    "An classical example was the trapezoidal rule,\n",
    "which are based on the\n",
    "two quadrature points $x_0=a$ and $x_1=b$\n",
    "and which has degree of exactness equal\n",
    "to $1$.\n",
    "\n",
    "The trapezoidal is the simplest example of a quadrature formula \n",
    "which belongs to the so-called **Newton Cotes formulas**."
   ]
  },
  {
   "cell_type": "markdown",
   "metadata": {
    "editable": true,
    "slideshow": {
     "slide_type": "slide"
    },
    "tags": []
   },
   "source": [
    "<font color=Orchid>By definition, **Newton-Cotes formulas** are quadrature rules\n",
    "which are based on **equidistributed nodes**\n",
    "$\\{x_i\\}_{i=0}^n \\subset [a,b]$\n",
    "and have degree of exactness equals to $n$.</font>\n",
    "\n",
    "The simplest choices here --- the\n",
    "*closed* Newton-Cotes methods --- use the nodes\n",
    "$x_i = a + ih$ with $h = (b-a)/n$. Examples of these are the Trapezoidal rule and Simpson's rule.\n",
    "The main appeal of these rules is the simple definition of the nodes.\n",
    "\n",
    "<font color=Orchid>\n",
    "\n",
    "If $n$ is odd, the Newton-Cotes method with $n+1$ nodes has degree of precision $n$;\n",
    "if $n$ is even, it has degree of precision $n+1$. The corresponding convergence order\n",
    "for the composite rule is, as for all such rules, one larger than the degree of precision,\n",
    "provided that the function $f$ is sufficiently smooth.\n",
    "\n",
    "</font>"
   ]
  },
  {
   "cell_type": "markdown",
   "metadata": {
    "editable": true,
    "slideshow": {
     "slide_type": "slide"
    },
    "tags": []
   },
   "source": [
    "However, for $n \\ge 8$ negative weights begin to appear in the definitions.\n",
    "Note that for a positive function $f(x) \\geqslant 0$\n",
    "we have that the integral $I[f](a,b) \\geqslant 0$\n",
    "But for a quadrature rule with negative weights \n",
    "**we have not necessarily that $Q[f](a,b) \\geqslant 0$!**\n",
    "This has the undesired effect that the numerical integral of a positive function\n",
    "can be negative. \n",
    "\n",
    "In addition, this can lead to cancellation errors in the\n",
    "numerical evaluation, which may result in a lower practical accuracy.\n",
    "Since the rules with $n=6$ and $n=7$ yield the same convergence order,\n",
    "this mean that it is mostly the rules with $n \\le 6$ that are used in practice."
   ]
  },
  {
   "cell_type": "markdown",
   "metadata": {
    "editable": true,
    "slideshow": {
     "slide_type": "slide"
    },
    "tags": []
   },
   "source": [
    "The *open* Newton-Cotes methods, in contrast, use the nodes \n",
    "$x_i = a + (i+1/2)h$ with $h = (b-a)/(n+1)$. The simplest example here\n",
    "is the midpoint rule.\n",
    "Here negative weights appear already for $n \\ge 2$. Thus the midpoint rule\n",
    "is the only such rule that is commonly used in applications."
   ]
  }
 ],
 "metadata": {
  "celltoolbar": "Slideshow",
  "jupytext": {
   "formats": "ipynb,md:myst"
  },
  "kernelspec": {
   "display_name": "Python 3",
   "language": "python",
   "name": "python3"
  },
  "language_info": {
   "codemirror_mode": {
    "name": "ipython",
    "version": 3
   },
   "file_extension": ".py",
   "mimetype": "text/x-python",
   "name": "python",
   "nbconvert_exporter": "python",
   "pygments_lexer": "ipython3",
   "version": "3.11.9"
  }
 },
 "nbformat": 4,
 "nbformat_minor": 4
}
